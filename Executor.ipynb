{
 "cells": [
  {
   "cell_type": "code",
   "execution_count": 4,
   "id": "cd74d308",
   "metadata": {
    "pycharm": {
     "name": "#%%\n"
    }
   },
   "outputs": [],
   "source": [
    "import os\n",
    "import pandas as pd\n",
    "from flask import Flask\n",
    "app = Flask(__name__)\n",
    "import sys"
   ]
  },
  {
   "cell_type": "code",
   "execution_count": null,
   "id": "7fb4a06e",
   "metadata": {
    "pycharm": {
     "name": "#%%\n"
    }
   },
   "outputs": [],
   "source": [
    "def executeFunc(a,organ):\n",
    "    df1 = pd.read_csv('mapping.csv')\n",
    "    organFiles = df1[df1['Organ'] == organ]\n",
    "    chiapet = organFiles['peekachu']\n",
    "    eqtl = organFiles['gtex']\n",
    "    eqtlHelp = organFiles['getxHelper']\n",
    "    os.system('python3 chiaPet-Analysis.py '+a +' '+ chiapet.values[0] )\n",
    "    os.system('python3 enhancer-gene-distanceBased.py '+a+' & python3 eQTL-Aanalysis.py '+a+' '+eqtl.values[0] +' '+eqtlHelp.values[0] )\n",
    "    os.system('python3 mergeMethods.py '+a)\n"
   ]
  },
  {
   "cell_type": "code",
   "execution_count": 3,
   "id": "17235076",
   "metadata": {
    "pycharm": {
     "name": "#%%\n"
    }
   },
   "outputs": [],
   "source": [
    "@app.route('/user/<username>/<filename>')\n",
    "def show_user(username,filename):\n",
    "    executeFunc(username,filename)\n",
    "   \n",
    "  #returns the username\n",
    "    return 'Username: %s' % username"
   ]
  },
  {
   "cell_type": "code",
   "execution_count": 4,
   "id": "cb8eb4fa",
   "metadata": {
    "pycharm": {
     "name": "#%%\n"
    }
   },
   "outputs": [
    {
     "name": "stdout",
     "output_type": "stream",
     "text": [
      "running the plots ['/storage/bin/anaconda3/envs/yudeep/lib/python3.9/site-packages/ipykernel_launcher.py', '-f', '/home/yudeep_rajbhandari1@baylor.edu/.local/share/jupyter/runtime/kernel-f5b219bf-acc1-4118-a135-22404419aad3.json']\n"
     ]
    }
   ],
   "source": []
  },
  {
   "cell_type": "code",
   "execution_count": null,
   "id": "4a407e58",
   "metadata": {
    "pycharm": {
     "name": "#%%\n"
    }
   },
   "outputs": [],
   "source": [
    "# os.system('python3 mergeMethods.py '+a)"
   ]
  }
 ],
 "metadata": {
  "kernelspec": {
   "display_name": "Python 3 (ipykernel)",
   "language": "python",
   "name": "python3"
  },
  "language_info": {
   "codemirror_mode": {
    "name": "ipython",
    "version": 3
   },
   "file_extension": ".py",
   "mimetype": "text/x-python",
   "name": "python",
   "nbconvert_exporter": "python",
   "pygments_lexer": "ipython3",
   "version": "3.6.15"
  }
 },
 "nbformat": 4,
 "nbformat_minor": 5
}