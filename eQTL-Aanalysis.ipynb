{
 "cells": [
  {
   "cell_type": "code",
   "execution_count": 1,
   "id": "a0bf3546",
   "metadata": {
    "pycharm": {
     "name": "#%%\n"
    }
   },
   "outputs": [],
   "source": [
    "import pandas as pd\n",
    "from pybedtools import BedTool\n",
    "from pybedtools.featurefuncs import TSS\n",
    "import os"
   ]
  },
  {
   "cell_type": "code",
   "execution_count": 1,
   "id": "64b258d7",
   "metadata": {
    "pycharm": {
     "name": "#%%\n"
    }
   },
   "outputs": [
    {
     "name": "stdout",
     "output_type": "stream",
     "text": [
      "processing Chiapet ['/storage/bin/anaconda3/envs/yudeep/lib/python3.9/site-packages/ipykernel_launcher.py', '-f', '/home/yudeep_rajbhandari1@baylor.edu/.local/share/jupyter/runtime/kernel-b706c871-6c2b-4f98-895b-1762e49f5631.json']\n"
     ]
    }
   ],
   "source": [
    "import sys\n",
    "args = sys.argv  # a list of the arguments provided (str)\n",
    "print(\"processing eqtl\", args)\n",
    "rawBed= args[1]\n",
    "file = args[2]\n",
    "fileHelp = args[3]"
   ]
  },
  {
   "cell_type": "code",
   "execution_count": 2,
   "id": "73ab24a4",
   "metadata": {
    "pycharm": {
     "name": "#%%\n"
    }
   },
   "outputs": [],
   "source": [
    "df1 = pd.read_csv('GTEx_Analysis_v8_eQTL/'+file, sep='\\t')"
   ]
  },
  {
   "cell_type": "code",
   "execution_count": 3,
   "id": "180dca92",
   "metadata": {
    "pycharm": {
     "name": "#%%\n"
    }
   },
   "outputs": [
    {
     "data": {
      "text/html": [
       "<div>\n",
       "<style scoped>\n",
       "    .dataframe tbody tr th:only-of-type {\n",
       "        vertical-align: middle;\n",
       "    }\n",
       "\n",
       "    .dataframe tbody tr th {\n",
       "        vertical-align: top;\n",
       "    }\n",
       "\n",
       "    .dataframe thead th {\n",
       "        text-align: right;\n",
       "    }\n",
       "</style>\n",
       "<table border=\"1\" class=\"dataframe\">\n",
       "  <thead>\n",
       "    <tr style=\"text-align: right;\">\n",
       "      <th></th>\n",
       "      <th>variant_id</th>\n",
       "      <th>gene_id</th>\n",
       "      <th>tss_distance</th>\n",
       "      <th>ma_samples</th>\n",
       "      <th>ma_count</th>\n",
       "      <th>maf</th>\n",
       "      <th>pval_nominal</th>\n",
       "      <th>slope</th>\n",
       "      <th>slope_se</th>\n",
       "      <th>pval_nominal_threshold</th>\n",
       "      <th>min_pval_nominal</th>\n",
       "      <th>pval_beta</th>\n",
       "    </tr>\n",
       "  </thead>\n",
       "  <tbody>\n",
       "    <tr>\n",
       "      <th>0</th>\n",
       "      <td>chr1_64764_C_T_b38</td>\n",
       "      <td>ENSG00000227232.5</td>\n",
       "      <td>35211</td>\n",
       "      <td>47</td>\n",
       "      <td>48</td>\n",
       "      <td>0.062016</td>\n",
       "      <td>0.000003</td>\n",
       "      <td>0.600208</td>\n",
       "      <td>0.126761</td>\n",
       "      <td>0.000299</td>\n",
       "      <td>0.000002</td>\n",
       "      <td>0.001462</td>\n",
       "    </tr>\n",
       "    <tr>\n",
       "      <th>1</th>\n",
       "      <td>chr1_665098_G_A_b38</td>\n",
       "      <td>ENSG00000227232.5</td>\n",
       "      <td>635545</td>\n",
       "      <td>87</td>\n",
       "      <td>91</td>\n",
       "      <td>0.117571</td>\n",
       "      <td>0.000002</td>\n",
       "      <td>0.468369</td>\n",
       "      <td>0.096095</td>\n",
       "      <td>0.000299</td>\n",
       "      <td>0.000002</td>\n",
       "      <td>0.001462</td>\n",
       "    </tr>\n",
       "    <tr>\n",
       "      <th>2</th>\n",
       "      <td>chr1_666028_G_A_b38</td>\n",
       "      <td>ENSG00000227232.5</td>\n",
       "      <td>636475</td>\n",
       "      <td>76</td>\n",
       "      <td>80</td>\n",
       "      <td>0.103359</td>\n",
       "      <td>0.000011</td>\n",
       "      <td>0.450967</td>\n",
       "      <td>0.101154</td>\n",
       "      <td>0.000299</td>\n",
       "      <td>0.000002</td>\n",
       "      <td>0.001462</td>\n",
       "    </tr>\n",
       "    <tr>\n",
       "      <th>3</th>\n",
       "      <td>chr1_64931_G_A_b38</td>\n",
       "      <td>ENSG00000268903.1</td>\n",
       "      <td>-70964</td>\n",
       "      <td>48</td>\n",
       "      <td>53</td>\n",
       "      <td>0.068475</td>\n",
       "      <td>0.000065</td>\n",
       "      <td>0.461347</td>\n",
       "      <td>0.113963</td>\n",
       "      <td>0.000259</td>\n",
       "      <td>0.000007</td>\n",
       "      <td>0.005910</td>\n",
       "    </tr>\n",
       "    <tr>\n",
       "      <th>4</th>\n",
       "      <td>chr1_108826_G_C_b38</td>\n",
       "      <td>ENSG00000268903.1</td>\n",
       "      <td>-27069</td>\n",
       "      <td>29</td>\n",
       "      <td>29</td>\n",
       "      <td>0.037468</td>\n",
       "      <td>0.000007</td>\n",
       "      <td>0.737364</td>\n",
       "      <td>0.161353</td>\n",
       "      <td>0.000259</td>\n",
       "      <td>0.000007</td>\n",
       "      <td>0.005910</td>\n",
       "    </tr>\n",
       "  </tbody>\n",
       "</table>\n",
       "</div>"
      ],
      "text/plain": [
       "            variant_id            gene_id  tss_distance  ma_samples  ma_count  \\\n",
       "0   chr1_64764_C_T_b38  ENSG00000227232.5         35211          47        48   \n",
       "1  chr1_665098_G_A_b38  ENSG00000227232.5        635545          87        91   \n",
       "2  chr1_666028_G_A_b38  ENSG00000227232.5        636475          76        80   \n",
       "3   chr1_64931_G_A_b38  ENSG00000268903.1        -70964          48        53   \n",
       "4  chr1_108826_G_C_b38  ENSG00000268903.1        -27069          29        29   \n",
       "\n",
       "        maf  pval_nominal     slope  slope_se  pval_nominal_threshold  \\\n",
       "0  0.062016      0.000003  0.600208  0.126761                0.000299   \n",
       "1  0.117571      0.000002  0.468369  0.096095                0.000299   \n",
       "2  0.103359      0.000011  0.450967  0.101154                0.000299   \n",
       "3  0.068475      0.000065  0.461347  0.113963                0.000259   \n",
       "4  0.037468      0.000007  0.737364  0.161353                0.000259   \n",
       "\n",
       "   min_pval_nominal  pval_beta  \n",
       "0          0.000002   0.001462  \n",
       "1          0.000002   0.001462  \n",
       "2          0.000002   0.001462  \n",
       "3          0.000007   0.005910  \n",
       "4          0.000007   0.005910  "
      ]
     },
     "execution_count": 3,
     "metadata": {},
     "output_type": "execute_result"
    }
   ],
   "source": [
    "df1.head()"
   ]
  },
  {
   "cell_type": "code",
   "execution_count": 4,
   "id": "b01b8715",
   "metadata": {
    "pycharm": {
     "name": "#%%\n"
    }
   },
   "outputs": [],
   "source": [
    "def startPosition(df):\n",
    "    return df.variant_id.split('_')[1]"
   ]
  },
  {
   "cell_type": "code",
   "execution_count": 5,
   "id": "b311a7c6",
   "metadata": {
    "pycharm": {
     "name": "#%%\n"
    }
   },
   "outputs": [],
   "source": [
    "def endPosition(df):\n",
    "    return int(df.start)+1"
   ]
  },
  {
   "cell_type": "code",
   "execution_count": 6,
   "id": "1833c12f",
   "metadata": {
    "pycharm": {
     "name": "#%%\n"
    }
   },
   "outputs": [],
   "source": [
    "def chrom(df):\n",
    "    return df.variant_id.split('_')[0]"
   ]
  },
  {
   "cell_type": "code",
   "execution_count": 7,
   "id": "3442a5b5",
   "metadata": {
    "pycharm": {
     "name": "#%%\n"
    }
   },
   "outputs": [],
   "source": [
    "def geneIDNorm(df):\n",
    "    return df.gene_id.split('.')[0]"
   ]
  },
  {
   "cell_type": "code",
   "execution_count": 8,
   "id": "53d29555",
   "metadata": {
    "scrolled": true,
    "pycharm": {
     "name": "#%%\n"
    }
   },
   "outputs": [],
   "source": [
    "df1['start'] = df1.apply(startPosition,axis=1)\n",
    "df1['end'] = df1.apply(endPosition,axis = 1)\n",
    "df1['chrom'] = df1.apply(chrom,axis=1)"
   ]
  },
  {
   "cell_type": "code",
   "execution_count": null,
   "id": "473a0b53",
   "metadata": {
    "pycharm": {
     "name": "#%%\n"
    }
   },
   "outputs": [],
   "source": []
  },
  {
   "cell_type": "code",
   "execution_count": 9,
   "id": "9097ef59",
   "metadata": {
    "pycharm": {
     "name": "#%%\n"
    }
   },
   "outputs": [],
   "source": [
    "df2 = df1[['chrom','start','end','gene_id','pval_nominal']]"
   ]
  },
  {
   "cell_type": "code",
   "execution_count": null,
   "id": "e6776b24",
   "metadata": {
    "pycharm": {
     "name": "#%%\n"
    }
   },
   "outputs": [],
   "source": []
  },
  {
   "cell_type": "code",
   "execution_count": 10,
   "id": "80002f7d",
   "metadata": {
    "scrolled": false,
    "pycharm": {
     "name": "#%%\n"
    }
   },
   "outputs": [
    {
     "data": {
      "text/html": [
       "<div>\n",
       "<style scoped>\n",
       "    .dataframe tbody tr th:only-of-type {\n",
       "        vertical-align: middle;\n",
       "    }\n",
       "\n",
       "    .dataframe tbody tr th {\n",
       "        vertical-align: top;\n",
       "    }\n",
       "\n",
       "    .dataframe thead th {\n",
       "        text-align: right;\n",
       "    }\n",
       "</style>\n",
       "<table border=\"1\" class=\"dataframe\">\n",
       "  <thead>\n",
       "    <tr style=\"text-align: right;\">\n",
       "      <th></th>\n",
       "      <th>chrom</th>\n",
       "      <th>start</th>\n",
       "      <th>end</th>\n",
       "      <th>gene_id</th>\n",
       "      <th>pval_nominal</th>\n",
       "    </tr>\n",
       "  </thead>\n",
       "  <tbody>\n",
       "    <tr>\n",
       "      <th>0</th>\n",
       "      <td>chr1</td>\n",
       "      <td>14677</td>\n",
       "      <td>14678</td>\n",
       "      <td>ENSG00000228463.9</td>\n",
       "      <td>1.226320e-06</td>\n",
       "    </tr>\n",
       "    <tr>\n",
       "      <th>1</th>\n",
       "      <td>chr1</td>\n",
       "      <td>591154</td>\n",
       "      <td>591155</td>\n",
       "      <td>ENSG00000225630.1</td>\n",
       "      <td>1.439870e-05</td>\n",
       "    </tr>\n",
       "    <tr>\n",
       "      <th>2</th>\n",
       "      <td>chr1</td>\n",
       "      <td>1449049</td>\n",
       "      <td>1449050</td>\n",
       "      <td>ENSG00000225630.1</td>\n",
       "      <td>5.029090e-07</td>\n",
       "    </tr>\n",
       "    <tr>\n",
       "      <th>3</th>\n",
       "      <td>chr1</td>\n",
       "      <td>1624723</td>\n",
       "      <td>1624724</td>\n",
       "      <td>ENSG00000225630.1</td>\n",
       "      <td>2.697290e-05</td>\n",
       "    </tr>\n",
       "    <tr>\n",
       "      <th>4</th>\n",
       "      <td>chr1</td>\n",
       "      <td>915107</td>\n",
       "      <td>915108</td>\n",
       "      <td>ENSG00000229376.3</td>\n",
       "      <td>3.795720e-06</td>\n",
       "    </tr>\n",
       "  </tbody>\n",
       "</table>\n",
       "</div>"
      ],
      "text/plain": [
       "  chrom    start      end            gene_id  pval_nominal\n",
       "0  chr1    14677    14678  ENSG00000228463.9  1.226320e-06\n",
       "1  chr1   591154   591155  ENSG00000225630.1  1.439870e-05\n",
       "2  chr1  1449049  1449050  ENSG00000225630.1  5.029090e-07\n",
       "3  chr1  1624723  1624724  ENSG00000225630.1  2.697290e-05\n",
       "4  chr1   915107   915108  ENSG00000229376.3  3.795720e-06"
      ]
     },
     "execution_count": 10,
     "metadata": {},
     "output_type": "execute_result"
    }
   ],
   "source": [
    "df2.head()"
   ]
  },
  {
   "cell_type": "code",
   "execution_count": 11,
   "id": "120af053",
   "metadata": {
    "scrolled": true,
    "pycharm": {
     "name": "#%%\n"
    }
   },
   "outputs": [],
   "source": [
    "df2 = df2.sort_values(by=['chrom','end'],ascending=True)"
   ]
  },
  {
   "cell_type": "code",
   "execution_count": 12,
   "id": "8571427e",
   "metadata": {
    "pycharm": {
     "name": "#%%\n"
    }
   },
   "outputs": [],
   "source": [
    "new_header = df2.iloc[0] \n",
    "df2 = df2[1:] \n",
    "df2.columns = new_header \n"
   ]
  },
  {
   "cell_type": "code",
   "execution_count": 13,
   "id": "2768d8db",
   "metadata": {
    "scrolled": true,
    "pycharm": {
     "name": "#%%\n"
    }
   },
   "outputs": [
    {
     "data": {
      "text/html": [
       "<div>\n",
       "<style scoped>\n",
       "    .dataframe tbody tr th:only-of-type {\n",
       "        vertical-align: middle;\n",
       "    }\n",
       "\n",
       "    .dataframe tbody tr th {\n",
       "        vertical-align: top;\n",
       "    }\n",
       "\n",
       "    .dataframe thead th {\n",
       "        text-align: right;\n",
       "    }\n",
       "</style>\n",
       "<table border=\"1\" class=\"dataframe\">\n",
       "  <thead>\n",
       "    <tr style=\"text-align: right;\">\n",
       "      <th></th>\n",
       "      <th>chr1</th>\n",
       "      <th>14677</th>\n",
       "      <th>14678</th>\n",
       "      <th>ENSG00000228463.9</th>\n",
       "      <th>1.22632e-06</th>\n",
       "    </tr>\n",
       "  </thead>\n",
       "  <tbody>\n",
       "    <tr>\n",
       "      <th>5</th>\n",
       "      <td>chr1</td>\n",
       "      <td>267754</td>\n",
       "      <td>267755</td>\n",
       "      <td>ENSG00000228327.3</td>\n",
       "      <td>4.397950e-05</td>\n",
       "    </tr>\n",
       "    <tr>\n",
       "      <th>1</th>\n",
       "      <td>chr1</td>\n",
       "      <td>591154</td>\n",
       "      <td>591155</td>\n",
       "      <td>ENSG00000225630.1</td>\n",
       "      <td>1.439870e-05</td>\n",
       "    </tr>\n",
       "    <tr>\n",
       "      <th>9</th>\n",
       "      <td>chr1</td>\n",
       "      <td>727034</td>\n",
       "      <td>727035</td>\n",
       "      <td>ENSG00000228794.8</td>\n",
       "      <td>3.880630e-07</td>\n",
       "    </tr>\n",
       "    <tr>\n",
       "      <th>10</th>\n",
       "      <td>chr1</td>\n",
       "      <td>727242</td>\n",
       "      <td>727243</td>\n",
       "      <td>ENSG00000228794.8</td>\n",
       "      <td>1.347760e-06</td>\n",
       "    </tr>\n",
       "    <tr>\n",
       "      <th>11</th>\n",
       "      <td>chr1</td>\n",
       "      <td>727477</td>\n",
       "      <td>727478</td>\n",
       "      <td>ENSG00000228794.8</td>\n",
       "      <td>2.645260e-05</td>\n",
       "    </tr>\n",
       "    <tr>\n",
       "      <th>12</th>\n",
       "      <td>chr1</td>\n",
       "      <td>758351</td>\n",
       "      <td>758352</td>\n",
       "      <td>ENSG00000228794.8</td>\n",
       "      <td>1.119820e-06</td>\n",
       "    </tr>\n",
       "    <tr>\n",
       "      <th>13</th>\n",
       "      <td>chr1</td>\n",
       "      <td>758443</td>\n",
       "      <td>758444</td>\n",
       "      <td>ENSG00000228794.8</td>\n",
       "      <td>7.161080e-07</td>\n",
       "    </tr>\n",
       "    <tr>\n",
       "      <th>82</th>\n",
       "      <td>chr1</td>\n",
       "      <td>769577</td>\n",
       "      <td>769578</td>\n",
       "      <td>ENSG00000225880.5</td>\n",
       "      <td>1.860920e-07</td>\n",
       "    </tr>\n",
       "    <tr>\n",
       "      <th>83</th>\n",
       "      <td>chr1</td>\n",
       "      <td>769579</td>\n",
       "      <td>769580</td>\n",
       "      <td>ENSG00000225880.5</td>\n",
       "      <td>1.860920e-07</td>\n",
       "    </tr>\n",
       "    <tr>\n",
       "      <th>84</th>\n",
       "      <td>chr1</td>\n",
       "      <td>775571</td>\n",
       "      <td>775572</td>\n",
       "      <td>ENSG00000225880.5</td>\n",
       "      <td>1.777780e-08</td>\n",
       "    </tr>\n",
       "  </tbody>\n",
       "</table>\n",
       "</div>"
      ],
      "text/plain": [
       "0   chr1   14677   14678  ENSG00000228463.9   1.22632e-06\n",
       "5   chr1  267754  267755  ENSG00000228327.3  4.397950e-05\n",
       "1   chr1  591154  591155  ENSG00000225630.1  1.439870e-05\n",
       "9   chr1  727034  727035  ENSG00000228794.8  3.880630e-07\n",
       "10  chr1  727242  727243  ENSG00000228794.8  1.347760e-06\n",
       "11  chr1  727477  727478  ENSG00000228794.8  2.645260e-05\n",
       "12  chr1  758351  758352  ENSG00000228794.8  1.119820e-06\n",
       "13  chr1  758443  758444  ENSG00000228794.8  7.161080e-07\n",
       "82  chr1  769577  769578  ENSG00000225880.5  1.860920e-07\n",
       "83  chr1  769579  769580  ENSG00000225880.5  1.860920e-07\n",
       "84  chr1  775571  775572  ENSG00000225880.5  1.777780e-08"
      ]
     },
     "execution_count": 13,
     "metadata": {},
     "output_type": "execute_result"
    }
   ],
   "source": [
    "df2.head(10)"
   ]
  },
  {
   "cell_type": "code",
   "execution_count": 14,
   "id": "fd17a866",
   "metadata": {
    "pycharm": {
     "name": "#%%\n"
    }
   },
   "outputs": [],
   "source": [
    "df2.to_csv('temp1.bed', sep=\"\\t\",index=False)"
   ]
  },
  {
   "cell_type": "code",
   "execution_count": 15,
   "id": "2f91c935",
   "metadata": {
    "pycharm": {
     "name": "#%%\n"
    }
   },
   "outputs": [],
   "source": [
    "df3 = pd.read_csv('temp1.bed',sep = '\\t')"
   ]
  },
  {
   "cell_type": "code",
   "execution_count": 16,
   "id": "63d2fb48",
   "metadata": {
    "pycharm": {
     "name": "#%%\n"
    }
   },
   "outputs": [
    {
     "data": {
      "text/html": [
       "<div>\n",
       "<style scoped>\n",
       "    .dataframe tbody tr th:only-of-type {\n",
       "        vertical-align: middle;\n",
       "    }\n",
       "\n",
       "    .dataframe tbody tr th {\n",
       "        vertical-align: top;\n",
       "    }\n",
       "\n",
       "    .dataframe thead th {\n",
       "        text-align: right;\n",
       "    }\n",
       "</style>\n",
       "<table border=\"1\" class=\"dataframe\">\n",
       "  <thead>\n",
       "    <tr style=\"text-align: right;\">\n",
       "      <th></th>\n",
       "      <th>chr1</th>\n",
       "      <th>14677</th>\n",
       "      <th>14678</th>\n",
       "      <th>ENSG00000228463.9</th>\n",
       "      <th>1.22632e-06</th>\n",
       "    </tr>\n",
       "  </thead>\n",
       "  <tbody>\n",
       "    <tr>\n",
       "      <th>0</th>\n",
       "      <td>chr1</td>\n",
       "      <td>267754</td>\n",
       "      <td>267755</td>\n",
       "      <td>ENSG00000228327.3</td>\n",
       "      <td>4.397950e-05</td>\n",
       "    </tr>\n",
       "    <tr>\n",
       "      <th>1</th>\n",
       "      <td>chr1</td>\n",
       "      <td>591154</td>\n",
       "      <td>591155</td>\n",
       "      <td>ENSG00000225630.1</td>\n",
       "      <td>1.439870e-05</td>\n",
       "    </tr>\n",
       "    <tr>\n",
       "      <th>2</th>\n",
       "      <td>chr1</td>\n",
       "      <td>727034</td>\n",
       "      <td>727035</td>\n",
       "      <td>ENSG00000228794.8</td>\n",
       "      <td>3.880630e-07</td>\n",
       "    </tr>\n",
       "    <tr>\n",
       "      <th>3</th>\n",
       "      <td>chr1</td>\n",
       "      <td>727242</td>\n",
       "      <td>727243</td>\n",
       "      <td>ENSG00000228794.8</td>\n",
       "      <td>1.347760e-06</td>\n",
       "    </tr>\n",
       "    <tr>\n",
       "      <th>4</th>\n",
       "      <td>chr1</td>\n",
       "      <td>727477</td>\n",
       "      <td>727478</td>\n",
       "      <td>ENSG00000228794.8</td>\n",
       "      <td>2.645260e-05</td>\n",
       "    </tr>\n",
       "  </tbody>\n",
       "</table>\n",
       "</div>"
      ],
      "text/plain": [
       "   chr1   14677   14678  ENSG00000228463.9   1.22632e-06\n",
       "0  chr1  267754  267755  ENSG00000228327.3  4.397950e-05\n",
       "1  chr1  591154  591155  ENSG00000225630.1  1.439870e-05\n",
       "2  chr1  727034  727035  ENSG00000228794.8  3.880630e-07\n",
       "3  chr1  727242  727243  ENSG00000228794.8  1.347760e-06\n",
       "4  chr1  727477  727478  ENSG00000228794.8  2.645260e-05"
      ]
     },
     "execution_count": 16,
     "metadata": {},
     "output_type": "execute_result"
    }
   ],
   "source": [
    "df3.head()"
   ]
  },
  {
   "cell_type": "code",
   "execution_count": 17,
   "id": "b6914036",
   "metadata": {
    "pycharm": {
     "name": "#%%\n"
    }
   },
   "outputs": [],
   "source": [
    "def getClosestgeneWithinDistance(enhancer,genes,distance,num):\n",
    "    snp = BedTool(enhancer)\n",
    "    gene = BedTool(genes)\n",
    "    gene.sort()  \n",
    "    nearby = snp.closest(gene, d=True,k=num, output='tempEQTL.bed')\n",
    "    dfSNP = pd.read_csv(enhancer, sep='\\t', header=None)\n",
    "    dfGene = pd.read_csv(genes, sep='\\t', header=None)\n",
    "    df1 = pd.read_csv('tempEQTL.bed', sep='\\t', header=None)\n",
    "    df1 = df1[(df1[len(df1.columns)-1].between(-distance, distance))]\n",
    "    \n",
    "    df1.drop(columns=df1.columns[5:len(dfSNP.columns)], \n",
    "        axis=1, \n",
    "        inplace=True)\n",
    "    print(df1.head())\n",
    "    df1.drop(columns=df1.columns[9:len(dfGene.columns)+4], \n",
    "        axis=1, \n",
    "        inplace=True)\n",
    "    os.remove('tempEQTL.bed')\n",
    "    return df1"
   ]
  },
  {
   "cell_type": "code",
   "execution_count": 18,
   "id": "84f4e088",
   "metadata": {
    "scrolled": true,
    "pycharm": {
     "name": "#%%\n"
    }
   },
   "outputs": [
    {
     "name": "stdout",
     "output_type": "stream",
     "text": [
      "     0       1       2                  3             4     5       6   \\\n",
      "0  chr1   14677   14678  ENSG00000228463.9  1.226320e-06  chr1  104896   \n",
      "1  chr1  267754  267755  ENSG00000228327.3  4.397950e-05  chr1  267925   \n",
      "2  chr1  591154  591155  ENSG00000225630.1  1.439870e-05  chr1  586036   \n",
      "3  chr1  727034  727035  ENSG00000228794.8  3.880630e-07  chr1  727121   \n",
      "4  chr1  727242  727243  ENSG00000228794.8  1.347760e-06  chr1  727121   \n",
      "\n",
      "       7             8   9  10      11      12           13            14  \\\n",
      "0  105048  EH38E2776520   0  .  104896  105048  140,140,140  Unclassified   \n",
      "1  268171  EH38E2776528   0  .  267925  268171  140,140,140  Unclassified   \n",
      "2  586264  EH38E2776532   0  .  586036  586264  140,140,140  Unclassified   \n",
      "3  727350  EH38E2776536   0  .  727121  727350  140,140,140  Unclassified   \n",
      "4  727350  EH38E2776536   0  .  727121  727350  140,140,140  Unclassified   \n",
      "\n",
      "                                    15     16  \n",
      "0  Missing-data/Partial-classification  90219  \n",
      "1  Missing-data/Partial-classification    171  \n",
      "2  Missing-data/Partial-classification   4891  \n",
      "3  Missing-data/Partial-classification     87  \n",
      "4  Missing-data/Partial-classification      0  \n"
     ]
    }
   ],
   "source": [
    "allBed = getClosestgeneWithinDistance('temp1.bed',rawBed,1000000,1)"
   ]
  },
  {
   "cell_type": "code",
   "execution_count": 19,
   "id": "7a08cd98",
   "metadata": {
    "pycharm": {
     "name": "#%%\n"
    }
   },
   "outputs": [
    {
     "data": {
      "text/html": [
       "<div>\n",
       "<style scoped>\n",
       "    .dataframe tbody tr th:only-of-type {\n",
       "        vertical-align: middle;\n",
       "    }\n",
       "\n",
       "    .dataframe tbody tr th {\n",
       "        vertical-align: top;\n",
       "    }\n",
       "\n",
       "    .dataframe thead th {\n",
       "        text-align: right;\n",
       "    }\n",
       "</style>\n",
       "<table border=\"1\" class=\"dataframe\">\n",
       "  <thead>\n",
       "    <tr style=\"text-align: right;\">\n",
       "      <th></th>\n",
       "      <th>0</th>\n",
       "      <th>1</th>\n",
       "      <th>2</th>\n",
       "      <th>3</th>\n",
       "      <th>4</th>\n",
       "      <th>5</th>\n",
       "      <th>6</th>\n",
       "      <th>7</th>\n",
       "      <th>8</th>\n",
       "      <th>15</th>\n",
       "      <th>16</th>\n",
       "    </tr>\n",
       "  </thead>\n",
       "  <tbody>\n",
       "    <tr>\n",
       "      <th>0</th>\n",
       "      <td>chr1</td>\n",
       "      <td>14677</td>\n",
       "      <td>14678</td>\n",
       "      <td>ENSG00000228463.9</td>\n",
       "      <td>1.226320e-06</td>\n",
       "      <td>chr1</td>\n",
       "      <td>104896</td>\n",
       "      <td>105048</td>\n",
       "      <td>EH38E2776520</td>\n",
       "      <td>Missing-data/Partial-classification</td>\n",
       "      <td>90219</td>\n",
       "    </tr>\n",
       "    <tr>\n",
       "      <th>1</th>\n",
       "      <td>chr1</td>\n",
       "      <td>267754</td>\n",
       "      <td>267755</td>\n",
       "      <td>ENSG00000228327.3</td>\n",
       "      <td>4.397950e-05</td>\n",
       "      <td>chr1</td>\n",
       "      <td>267925</td>\n",
       "      <td>268171</td>\n",
       "      <td>EH38E2776528</td>\n",
       "      <td>Missing-data/Partial-classification</td>\n",
       "      <td>171</td>\n",
       "    </tr>\n",
       "    <tr>\n",
       "      <th>2</th>\n",
       "      <td>chr1</td>\n",
       "      <td>591154</td>\n",
       "      <td>591155</td>\n",
       "      <td>ENSG00000225630.1</td>\n",
       "      <td>1.439870e-05</td>\n",
       "      <td>chr1</td>\n",
       "      <td>586036</td>\n",
       "      <td>586264</td>\n",
       "      <td>EH38E2776532</td>\n",
       "      <td>Missing-data/Partial-classification</td>\n",
       "      <td>4891</td>\n",
       "    </tr>\n",
       "    <tr>\n",
       "      <th>3</th>\n",
       "      <td>chr1</td>\n",
       "      <td>727034</td>\n",
       "      <td>727035</td>\n",
       "      <td>ENSG00000228794.8</td>\n",
       "      <td>3.880630e-07</td>\n",
       "      <td>chr1</td>\n",
       "      <td>727121</td>\n",
       "      <td>727350</td>\n",
       "      <td>EH38E2776536</td>\n",
       "      <td>Missing-data/Partial-classification</td>\n",
       "      <td>87</td>\n",
       "    </tr>\n",
       "    <tr>\n",
       "      <th>4</th>\n",
       "      <td>chr1</td>\n",
       "      <td>727242</td>\n",
       "      <td>727243</td>\n",
       "      <td>ENSG00000228794.8</td>\n",
       "      <td>1.347760e-06</td>\n",
       "      <td>chr1</td>\n",
       "      <td>727121</td>\n",
       "      <td>727350</td>\n",
       "      <td>EH38E2776536</td>\n",
       "      <td>Missing-data/Partial-classification</td>\n",
       "      <td>0</td>\n",
       "    </tr>\n",
       "  </tbody>\n",
       "</table>\n",
       "</div>"
      ],
      "text/plain": [
       "     0       1       2                  3             4     5       6   \\\n",
       "0  chr1   14677   14678  ENSG00000228463.9  1.226320e-06  chr1  104896   \n",
       "1  chr1  267754  267755  ENSG00000228327.3  4.397950e-05  chr1  267925   \n",
       "2  chr1  591154  591155  ENSG00000225630.1  1.439870e-05  chr1  586036   \n",
       "3  chr1  727034  727035  ENSG00000228794.8  3.880630e-07  chr1  727121   \n",
       "4  chr1  727242  727243  ENSG00000228794.8  1.347760e-06  chr1  727121   \n",
       "\n",
       "       7             8                                    15     16  \n",
       "0  105048  EH38E2776520  Missing-data/Partial-classification  90219  \n",
       "1  268171  EH38E2776528  Missing-data/Partial-classification    171  \n",
       "2  586264  EH38E2776532  Missing-data/Partial-classification   4891  \n",
       "3  727350  EH38E2776536  Missing-data/Partial-classification     87  \n",
       "4  727350  EH38E2776536  Missing-data/Partial-classification      0  "
      ]
     },
     "execution_count": 19,
     "metadata": {},
     "output_type": "execute_result"
    }
   ],
   "source": [
    "allBed.head()"
   ]
  },
  {
   "cell_type": "code",
   "execution_count": 20,
   "id": "6fd62fb5",
   "metadata": {
    "scrolled": false,
    "pycharm": {
     "name": "#%%\n"
    }
   },
   "outputs": [
    {
     "data": {
      "text/plain": [
       "629688"
      ]
     },
     "execution_count": 20,
     "metadata": {},
     "output_type": "execute_result"
    }
   ],
   "source": [
    "len(allBed)"
   ]
  },
  {
   "cell_type": "code",
   "execution_count": null,
   "id": "a931fc48",
   "metadata": {
    "pycharm": {
     "name": "#%%\n"
    }
   },
   "outputs": [],
   "source": []
  },
  {
   "cell_type": "code",
   "execution_count": 21,
   "id": "8e492852",
   "metadata": {
    "pycharm": {
     "name": "#%%\n"
    }
   },
   "outputs": [],
   "source": [
    "allBed = allBed[allBed[16] <= 100 ]"
   ]
  },
  {
   "cell_type": "code",
   "execution_count": 22,
   "id": "21d39d0a",
   "metadata": {
    "pycharm": {
     "name": "#%%\n"
    }
   },
   "outputs": [
    {
     "data": {
      "text/html": [
       "<div>\n",
       "<style scoped>\n",
       "    .dataframe tbody tr th:only-of-type {\n",
       "        vertical-align: middle;\n",
       "    }\n",
       "\n",
       "    .dataframe tbody tr th {\n",
       "        vertical-align: top;\n",
       "    }\n",
       "\n",
       "    .dataframe thead th {\n",
       "        text-align: right;\n",
       "    }\n",
       "</style>\n",
       "<table border=\"1\" class=\"dataframe\">\n",
       "  <thead>\n",
       "    <tr style=\"text-align: right;\">\n",
       "      <th></th>\n",
       "      <th>0</th>\n",
       "      <th>1</th>\n",
       "      <th>2</th>\n",
       "      <th>3</th>\n",
       "      <th>4</th>\n",
       "      <th>5</th>\n",
       "      <th>6</th>\n",
       "      <th>7</th>\n",
       "      <th>8</th>\n",
       "      <th>15</th>\n",
       "      <th>16</th>\n",
       "    </tr>\n",
       "  </thead>\n",
       "  <tbody>\n",
       "    <tr>\n",
       "      <th>3</th>\n",
       "      <td>chr1</td>\n",
       "      <td>727034</td>\n",
       "      <td>727035</td>\n",
       "      <td>ENSG00000228794.8</td>\n",
       "      <td>3.880630e-07</td>\n",
       "      <td>chr1</td>\n",
       "      <td>727121</td>\n",
       "      <td>727350</td>\n",
       "      <td>EH38E2776536</td>\n",
       "      <td>Missing-data/Partial-classification</td>\n",
       "      <td>87</td>\n",
       "    </tr>\n",
       "    <tr>\n",
       "      <th>4</th>\n",
       "      <td>chr1</td>\n",
       "      <td>727242</td>\n",
       "      <td>727243</td>\n",
       "      <td>ENSG00000228794.8</td>\n",
       "      <td>1.347760e-06</td>\n",
       "      <td>chr1</td>\n",
       "      <td>727121</td>\n",
       "      <td>727350</td>\n",
       "      <td>EH38E2776536</td>\n",
       "      <td>Missing-data/Partial-classification</td>\n",
       "      <td>0</td>\n",
       "    </tr>\n",
       "    <tr>\n",
       "      <th>13</th>\n",
       "      <td>chr1</td>\n",
       "      <td>778534</td>\n",
       "      <td>778535</td>\n",
       "      <td>ENSG00000225880.5</td>\n",
       "      <td>4.881370e-11</td>\n",
       "      <td>chr1</td>\n",
       "      <td>778570</td>\n",
       "      <td>778919</td>\n",
       "      <td>EH38E2776539</td>\n",
       "      <td>Missing-data/Partial-classification</td>\n",
       "      <td>36</td>\n",
       "    </tr>\n",
       "    <tr>\n",
       "      <th>14</th>\n",
       "      <td>chr1</td>\n",
       "      <td>778639</td>\n",
       "      <td>778640</td>\n",
       "      <td>ENSG00000225880.5</td>\n",
       "      <td>2.996770e-07</td>\n",
       "      <td>chr1</td>\n",
       "      <td>778570</td>\n",
       "      <td>778919</td>\n",
       "      <td>EH38E2776539</td>\n",
       "      <td>Missing-data/Partial-classification</td>\n",
       "      <td>0</td>\n",
       "    </tr>\n",
       "    <tr>\n",
       "      <th>15</th>\n",
       "      <td>chr1</td>\n",
       "      <td>778705</td>\n",
       "      <td>778706</td>\n",
       "      <td>ENSG00000225880.5</td>\n",
       "      <td>2.653800e-08</td>\n",
       "      <td>chr1</td>\n",
       "      <td>778570</td>\n",
       "      <td>778919</td>\n",
       "      <td>EH38E2776539</td>\n",
       "      <td>Missing-data/Partial-classification</td>\n",
       "      <td>0</td>\n",
       "    </tr>\n",
       "  </tbody>\n",
       "</table>\n",
       "</div>"
      ],
      "text/plain": [
       "      0       1       2                  3             4     5       6   \\\n",
       "3   chr1  727034  727035  ENSG00000228794.8  3.880630e-07  chr1  727121   \n",
       "4   chr1  727242  727243  ENSG00000228794.8  1.347760e-06  chr1  727121   \n",
       "13  chr1  778534  778535  ENSG00000225880.5  4.881370e-11  chr1  778570   \n",
       "14  chr1  778639  778640  ENSG00000225880.5  2.996770e-07  chr1  778570   \n",
       "15  chr1  778705  778706  ENSG00000225880.5  2.653800e-08  chr1  778570   \n",
       "\n",
       "        7             8                                    15  16  \n",
       "3   727350  EH38E2776536  Missing-data/Partial-classification  87  \n",
       "4   727350  EH38E2776536  Missing-data/Partial-classification   0  \n",
       "13  778919  EH38E2776539  Missing-data/Partial-classification  36  \n",
       "14  778919  EH38E2776539  Missing-data/Partial-classification   0  \n",
       "15  778919  EH38E2776539  Missing-data/Partial-classification   0  "
      ]
     },
     "execution_count": 22,
     "metadata": {},
     "output_type": "execute_result"
    }
   ],
   "source": [
    "allBed.head()"
   ]
  },
  {
   "cell_type": "code",
   "execution_count": 23,
   "id": "5a0dbaef",
   "metadata": {
    "pycharm": {
     "name": "#%%\n"
    }
   },
   "outputs": [
    {
     "data": {
      "text/plain": [
       "129732"
      ]
     },
     "execution_count": 23,
     "metadata": {},
     "output_type": "execute_result"
    }
   ],
   "source": [
    "len(allBed)"
   ]
  },
  {
   "cell_type": "code",
   "execution_count": 24,
   "id": "ff393192",
   "metadata": {
    "pycharm": {
     "name": "#%%\n"
    }
   },
   "outputs": [],
   "source": [
    "allBed = allBed.sort_values(by=[15,0],ascending=True)"
   ]
  },
  {
   "cell_type": "code",
   "execution_count": 25,
   "id": "44d60339",
   "metadata": {
    "scrolled": true,
    "pycharm": {
     "name": "#%%\n"
    }
   },
   "outputs": [
    {
     "data": {
      "text/html": [
       "<div>\n",
       "<style scoped>\n",
       "    .dataframe tbody tr th:only-of-type {\n",
       "        vertical-align: middle;\n",
       "    }\n",
       "\n",
       "    .dataframe tbody tr th {\n",
       "        vertical-align: top;\n",
       "    }\n",
       "\n",
       "    .dataframe thead th {\n",
       "        text-align: right;\n",
       "    }\n",
       "</style>\n",
       "<table border=\"1\" class=\"dataframe\">\n",
       "  <thead>\n",
       "    <tr style=\"text-align: right;\">\n",
       "      <th></th>\n",
       "      <th>0</th>\n",
       "      <th>1</th>\n",
       "      <th>2</th>\n",
       "      <th>3</th>\n",
       "      <th>4</th>\n",
       "      <th>5</th>\n",
       "      <th>6</th>\n",
       "      <th>7</th>\n",
       "      <th>8</th>\n",
       "      <th>15</th>\n",
       "      <th>16</th>\n",
       "    </tr>\n",
       "  </thead>\n",
       "  <tbody>\n",
       "    <tr>\n",
       "      <th>3</th>\n",
       "      <td>chr1</td>\n",
       "      <td>727034</td>\n",
       "      <td>727035</td>\n",
       "      <td>ENSG00000228794.8</td>\n",
       "      <td>3.880630e-07</td>\n",
       "      <td>chr1</td>\n",
       "      <td>727121</td>\n",
       "      <td>727350</td>\n",
       "      <td>EH38E2776536</td>\n",
       "      <td>Missing-data/Partial-classification</td>\n",
       "      <td>87</td>\n",
       "    </tr>\n",
       "    <tr>\n",
       "      <th>4</th>\n",
       "      <td>chr1</td>\n",
       "      <td>727242</td>\n",
       "      <td>727243</td>\n",
       "      <td>ENSG00000228794.8</td>\n",
       "      <td>1.347760e-06</td>\n",
       "      <td>chr1</td>\n",
       "      <td>727121</td>\n",
       "      <td>727350</td>\n",
       "      <td>EH38E2776536</td>\n",
       "      <td>Missing-data/Partial-classification</td>\n",
       "      <td>0</td>\n",
       "    </tr>\n",
       "    <tr>\n",
       "      <th>13</th>\n",
       "      <td>chr1</td>\n",
       "      <td>778534</td>\n",
       "      <td>778535</td>\n",
       "      <td>ENSG00000225880.5</td>\n",
       "      <td>4.881370e-11</td>\n",
       "      <td>chr1</td>\n",
       "      <td>778570</td>\n",
       "      <td>778919</td>\n",
       "      <td>EH38E2776539</td>\n",
       "      <td>Missing-data/Partial-classification</td>\n",
       "      <td>36</td>\n",
       "    </tr>\n",
       "    <tr>\n",
       "      <th>14</th>\n",
       "      <td>chr1</td>\n",
       "      <td>778639</td>\n",
       "      <td>778640</td>\n",
       "      <td>ENSG00000225880.5</td>\n",
       "      <td>2.996770e-07</td>\n",
       "      <td>chr1</td>\n",
       "      <td>778570</td>\n",
       "      <td>778919</td>\n",
       "      <td>EH38E2776539</td>\n",
       "      <td>Missing-data/Partial-classification</td>\n",
       "      <td>0</td>\n",
       "    </tr>\n",
       "    <tr>\n",
       "      <th>15</th>\n",
       "      <td>chr1</td>\n",
       "      <td>778705</td>\n",
       "      <td>778706</td>\n",
       "      <td>ENSG00000225880.5</td>\n",
       "      <td>2.653800e-08</td>\n",
       "      <td>chr1</td>\n",
       "      <td>778570</td>\n",
       "      <td>778919</td>\n",
       "      <td>EH38E2776539</td>\n",
       "      <td>Missing-data/Partial-classification</td>\n",
       "      <td>0</td>\n",
       "    </tr>\n",
       "  </tbody>\n",
       "</table>\n",
       "</div>"
      ],
      "text/plain": [
       "      0       1       2                  3             4     5       6   \\\n",
       "3   chr1  727034  727035  ENSG00000228794.8  3.880630e-07  chr1  727121   \n",
       "4   chr1  727242  727243  ENSG00000228794.8  1.347760e-06  chr1  727121   \n",
       "13  chr1  778534  778535  ENSG00000225880.5  4.881370e-11  chr1  778570   \n",
       "14  chr1  778639  778640  ENSG00000225880.5  2.996770e-07  chr1  778570   \n",
       "15  chr1  778705  778706  ENSG00000225880.5  2.653800e-08  chr1  778570   \n",
       "\n",
       "        7             8                                    15  16  \n",
       "3   727350  EH38E2776536  Missing-data/Partial-classification  87  \n",
       "4   727350  EH38E2776536  Missing-data/Partial-classification   0  \n",
       "13  778919  EH38E2776539  Missing-data/Partial-classification  36  \n",
       "14  778919  EH38E2776539  Missing-data/Partial-classification   0  \n",
       "15  778919  EH38E2776539  Missing-data/Partial-classification   0  "
      ]
     },
     "execution_count": 25,
     "metadata": {},
     "output_type": "execute_result"
    }
   ],
   "source": [
    "allBed.head()"
   ]
  },
  {
   "cell_type": "code",
   "execution_count": 26,
   "id": "4b83a839",
   "metadata": {
    "pycharm": {
     "name": "#%%\n"
    }
   },
   "outputs": [],
   "source": [
    "df4 = pd.read_csv('GTEx_Analysis_v8_eQTL/'+fileHelp,sep = '\\t')"
   ]
  },
  {
   "cell_type": "code",
   "execution_count": 27,
   "id": "0d2fdc62",
   "metadata": {
    "pycharm": {
     "name": "#%%\n"
    }
   },
   "outputs": [
    {
     "data": {
      "text/html": [
       "<div>\n",
       "<style scoped>\n",
       "    .dataframe tbody tr th:only-of-type {\n",
       "        vertical-align: middle;\n",
       "    }\n",
       "\n",
       "    .dataframe tbody tr th {\n",
       "        vertical-align: top;\n",
       "    }\n",
       "\n",
       "    .dataframe thead th {\n",
       "        text-align: right;\n",
       "    }\n",
       "</style>\n",
       "<table border=\"1\" class=\"dataframe\">\n",
       "  <thead>\n",
       "    <tr style=\"text-align: right;\">\n",
       "      <th></th>\n",
       "      <th>gene_id</th>\n",
       "      <th>gene_name</th>\n",
       "      <th>gene_chr</th>\n",
       "      <th>gene_start</th>\n",
       "      <th>gene_end</th>\n",
       "      <th>strand</th>\n",
       "      <th>num_var</th>\n",
       "      <th>beta_shape1</th>\n",
       "      <th>beta_shape2</th>\n",
       "      <th>true_df</th>\n",
       "      <th>...</th>\n",
       "      <th>pval_nominal</th>\n",
       "      <th>slope</th>\n",
       "      <th>slope_se</th>\n",
       "      <th>pval_perm</th>\n",
       "      <th>pval_beta</th>\n",
       "      <th>qval</th>\n",
       "      <th>pval_nominal_threshold</th>\n",
       "      <th>log2_aFC</th>\n",
       "      <th>log2_aFC_lower</th>\n",
       "      <th>log2_aFC_upper</th>\n",
       "    </tr>\n",
       "  </thead>\n",
       "  <tbody>\n",
       "  </tbody>\n",
       "</table>\n",
       "<p>0 rows × 33 columns</p>\n",
       "</div>"
      ],
      "text/plain": [
       "Empty DataFrame\n",
       "Columns: [gene_id, gene_name, gene_chr, gene_start, gene_end, strand, num_var, beta_shape1, beta_shape2, true_df, pval_true_df, variant_id, tss_distance, chr, variant_pos, ref, alt, num_alt_per_site, rs_id_dbSNP151_GRCh38p7, minor_allele_samples, minor_allele_count, maf, ref_factor, pval_nominal, slope, slope_se, pval_perm, pval_beta, qval, pval_nominal_threshold, log2_aFC, log2_aFC_lower, log2_aFC_upper]\n",
       "Index: []\n",
       "\n",
       "[0 rows x 33 columns]"
      ]
     },
     "execution_count": 27,
     "metadata": {},
     "output_type": "execute_result"
    }
   ],
   "source": [
    "df4[(df4['gene_chr'] =='chr1') & (df4['gene_start'] ==147632194) & (df4['gene_end']==147632224)]"
   ]
  },
  {
   "cell_type": "code",
   "execution_count": 28,
   "id": "5425bb86",
   "metadata": {
    "pycharm": {
     "name": "#%%\n"
    }
   },
   "outputs": [
    {
     "data": {
      "text/html": [
       "<div>\n",
       "<style scoped>\n",
       "    .dataframe tbody tr th:only-of-type {\n",
       "        vertical-align: middle;\n",
       "    }\n",
       "\n",
       "    .dataframe tbody tr th {\n",
       "        vertical-align: top;\n",
       "    }\n",
       "\n",
       "    .dataframe thead th {\n",
       "        text-align: right;\n",
       "    }\n",
       "</style>\n",
       "<table border=\"1\" class=\"dataframe\">\n",
       "  <thead>\n",
       "    <tr style=\"text-align: right;\">\n",
       "      <th></th>\n",
       "      <th>gene_id</th>\n",
       "      <th>gene_name</th>\n",
       "      <th>gene_chr</th>\n",
       "      <th>gene_start</th>\n",
       "      <th>gene_end</th>\n",
       "      <th>strand</th>\n",
       "      <th>num_var</th>\n",
       "      <th>beta_shape1</th>\n",
       "      <th>beta_shape2</th>\n",
       "      <th>true_df</th>\n",
       "      <th>...</th>\n",
       "      <th>pval_nominal</th>\n",
       "      <th>slope</th>\n",
       "      <th>slope_se</th>\n",
       "      <th>pval_perm</th>\n",
       "      <th>pval_beta</th>\n",
       "      <th>qval</th>\n",
       "      <th>pval_nominal_threshold</th>\n",
       "      <th>log2_aFC</th>\n",
       "      <th>log2_aFC_lower</th>\n",
       "      <th>log2_aFC_upper</th>\n",
       "    </tr>\n",
       "  </thead>\n",
       "  <tbody>\n",
       "    <tr>\n",
       "      <th>0</th>\n",
       "      <td>ENSG00000227232.5</td>\n",
       "      <td>WASH7P</td>\n",
       "      <td>chr1</td>\n",
       "      <td>14410</td>\n",
       "      <td>29553</td>\n",
       "      <td>-</td>\n",
       "      <td>1364</td>\n",
       "      <td>1.02638</td>\n",
       "      <td>311.223</td>\n",
       "      <td>155.695</td>\n",
       "      <td>...</td>\n",
       "      <td>0.000432</td>\n",
       "      <td>0.707137</td>\n",
       "      <td>0.196914</td>\n",
       "      <td>0.190051</td>\n",
       "      <td>0.186735</td>\n",
       "      <td>0.186765</td>\n",
       "      <td>0.000100</td>\n",
       "      <td>0.821879</td>\n",
       "      <td>0.459859</td>\n",
       "      <td>1.050541</td>\n",
       "    </tr>\n",
       "    <tr>\n",
       "      <th>1</th>\n",
       "      <td>ENSG00000268903.1</td>\n",
       "      <td>RP11-34P13.15</td>\n",
       "      <td>chr1</td>\n",
       "      <td>135141</td>\n",
       "      <td>135895</td>\n",
       "      <td>-</td>\n",
       "      <td>1863</td>\n",
       "      <td>1.05785</td>\n",
       "      <td>360.120</td>\n",
       "      <td>152.693</td>\n",
       "      <td>...</td>\n",
       "      <td>0.000151</td>\n",
       "      <td>0.643308</td>\n",
       "      <td>0.165928</td>\n",
       "      <td>0.090091</td>\n",
       "      <td>0.088980</td>\n",
       "      <td>0.116833</td>\n",
       "      <td>0.000098</td>\n",
       "      <td>1.346428</td>\n",
       "      <td>0.824443</td>\n",
       "      <td>1.796007</td>\n",
       "    </tr>\n",
       "    <tr>\n",
       "      <th>2</th>\n",
       "      <td>ENSG00000269981.1</td>\n",
       "      <td>RP11-34P13.16</td>\n",
       "      <td>chr1</td>\n",
       "      <td>137682</td>\n",
       "      <td>137965</td>\n",
       "      <td>-</td>\n",
       "      <td>1868</td>\n",
       "      <td>1.02634</td>\n",
       "      <td>333.712</td>\n",
       "      <td>151.167</td>\n",
       "      <td>...</td>\n",
       "      <td>0.000098</td>\n",
       "      <td>0.700484</td>\n",
       "      <td>0.175460</td>\n",
       "      <td>0.064194</td>\n",
       "      <td>0.065167</td>\n",
       "      <td>0.094553</td>\n",
       "      <td>0.000093</td>\n",
       "      <td>1.412633</td>\n",
       "      <td>0.832862</td>\n",
       "      <td>1.883766</td>\n",
       "    </tr>\n",
       "    <tr>\n",
       "      <th>3</th>\n",
       "      <td>ENSG00000241860.6</td>\n",
       "      <td>RP11-34P13.13</td>\n",
       "      <td>chr1</td>\n",
       "      <td>141474</td>\n",
       "      <td>173862</td>\n",
       "      <td>-</td>\n",
       "      <td>2066</td>\n",
       "      <td>1.04067</td>\n",
       "      <td>380.928</td>\n",
       "      <td>152.873</td>\n",
       "      <td>...</td>\n",
       "      <td>0.000159</td>\n",
       "      <td>0.890830</td>\n",
       "      <td>0.230550</td>\n",
       "      <td>0.097590</td>\n",
       "      <td>0.102113</td>\n",
       "      <td>0.128432</td>\n",
       "      <td>0.000087</td>\n",
       "      <td>1.528061</td>\n",
       "      <td>0.884833</td>\n",
       "      <td>1.969651</td>\n",
       "    </tr>\n",
       "    <tr>\n",
       "      <th>4</th>\n",
       "      <td>ENSG00000279457.4</td>\n",
       "      <td>RP11-34P13.18</td>\n",
       "      <td>chr1</td>\n",
       "      <td>185217</td>\n",
       "      <td>195411</td>\n",
       "      <td>-</td>\n",
       "      <td>2234</td>\n",
       "      <td>1.03882</td>\n",
       "      <td>382.742</td>\n",
       "      <td>150.872</td>\n",
       "      <td>...</td>\n",
       "      <td>0.000291</td>\n",
       "      <td>-0.696659</td>\n",
       "      <td>0.188241</td>\n",
       "      <td>0.186858</td>\n",
       "      <td>0.189284</td>\n",
       "      <td>0.188422</td>\n",
       "      <td>0.000086</td>\n",
       "      <td>-1.140384</td>\n",
       "      <td>-1.944668</td>\n",
       "      <td>-0.712864</td>\n",
       "    </tr>\n",
       "  </tbody>\n",
       "</table>\n",
       "<p>5 rows × 33 columns</p>\n",
       "</div>"
      ],
      "text/plain": [
       "             gene_id      gene_name gene_chr  gene_start  gene_end strand  \\\n",
       "0  ENSG00000227232.5         WASH7P     chr1       14410     29553      -   \n",
       "1  ENSG00000268903.1  RP11-34P13.15     chr1      135141    135895      -   \n",
       "2  ENSG00000269981.1  RP11-34P13.16     chr1      137682    137965      -   \n",
       "3  ENSG00000241860.6  RP11-34P13.13     chr1      141474    173862      -   \n",
       "4  ENSG00000279457.4  RP11-34P13.18     chr1      185217    195411      -   \n",
       "\n",
       "   num_var  beta_shape1  beta_shape2  true_df  ...  pval_nominal     slope  \\\n",
       "0     1364      1.02638      311.223  155.695  ...      0.000432  0.707137   \n",
       "1     1863      1.05785      360.120  152.693  ...      0.000151  0.643308   \n",
       "2     1868      1.02634      333.712  151.167  ...      0.000098  0.700484   \n",
       "3     2066      1.04067      380.928  152.873  ...      0.000159  0.890830   \n",
       "4     2234      1.03882      382.742  150.872  ...      0.000291 -0.696659   \n",
       "\n",
       "   slope_se pval_perm  pval_beta      qval pval_nominal_threshold  log2_aFC  \\\n",
       "0  0.196914  0.190051   0.186735  0.186765               0.000100  0.821879   \n",
       "1  0.165928  0.090091   0.088980  0.116833               0.000098  1.346428   \n",
       "2  0.175460  0.064194   0.065167  0.094553               0.000093  1.412633   \n",
       "3  0.230550  0.097590   0.102113  0.128432               0.000087  1.528061   \n",
       "4  0.188241  0.186858   0.189284  0.188422               0.000086 -1.140384   \n",
       "\n",
       "  log2_aFC_lower  log2_aFC_upper  \n",
       "0       0.459859        1.050541  \n",
       "1       0.824443        1.796007  \n",
       "2       0.832862        1.883766  \n",
       "3       0.884833        1.969651  \n",
       "4      -1.944668       -0.712864  \n",
       "\n",
       "[5 rows x 33 columns]"
      ]
     },
     "execution_count": 28,
     "metadata": {},
     "output_type": "execute_result"
    }
   ],
   "source": [
    "df4.head()"
   ]
  },
  {
   "cell_type": "code",
   "execution_count": 29,
   "id": "d1472e9e",
   "metadata": {
    "pycharm": {
     "name": "#%%\n"
    }
   },
   "outputs": [],
   "source": [
    "finaldf = allBed.merge(df4,left_on=3,right_on='gene_id',how='left')"
   ]
  },
  {
   "cell_type": "code",
   "execution_count": 30,
   "id": "ca87fb34",
   "metadata": {
    "pycharm": {
     "name": "#%%\n"
    }
   },
   "outputs": [
    {
     "data": {
      "text/html": [
       "<div>\n",
       "<style scoped>\n",
       "    .dataframe tbody tr th:only-of-type {\n",
       "        vertical-align: middle;\n",
       "    }\n",
       "\n",
       "    .dataframe tbody tr th {\n",
       "        vertical-align: top;\n",
       "    }\n",
       "\n",
       "    .dataframe thead th {\n",
       "        text-align: right;\n",
       "    }\n",
       "</style>\n",
       "<table border=\"1\" class=\"dataframe\">\n",
       "  <thead>\n",
       "    <tr style=\"text-align: right;\">\n",
       "      <th></th>\n",
       "      <th>0</th>\n",
       "      <th>1</th>\n",
       "      <th>2</th>\n",
       "      <th>3</th>\n",
       "      <th>4</th>\n",
       "      <th>5</th>\n",
       "      <th>6</th>\n",
       "      <th>7</th>\n",
       "      <th>8</th>\n",
       "      <th>15</th>\n",
       "      <th>...</th>\n",
       "      <th>pval_nominal</th>\n",
       "      <th>slope</th>\n",
       "      <th>slope_se</th>\n",
       "      <th>pval_perm</th>\n",
       "      <th>pval_beta</th>\n",
       "      <th>qval</th>\n",
       "      <th>pval_nominal_threshold</th>\n",
       "      <th>log2_aFC</th>\n",
       "      <th>log2_aFC_lower</th>\n",
       "      <th>log2_aFC_upper</th>\n",
       "    </tr>\n",
       "  </thead>\n",
       "  <tbody>\n",
       "    <tr>\n",
       "      <th>0</th>\n",
       "      <td>chr1</td>\n",
       "      <td>727034</td>\n",
       "      <td>727035</td>\n",
       "      <td>ENSG00000228794.8</td>\n",
       "      <td>3.880630e-07</td>\n",
       "      <td>chr1</td>\n",
       "      <td>727121</td>\n",
       "      <td>727350</td>\n",
       "      <td>EH38E2776536</td>\n",
       "      <td>Missing-data/Partial-classification</td>\n",
       "      <td>...</td>\n",
       "      <td>2.606100e-08</td>\n",
       "      <td>0.464257</td>\n",
       "      <td>0.079467</td>\n",
       "      <td>0.0002</td>\n",
       "      <td>6.057930e-05</td>\n",
       "      <td>2.355480e-04</td>\n",
       "      <td>0.000045</td>\n",
       "      <td>0.506442</td>\n",
       "      <td>0.306029</td>\n",
       "      <td>0.655156</td>\n",
       "    </tr>\n",
       "    <tr>\n",
       "      <th>1</th>\n",
       "      <td>chr1</td>\n",
       "      <td>727242</td>\n",
       "      <td>727243</td>\n",
       "      <td>ENSG00000228794.8</td>\n",
       "      <td>1.347760e-06</td>\n",
       "      <td>chr1</td>\n",
       "      <td>727121</td>\n",
       "      <td>727350</td>\n",
       "      <td>EH38E2776536</td>\n",
       "      <td>Missing-data/Partial-classification</td>\n",
       "      <td>...</td>\n",
       "      <td>2.606100e-08</td>\n",
       "      <td>0.464257</td>\n",
       "      <td>0.079467</td>\n",
       "      <td>0.0002</td>\n",
       "      <td>6.057930e-05</td>\n",
       "      <td>2.355480e-04</td>\n",
       "      <td>0.000045</td>\n",
       "      <td>0.506442</td>\n",
       "      <td>0.306029</td>\n",
       "      <td>0.655156</td>\n",
       "    </tr>\n",
       "    <tr>\n",
       "      <th>2</th>\n",
       "      <td>chr1</td>\n",
       "      <td>778534</td>\n",
       "      <td>778535</td>\n",
       "      <td>ENSG00000225880.5</td>\n",
       "      <td>4.881370e-11</td>\n",
       "      <td>chr1</td>\n",
       "      <td>778570</td>\n",
       "      <td>778919</td>\n",
       "      <td>EH38E2776539</td>\n",
       "      <td>Missing-data/Partial-classification</td>\n",
       "      <td>...</td>\n",
       "      <td>2.105180e-11</td>\n",
       "      <td>0.860711</td>\n",
       "      <td>0.119816</td>\n",
       "      <td>0.0001</td>\n",
       "      <td>9.620600e-08</td>\n",
       "      <td>5.978450e-07</td>\n",
       "      <td>0.000046</td>\n",
       "      <td>1.071197</td>\n",
       "      <td>0.810703</td>\n",
       "      <td>1.253179</td>\n",
       "    </tr>\n",
       "    <tr>\n",
       "      <th>3</th>\n",
       "      <td>chr1</td>\n",
       "      <td>778639</td>\n",
       "      <td>778640</td>\n",
       "      <td>ENSG00000225880.5</td>\n",
       "      <td>2.996770e-07</td>\n",
       "      <td>chr1</td>\n",
       "      <td>778570</td>\n",
       "      <td>778919</td>\n",
       "      <td>EH38E2776539</td>\n",
       "      <td>Missing-data/Partial-classification</td>\n",
       "      <td>...</td>\n",
       "      <td>2.105180e-11</td>\n",
       "      <td>0.860711</td>\n",
       "      <td>0.119816</td>\n",
       "      <td>0.0001</td>\n",
       "      <td>9.620600e-08</td>\n",
       "      <td>5.978450e-07</td>\n",
       "      <td>0.000046</td>\n",
       "      <td>1.071197</td>\n",
       "      <td>0.810703</td>\n",
       "      <td>1.253179</td>\n",
       "    </tr>\n",
       "    <tr>\n",
       "      <th>4</th>\n",
       "      <td>chr1</td>\n",
       "      <td>778705</td>\n",
       "      <td>778706</td>\n",
       "      <td>ENSG00000225880.5</td>\n",
       "      <td>2.653800e-08</td>\n",
       "      <td>chr1</td>\n",
       "      <td>778570</td>\n",
       "      <td>778919</td>\n",
       "      <td>EH38E2776539</td>\n",
       "      <td>Missing-data/Partial-classification</td>\n",
       "      <td>...</td>\n",
       "      <td>2.105180e-11</td>\n",
       "      <td>0.860711</td>\n",
       "      <td>0.119816</td>\n",
       "      <td>0.0001</td>\n",
       "      <td>9.620600e-08</td>\n",
       "      <td>5.978450e-07</td>\n",
       "      <td>0.000046</td>\n",
       "      <td>1.071197</td>\n",
       "      <td>0.810703</td>\n",
       "      <td>1.253179</td>\n",
       "    </tr>\n",
       "  </tbody>\n",
       "</table>\n",
       "<p>5 rows × 44 columns</p>\n",
       "</div>"
      ],
      "text/plain": [
       "      0       1       2                  3             4     5       6  \\\n",
       "0  chr1  727034  727035  ENSG00000228794.8  3.880630e-07  chr1  727121   \n",
       "1  chr1  727242  727243  ENSG00000228794.8  1.347760e-06  chr1  727121   \n",
       "2  chr1  778534  778535  ENSG00000225880.5  4.881370e-11  chr1  778570   \n",
       "3  chr1  778639  778640  ENSG00000225880.5  2.996770e-07  chr1  778570   \n",
       "4  chr1  778705  778706  ENSG00000225880.5  2.653800e-08  chr1  778570   \n",
       "\n",
       "        7             8                                   15  ...  \\\n",
       "0  727350  EH38E2776536  Missing-data/Partial-classification  ...   \n",
       "1  727350  EH38E2776536  Missing-data/Partial-classification  ...   \n",
       "2  778919  EH38E2776539  Missing-data/Partial-classification  ...   \n",
       "3  778919  EH38E2776539  Missing-data/Partial-classification  ...   \n",
       "4  778919  EH38E2776539  Missing-data/Partial-classification  ...   \n",
       "\n",
       "   pval_nominal     slope  slope_se pval_perm     pval_beta          qval  \\\n",
       "0  2.606100e-08  0.464257  0.079467    0.0002  6.057930e-05  2.355480e-04   \n",
       "1  2.606100e-08  0.464257  0.079467    0.0002  6.057930e-05  2.355480e-04   \n",
       "2  2.105180e-11  0.860711  0.119816    0.0001  9.620600e-08  5.978450e-07   \n",
       "3  2.105180e-11  0.860711  0.119816    0.0001  9.620600e-08  5.978450e-07   \n",
       "4  2.105180e-11  0.860711  0.119816    0.0001  9.620600e-08  5.978450e-07   \n",
       "\n",
       "  pval_nominal_threshold  log2_aFC  log2_aFC_lower  log2_aFC_upper  \n",
       "0               0.000045  0.506442        0.306029        0.655156  \n",
       "1               0.000045  0.506442        0.306029        0.655156  \n",
       "2               0.000046  1.071197        0.810703        1.253179  \n",
       "3               0.000046  1.071197        0.810703        1.253179  \n",
       "4               0.000046  1.071197        0.810703        1.253179  \n",
       "\n",
       "[5 rows x 44 columns]"
      ]
     },
     "execution_count": 30,
     "metadata": {},
     "output_type": "execute_result"
    }
   ],
   "source": [
    "finaldf.head()"
   ]
  },
  {
   "cell_type": "code",
   "execution_count": 31,
   "id": "aa75ea53",
   "metadata": {
    "pycharm": {
     "name": "#%%\n"
    }
   },
   "outputs": [],
   "source": [
    "finaldf = finaldf[[4,5,6,7,8,'gene_chr','gene_start','gene_end','gene_id',15]]"
   ]
  },
  {
   "cell_type": "code",
   "execution_count": 32,
   "id": "7acd3669",
   "metadata": {
    "scrolled": false,
    "pycharm": {
     "name": "#%%\n"
    }
   },
   "outputs": [
    {
     "data": {
      "text/html": [
       "<div>\n",
       "<style scoped>\n",
       "    .dataframe tbody tr th:only-of-type {\n",
       "        vertical-align: middle;\n",
       "    }\n",
       "\n",
       "    .dataframe tbody tr th {\n",
       "        vertical-align: top;\n",
       "    }\n",
       "\n",
       "    .dataframe thead th {\n",
       "        text-align: right;\n",
       "    }\n",
       "</style>\n",
       "<table border=\"1\" class=\"dataframe\">\n",
       "  <thead>\n",
       "    <tr style=\"text-align: right;\">\n",
       "      <th></th>\n",
       "      <th>4</th>\n",
       "      <th>5</th>\n",
       "      <th>6</th>\n",
       "      <th>7</th>\n",
       "      <th>8</th>\n",
       "      <th>gene_chr</th>\n",
       "      <th>gene_start</th>\n",
       "      <th>gene_end</th>\n",
       "      <th>gene_id</th>\n",
       "      <th>15</th>\n",
       "    </tr>\n",
       "  </thead>\n",
       "  <tbody>\n",
       "    <tr>\n",
       "      <th>0</th>\n",
       "      <td>3.880630e-07</td>\n",
       "      <td>chr1</td>\n",
       "      <td>727121</td>\n",
       "      <td>727350</td>\n",
       "      <td>EH38E2776536</td>\n",
       "      <td>chr1</td>\n",
       "      <td>825138</td>\n",
       "      <td>859446</td>\n",
       "      <td>ENSG00000228794.8</td>\n",
       "      <td>Missing-data/Partial-classification</td>\n",
       "    </tr>\n",
       "    <tr>\n",
       "      <th>1</th>\n",
       "      <td>1.347760e-06</td>\n",
       "      <td>chr1</td>\n",
       "      <td>727121</td>\n",
       "      <td>727350</td>\n",
       "      <td>EH38E2776536</td>\n",
       "      <td>chr1</td>\n",
       "      <td>825138</td>\n",
       "      <td>859446</td>\n",
       "      <td>ENSG00000228794.8</td>\n",
       "      <td>Missing-data/Partial-classification</td>\n",
       "    </tr>\n",
       "    <tr>\n",
       "      <th>2</th>\n",
       "      <td>4.881370e-11</td>\n",
       "      <td>chr1</td>\n",
       "      <td>778570</td>\n",
       "      <td>778919</td>\n",
       "      <td>EH38E2776539</td>\n",
       "      <td>chr1</td>\n",
       "      <td>826206</td>\n",
       "      <td>827522</td>\n",
       "      <td>ENSG00000225880.5</td>\n",
       "      <td>Missing-data/Partial-classification</td>\n",
       "    </tr>\n",
       "    <tr>\n",
       "      <th>3</th>\n",
       "      <td>2.996770e-07</td>\n",
       "      <td>chr1</td>\n",
       "      <td>778570</td>\n",
       "      <td>778919</td>\n",
       "      <td>EH38E2776539</td>\n",
       "      <td>chr1</td>\n",
       "      <td>826206</td>\n",
       "      <td>827522</td>\n",
       "      <td>ENSG00000225880.5</td>\n",
       "      <td>Missing-data/Partial-classification</td>\n",
       "    </tr>\n",
       "    <tr>\n",
       "      <th>4</th>\n",
       "      <td>2.653800e-08</td>\n",
       "      <td>chr1</td>\n",
       "      <td>778570</td>\n",
       "      <td>778919</td>\n",
       "      <td>EH38E2776539</td>\n",
       "      <td>chr1</td>\n",
       "      <td>826206</td>\n",
       "      <td>827522</td>\n",
       "      <td>ENSG00000225880.5</td>\n",
       "      <td>Missing-data/Partial-classification</td>\n",
       "    </tr>\n",
       "    <tr>\n",
       "      <th>5</th>\n",
       "      <td>3.198490e-08</td>\n",
       "      <td>chr1</td>\n",
       "      <td>778570</td>\n",
       "      <td>778919</td>\n",
       "      <td>EH38E2776539</td>\n",
       "      <td>chr1</td>\n",
       "      <td>826206</td>\n",
       "      <td>827522</td>\n",
       "      <td>ENSG00000225880.5</td>\n",
       "      <td>Missing-data/Partial-classification</td>\n",
       "    </tr>\n",
       "    <tr>\n",
       "      <th>6</th>\n",
       "      <td>2.628110e-07</td>\n",
       "      <td>chr1</td>\n",
       "      <td>779026</td>\n",
       "      <td>779180</td>\n",
       "      <td>EH38E2776540</td>\n",
       "      <td>chr1</td>\n",
       "      <td>826206</td>\n",
       "      <td>827522</td>\n",
       "      <td>ENSG00000225880.5</td>\n",
       "      <td>Missing-data/Partial-classification</td>\n",
       "    </tr>\n",
       "    <tr>\n",
       "      <th>7</th>\n",
       "      <td>3.391980e-10</td>\n",
       "      <td>chr1</td>\n",
       "      <td>779222</td>\n",
       "      <td>779432</td>\n",
       "      <td>EH38E2776541</td>\n",
       "      <td>chr1</td>\n",
       "      <td>826206</td>\n",
       "      <td>827522</td>\n",
       "      <td>ENSG00000225880.5</td>\n",
       "      <td>Missing-data/Partial-classification</td>\n",
       "    </tr>\n",
       "    <tr>\n",
       "      <th>8</th>\n",
       "      <td>9.923830e-09</td>\n",
       "      <td>chr1</td>\n",
       "      <td>779222</td>\n",
       "      <td>779432</td>\n",
       "      <td>EH38E2776541</td>\n",
       "      <td>chr1</td>\n",
       "      <td>826206</td>\n",
       "      <td>827522</td>\n",
       "      <td>ENSG00000225880.5</td>\n",
       "      <td>Missing-data/Partial-classification</td>\n",
       "    </tr>\n",
       "    <tr>\n",
       "      <th>9</th>\n",
       "      <td>4.881370e-11</td>\n",
       "      <td>chr1</td>\n",
       "      <td>779735</td>\n",
       "      <td>780028</td>\n",
       "      <td>EH38E2776542</td>\n",
       "      <td>chr1</td>\n",
       "      <td>826206</td>\n",
       "      <td>827522</td>\n",
       "      <td>ENSG00000225880.5</td>\n",
       "      <td>Missing-data/Partial-classification</td>\n",
       "    </tr>\n",
       "  </tbody>\n",
       "</table>\n",
       "</div>"
      ],
      "text/plain": [
       "              4     5       6       7             8 gene_chr  gene_start  \\\n",
       "0  3.880630e-07  chr1  727121  727350  EH38E2776536     chr1      825138   \n",
       "1  1.347760e-06  chr1  727121  727350  EH38E2776536     chr1      825138   \n",
       "2  4.881370e-11  chr1  778570  778919  EH38E2776539     chr1      826206   \n",
       "3  2.996770e-07  chr1  778570  778919  EH38E2776539     chr1      826206   \n",
       "4  2.653800e-08  chr1  778570  778919  EH38E2776539     chr1      826206   \n",
       "5  3.198490e-08  chr1  778570  778919  EH38E2776539     chr1      826206   \n",
       "6  2.628110e-07  chr1  779026  779180  EH38E2776540     chr1      826206   \n",
       "7  3.391980e-10  chr1  779222  779432  EH38E2776541     chr1      826206   \n",
       "8  9.923830e-09  chr1  779222  779432  EH38E2776541     chr1      826206   \n",
       "9  4.881370e-11  chr1  779735  780028  EH38E2776542     chr1      826206   \n",
       "\n",
       "   gene_end            gene_id                                   15  \n",
       "0    859446  ENSG00000228794.8  Missing-data/Partial-classification  \n",
       "1    859446  ENSG00000228794.8  Missing-data/Partial-classification  \n",
       "2    827522  ENSG00000225880.5  Missing-data/Partial-classification  \n",
       "3    827522  ENSG00000225880.5  Missing-data/Partial-classification  \n",
       "4    827522  ENSG00000225880.5  Missing-data/Partial-classification  \n",
       "5    827522  ENSG00000225880.5  Missing-data/Partial-classification  \n",
       "6    827522  ENSG00000225880.5  Missing-data/Partial-classification  \n",
       "7    827522  ENSG00000225880.5  Missing-data/Partial-classification  \n",
       "8    827522  ENSG00000225880.5  Missing-data/Partial-classification  \n",
       "9    827522  ENSG00000225880.5  Missing-data/Partial-classification  "
      ]
     },
     "execution_count": 32,
     "metadata": {},
     "output_type": "execute_result"
    }
   ],
   "source": [
    "finaldf.head(10)"
   ]
  },
  {
   "cell_type": "code",
   "execution_count": 33,
   "id": "33a76489",
   "metadata": {
    "pycharm": {
     "name": "#%%\n"
    }
   },
   "outputs": [],
   "source": [
    "finaldf[15] = finaldf[4]"
   ]
  },
  {
   "cell_type": "code",
   "execution_count": 34,
   "id": "d6179919",
   "metadata": {
    "pycharm": {
     "name": "#%%\n"
    }
   },
   "outputs": [
    {
     "data": {
      "text/html": [
       "<div>\n",
       "<style scoped>\n",
       "    .dataframe tbody tr th:only-of-type {\n",
       "        vertical-align: middle;\n",
       "    }\n",
       "\n",
       "    .dataframe tbody tr th {\n",
       "        vertical-align: top;\n",
       "    }\n",
       "\n",
       "    .dataframe thead th {\n",
       "        text-align: right;\n",
       "    }\n",
       "</style>\n",
       "<table border=\"1\" class=\"dataframe\">\n",
       "  <thead>\n",
       "    <tr style=\"text-align: right;\">\n",
       "      <th></th>\n",
       "      <th>4</th>\n",
       "      <th>5</th>\n",
       "      <th>6</th>\n",
       "      <th>7</th>\n",
       "      <th>8</th>\n",
       "      <th>gene_chr</th>\n",
       "      <th>gene_start</th>\n",
       "      <th>gene_end</th>\n",
       "      <th>gene_id</th>\n",
       "      <th>15</th>\n",
       "    </tr>\n",
       "  </thead>\n",
       "  <tbody>\n",
       "    <tr>\n",
       "      <th>0</th>\n",
       "      <td>3.880630e-07</td>\n",
       "      <td>chr1</td>\n",
       "      <td>727121</td>\n",
       "      <td>727350</td>\n",
       "      <td>EH38E2776536</td>\n",
       "      <td>chr1</td>\n",
       "      <td>825138</td>\n",
       "      <td>859446</td>\n",
       "      <td>ENSG00000228794.8</td>\n",
       "      <td>3.880630e-07</td>\n",
       "    </tr>\n",
       "    <tr>\n",
       "      <th>1</th>\n",
       "      <td>1.347760e-06</td>\n",
       "      <td>chr1</td>\n",
       "      <td>727121</td>\n",
       "      <td>727350</td>\n",
       "      <td>EH38E2776536</td>\n",
       "      <td>chr1</td>\n",
       "      <td>825138</td>\n",
       "      <td>859446</td>\n",
       "      <td>ENSG00000228794.8</td>\n",
       "      <td>1.347760e-06</td>\n",
       "    </tr>\n",
       "    <tr>\n",
       "      <th>2</th>\n",
       "      <td>4.881370e-11</td>\n",
       "      <td>chr1</td>\n",
       "      <td>778570</td>\n",
       "      <td>778919</td>\n",
       "      <td>EH38E2776539</td>\n",
       "      <td>chr1</td>\n",
       "      <td>826206</td>\n",
       "      <td>827522</td>\n",
       "      <td>ENSG00000225880.5</td>\n",
       "      <td>4.881370e-11</td>\n",
       "    </tr>\n",
       "    <tr>\n",
       "      <th>3</th>\n",
       "      <td>2.996770e-07</td>\n",
       "      <td>chr1</td>\n",
       "      <td>778570</td>\n",
       "      <td>778919</td>\n",
       "      <td>EH38E2776539</td>\n",
       "      <td>chr1</td>\n",
       "      <td>826206</td>\n",
       "      <td>827522</td>\n",
       "      <td>ENSG00000225880.5</td>\n",
       "      <td>2.996770e-07</td>\n",
       "    </tr>\n",
       "    <tr>\n",
       "      <th>4</th>\n",
       "      <td>2.653800e-08</td>\n",
       "      <td>chr1</td>\n",
       "      <td>778570</td>\n",
       "      <td>778919</td>\n",
       "      <td>EH38E2776539</td>\n",
       "      <td>chr1</td>\n",
       "      <td>826206</td>\n",
       "      <td>827522</td>\n",
       "      <td>ENSG00000225880.5</td>\n",
       "      <td>2.653800e-08</td>\n",
       "    </tr>\n",
       "  </tbody>\n",
       "</table>\n",
       "</div>"
      ],
      "text/plain": [
       "              4     5       6       7             8 gene_chr  gene_start  \\\n",
       "0  3.880630e-07  chr1  727121  727350  EH38E2776536     chr1      825138   \n",
       "1  1.347760e-06  chr1  727121  727350  EH38E2776536     chr1      825138   \n",
       "2  4.881370e-11  chr1  778570  778919  EH38E2776539     chr1      826206   \n",
       "3  2.996770e-07  chr1  778570  778919  EH38E2776539     chr1      826206   \n",
       "4  2.653800e-08  chr1  778570  778919  EH38E2776539     chr1      826206   \n",
       "\n",
       "   gene_end            gene_id            15  \n",
       "0    859446  ENSG00000228794.8  3.880630e-07  \n",
       "1    859446  ENSG00000228794.8  1.347760e-06  \n",
       "2    827522  ENSG00000225880.5  4.881370e-11  \n",
       "3    827522  ENSG00000225880.5  2.996770e-07  \n",
       "4    827522  ENSG00000225880.5  2.653800e-08  "
      ]
     },
     "execution_count": 34,
     "metadata": {},
     "output_type": "execute_result"
    }
   ],
   "source": [
    "finaldf.head()"
   ]
  },
  {
   "cell_type": "code",
   "execution_count": 35,
   "id": "5b9d9366",
   "metadata": {
    "pycharm": {
     "name": "#%%\n"
    }
   },
   "outputs": [],
   "source": [
    "finaldf = finaldf.rename(columns={5: \"enahancer_chr\", 6: \"enhancer_start\",7:\"enhancer_end\",8:\"enhancer_id\",15:\"p-val\"})"
   ]
  },
  {
   "cell_type": "code",
   "execution_count": 36,
   "id": "d6b88971",
   "metadata": {
    "scrolled": false,
    "pycharm": {
     "name": "#%%\n"
    }
   },
   "outputs": [],
   "source": [
    "finaldf.drop(columns=finaldf.columns[0], \n",
    "        axis=1, \n",
    "        inplace=True)"
   ]
  },
  {
   "cell_type": "code",
   "execution_count": 37,
   "id": "b5e3807a",
   "metadata": {
    "pycharm": {
     "name": "#%%\n"
    }
   },
   "outputs": [
    {
     "data": {
      "text/html": [
       "<div>\n",
       "<style scoped>\n",
       "    .dataframe tbody tr th:only-of-type {\n",
       "        vertical-align: middle;\n",
       "    }\n",
       "\n",
       "    .dataframe tbody tr th {\n",
       "        vertical-align: top;\n",
       "    }\n",
       "\n",
       "    .dataframe thead th {\n",
       "        text-align: right;\n",
       "    }\n",
       "</style>\n",
       "<table border=\"1\" class=\"dataframe\">\n",
       "  <thead>\n",
       "    <tr style=\"text-align: right;\">\n",
       "      <th></th>\n",
       "      <th>enahancer_chr</th>\n",
       "      <th>enhancer_start</th>\n",
       "      <th>enhancer_end</th>\n",
       "      <th>enhancer_id</th>\n",
       "      <th>gene_chr</th>\n",
       "      <th>gene_start</th>\n",
       "      <th>gene_end</th>\n",
       "      <th>gene_id</th>\n",
       "      <th>p-val</th>\n",
       "    </tr>\n",
       "  </thead>\n",
       "  <tbody>\n",
       "    <tr>\n",
       "      <th>0</th>\n",
       "      <td>chr1</td>\n",
       "      <td>727121</td>\n",
       "      <td>727350</td>\n",
       "      <td>EH38E2776536</td>\n",
       "      <td>chr1</td>\n",
       "      <td>825138</td>\n",
       "      <td>859446</td>\n",
       "      <td>ENSG00000228794.8</td>\n",
       "      <td>3.880630e-07</td>\n",
       "    </tr>\n",
       "    <tr>\n",
       "      <th>1</th>\n",
       "      <td>chr1</td>\n",
       "      <td>727121</td>\n",
       "      <td>727350</td>\n",
       "      <td>EH38E2776536</td>\n",
       "      <td>chr1</td>\n",
       "      <td>825138</td>\n",
       "      <td>859446</td>\n",
       "      <td>ENSG00000228794.8</td>\n",
       "      <td>1.347760e-06</td>\n",
       "    </tr>\n",
       "    <tr>\n",
       "      <th>2</th>\n",
       "      <td>chr1</td>\n",
       "      <td>778570</td>\n",
       "      <td>778919</td>\n",
       "      <td>EH38E2776539</td>\n",
       "      <td>chr1</td>\n",
       "      <td>826206</td>\n",
       "      <td>827522</td>\n",
       "      <td>ENSG00000225880.5</td>\n",
       "      <td>4.881370e-11</td>\n",
       "    </tr>\n",
       "    <tr>\n",
       "      <th>3</th>\n",
       "      <td>chr1</td>\n",
       "      <td>778570</td>\n",
       "      <td>778919</td>\n",
       "      <td>EH38E2776539</td>\n",
       "      <td>chr1</td>\n",
       "      <td>826206</td>\n",
       "      <td>827522</td>\n",
       "      <td>ENSG00000225880.5</td>\n",
       "      <td>2.996770e-07</td>\n",
       "    </tr>\n",
       "    <tr>\n",
       "      <th>4</th>\n",
       "      <td>chr1</td>\n",
       "      <td>778570</td>\n",
       "      <td>778919</td>\n",
       "      <td>EH38E2776539</td>\n",
       "      <td>chr1</td>\n",
       "      <td>826206</td>\n",
       "      <td>827522</td>\n",
       "      <td>ENSG00000225880.5</td>\n",
       "      <td>2.653800e-08</td>\n",
       "    </tr>\n",
       "  </tbody>\n",
       "</table>\n",
       "</div>"
      ],
      "text/plain": [
       "  enahancer_chr  enhancer_start  enhancer_end   enhancer_id gene_chr  \\\n",
       "0          chr1          727121        727350  EH38E2776536     chr1   \n",
       "1          chr1          727121        727350  EH38E2776536     chr1   \n",
       "2          chr1          778570        778919  EH38E2776539     chr1   \n",
       "3          chr1          778570        778919  EH38E2776539     chr1   \n",
       "4          chr1          778570        778919  EH38E2776539     chr1   \n",
       "\n",
       "   gene_start  gene_end            gene_id         p-val  \n",
       "0      825138    859446  ENSG00000228794.8  3.880630e-07  \n",
       "1      825138    859446  ENSG00000228794.8  1.347760e-06  \n",
       "2      826206    827522  ENSG00000225880.5  4.881370e-11  \n",
       "3      826206    827522  ENSG00000225880.5  2.996770e-07  \n",
       "4      826206    827522  ENSG00000225880.5  2.653800e-08  "
      ]
     },
     "execution_count": 37,
     "metadata": {},
     "output_type": "execute_result"
    }
   ],
   "source": [
    "finaldf.head()"
   ]
  },
  {
   "cell_type": "markdown",
   "id": "c6ab2023",
   "metadata": {
    "pycharm": {
     "name": "#%% md\n"
    }
   },
   "source": [
    "### Duplications issue\n",
    "Here the duplication is because more than one eQtl exists in between enhancer start and end  pointing to the same gene in most occasions.\n",
    "\n",
    "Solution: enahncerID and geneID should be unique."
   ]
  },
  {
   "cell_type": "code",
   "execution_count": 38,
   "id": "2ccf9a7d",
   "metadata": {
    "scrolled": true,
    "pycharm": {
     "name": "#%%\n"
    }
   },
   "outputs": [],
   "source": [
    "finaldf['gene_id'] = finaldf.apply(geneIDNorm,axis=1)"
   ]
  },
  {
   "cell_type": "code",
   "execution_count": 39,
   "id": "d20c24ad",
   "metadata": {
    "pycharm": {
     "name": "#%%\n"
    }
   },
   "outputs": [],
   "source": [
    "finaldf = finaldf.drop_duplicates(subset=['enhancer_id', 'gene_id'], keep='last')"
   ]
  },
  {
   "cell_type": "code",
   "execution_count": 40,
   "id": "c506bbd7",
   "metadata": {
    "scrolled": false,
    "pycharm": {
     "name": "#%%\n"
    }
   },
   "outputs": [
    {
     "data": {
      "text/html": [
       "<div>\n",
       "<style scoped>\n",
       "    .dataframe tbody tr th:only-of-type {\n",
       "        vertical-align: middle;\n",
       "    }\n",
       "\n",
       "    .dataframe tbody tr th {\n",
       "        vertical-align: top;\n",
       "    }\n",
       "\n",
       "    .dataframe thead th {\n",
       "        text-align: right;\n",
       "    }\n",
       "</style>\n",
       "<table border=\"1\" class=\"dataframe\">\n",
       "  <thead>\n",
       "    <tr style=\"text-align: right;\">\n",
       "      <th></th>\n",
       "      <th>enahancer_chr</th>\n",
       "      <th>enhancer_start</th>\n",
       "      <th>enhancer_end</th>\n",
       "      <th>enhancer_id</th>\n",
       "      <th>gene_chr</th>\n",
       "      <th>gene_start</th>\n",
       "      <th>gene_end</th>\n",
       "      <th>gene_id</th>\n",
       "      <th>p-val</th>\n",
       "    </tr>\n",
       "  </thead>\n",
       "  <tbody>\n",
       "    <tr>\n",
       "      <th>5495</th>\n",
       "      <td>chr1</td>\n",
       "      <td>147539962</td>\n",
       "      <td>147540170</td>\n",
       "      <td>EH38E2835994</td>\n",
       "      <td>chr1</td>\n",
       "      <td>147629652</td>\n",
       "      <td>147670496</td>\n",
       "      <td>ENSG00000162836</td>\n",
       "      <td>2.945460e-06</td>\n",
       "    </tr>\n",
       "    <tr>\n",
       "      <th>5497</th>\n",
       "      <td>chr1</td>\n",
       "      <td>147599385</td>\n",
       "      <td>147599535</td>\n",
       "      <td>EH38E2836028</td>\n",
       "      <td>chr1</td>\n",
       "      <td>147629652</td>\n",
       "      <td>147670496</td>\n",
       "      <td>ENSG00000162836</td>\n",
       "      <td>6.262620e-08</td>\n",
       "    </tr>\n",
       "    <tr>\n",
       "      <th>5498</th>\n",
       "      <td>chr1</td>\n",
       "      <td>147611213</td>\n",
       "      <td>147611484</td>\n",
       "      <td>EH38E2836036</td>\n",
       "      <td>chr1</td>\n",
       "      <td>147629652</td>\n",
       "      <td>147670496</td>\n",
       "      <td>ENSG00000162836</td>\n",
       "      <td>1.631070e-15</td>\n",
       "    </tr>\n",
       "    <tr>\n",
       "      <th>5501</th>\n",
       "      <td>chr1</td>\n",
       "      <td>147627788</td>\n",
       "      <td>147627955</td>\n",
       "      <td>EH38E1382733</td>\n",
       "      <td>chr1</td>\n",
       "      <td>147629652</td>\n",
       "      <td>147670496</td>\n",
       "      <td>ENSG00000162836</td>\n",
       "      <td>8.759060e-16</td>\n",
       "    </tr>\n",
       "    <tr>\n",
       "      <th>5503</th>\n",
       "      <td>chr1</td>\n",
       "      <td>147646291</td>\n",
       "      <td>147646558</td>\n",
       "      <td>EH38E2836060</td>\n",
       "      <td>chr1</td>\n",
       "      <td>147629652</td>\n",
       "      <td>147670496</td>\n",
       "      <td>ENSG00000162836</td>\n",
       "      <td>1.227200e-19</td>\n",
       "    </tr>\n",
       "    <tr>\n",
       "      <th>5504</th>\n",
       "      <td>chr1</td>\n",
       "      <td>147652317</td>\n",
       "      <td>147652651</td>\n",
       "      <td>EH38E2836065</td>\n",
       "      <td>chr1</td>\n",
       "      <td>147629652</td>\n",
       "      <td>147670496</td>\n",
       "      <td>ENSG00000162836</td>\n",
       "      <td>2.743550e-20</td>\n",
       "    </tr>\n",
       "  </tbody>\n",
       "</table>\n",
       "</div>"
      ],
      "text/plain": [
       "     enahancer_chr  enhancer_start  enhancer_end   enhancer_id gene_chr  \\\n",
       "5495          chr1       147539962     147540170  EH38E2835994     chr1   \n",
       "5497          chr1       147599385     147599535  EH38E2836028     chr1   \n",
       "5498          chr1       147611213     147611484  EH38E2836036     chr1   \n",
       "5501          chr1       147627788     147627955  EH38E1382733     chr1   \n",
       "5503          chr1       147646291     147646558  EH38E2836060     chr1   \n",
       "5504          chr1       147652317     147652651  EH38E2836065     chr1   \n",
       "\n",
       "      gene_start   gene_end          gene_id         p-val  \n",
       "5495   147629652  147670496  ENSG00000162836  2.945460e-06  \n",
       "5497   147629652  147670496  ENSG00000162836  6.262620e-08  \n",
       "5498   147629652  147670496  ENSG00000162836  1.631070e-15  \n",
       "5501   147629652  147670496  ENSG00000162836  8.759060e-16  \n",
       "5503   147629652  147670496  ENSG00000162836  1.227200e-19  \n",
       "5504   147629652  147670496  ENSG00000162836  2.743550e-20  "
      ]
     },
     "execution_count": 40,
     "metadata": {},
     "output_type": "execute_result"
    }
   ],
   "source": [
    "finaldf[finaldf['enhancer_id'].isin(['EH38E2836060','EH38E2836065','EH38E1382733','EH38E2836036','EH38E2836028','EH38E2835994'])]"
   ]
  },
  {
   "cell_type": "code",
   "execution_count": 41,
   "id": "f2054865",
   "metadata": {
    "scrolled": true,
    "pycharm": {
     "name": "#%%\n"
    }
   },
   "outputs": [
    {
     "data": {
      "text/html": [
       "<div>\n",
       "<style scoped>\n",
       "    .dataframe tbody tr th:only-of-type {\n",
       "        vertical-align: middle;\n",
       "    }\n",
       "\n",
       "    .dataframe tbody tr th {\n",
       "        vertical-align: top;\n",
       "    }\n",
       "\n",
       "    .dataframe thead th {\n",
       "        text-align: right;\n",
       "    }\n",
       "</style>\n",
       "<table border=\"1\" class=\"dataframe\">\n",
       "  <thead>\n",
       "    <tr style=\"text-align: right;\">\n",
       "      <th></th>\n",
       "      <th>enahancer_chr</th>\n",
       "      <th>enhancer_start</th>\n",
       "      <th>enhancer_end</th>\n",
       "      <th>enhancer_id</th>\n",
       "      <th>gene_chr</th>\n",
       "      <th>gene_start</th>\n",
       "      <th>gene_end</th>\n",
       "      <th>gene_id</th>\n",
       "      <th>p-val</th>\n",
       "    </tr>\n",
       "  </thead>\n",
       "  <tbody>\n",
       "    <tr>\n",
       "      <th>129727</th>\n",
       "      <td>chrX</td>\n",
       "      <td>155731820</td>\n",
       "      <td>155732165</td>\n",
       "      <td>EH38E2774677</td>\n",
       "      <td>chrX</td>\n",
       "      <td>154886349</td>\n",
       "      <td>154888061</td>\n",
       "      <td>ENSG00000277203</td>\n",
       "      <td>1.699620e-13</td>\n",
       "    </tr>\n",
       "    <tr>\n",
       "      <th>129728</th>\n",
       "      <td>chrX</td>\n",
       "      <td>155738988</td>\n",
       "      <td>155739150</td>\n",
       "      <td>EH38E3949987</td>\n",
       "      <td>chrX</td>\n",
       "      <td>154886349</td>\n",
       "      <td>154888061</td>\n",
       "      <td>ENSG00000277203</td>\n",
       "      <td>1.327740e-13</td>\n",
       "    </tr>\n",
       "    <tr>\n",
       "      <th>129729</th>\n",
       "      <td>chrX</td>\n",
       "      <td>155744429</td>\n",
       "      <td>155744642</td>\n",
       "      <td>EH38E3949988</td>\n",
       "      <td>chrX</td>\n",
       "      <td>154886349</td>\n",
       "      <td>154888061</td>\n",
       "      <td>ENSG00000277203</td>\n",
       "      <td>9.674760e-05</td>\n",
       "    </tr>\n",
       "    <tr>\n",
       "      <th>129730</th>\n",
       "      <td>chrX</td>\n",
       "      <td>155745804</td>\n",
       "      <td>155746105</td>\n",
       "      <td>EH38E2774681</td>\n",
       "      <td>chrX</td>\n",
       "      <td>154886349</td>\n",
       "      <td>154888061</td>\n",
       "      <td>ENSG00000277203</td>\n",
       "      <td>1.963390e-12</td>\n",
       "    </tr>\n",
       "    <tr>\n",
       "      <th>129731</th>\n",
       "      <td>chrX</td>\n",
       "      <td>155747551</td>\n",
       "      <td>155747849</td>\n",
       "      <td>EH38E3949990</td>\n",
       "      <td>chrX</td>\n",
       "      <td>154886349</td>\n",
       "      <td>154888061</td>\n",
       "      <td>ENSG00000277203</td>\n",
       "      <td>1.963390e-12</td>\n",
       "    </tr>\n",
       "  </tbody>\n",
       "</table>\n",
       "</div>"
      ],
      "text/plain": [
       "       enahancer_chr  enhancer_start  enhancer_end   enhancer_id gene_chr  \\\n",
       "129727          chrX       155731820     155732165  EH38E2774677     chrX   \n",
       "129728          chrX       155738988     155739150  EH38E3949987     chrX   \n",
       "129729          chrX       155744429     155744642  EH38E3949988     chrX   \n",
       "129730          chrX       155745804     155746105  EH38E2774681     chrX   \n",
       "129731          chrX       155747551     155747849  EH38E3949990     chrX   \n",
       "\n",
       "        gene_start   gene_end          gene_id         p-val  \n",
       "129727   154886349  154888061  ENSG00000277203  1.699620e-13  \n",
       "129728   154886349  154888061  ENSG00000277203  1.327740e-13  \n",
       "129729   154886349  154888061  ENSG00000277203  9.674760e-05  \n",
       "129730   154886349  154888061  ENSG00000277203  1.963390e-12  \n",
       "129731   154886349  154888061  ENSG00000277203  1.963390e-12  "
      ]
     },
     "execution_count": 41,
     "metadata": {},
     "output_type": "execute_result"
    }
   ],
   "source": [
    "finaldf.tail()"
   ]
  },
  {
   "cell_type": "code",
   "execution_count": 42,
   "id": "d2534334",
   "metadata": {
    "pycharm": {
     "name": "#%%\n"
    }
   },
   "outputs": [],
   "source": [
    "finaldf.to_csv('tempFinaleQTL.bed',sep='\\t',header=None,index=False)"
   ]
  }
 ],
 "metadata": {
  "kernelspec": {
   "display_name": "Python 3 (ipykernel)",
   "language": "python",
   "name": "python3"
  },
  "language_info": {
   "codemirror_mode": {
    "name": "ipython",
    "version": 3
   },
   "file_extension": ".py",
   "mimetype": "text/x-python",
   "name": "python",
   "nbconvert_exporter": "python",
   "pygments_lexer": "ipython3",
   "version": "3.9.13"
  }
 },
 "nbformat": 4,
 "nbformat_minor": 5
}