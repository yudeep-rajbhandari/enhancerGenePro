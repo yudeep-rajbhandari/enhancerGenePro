{
 "cells": [
  {
   "cell_type": "code",
   "execution_count": 3,
   "id": "6e3a9d57",
   "metadata": {},
   "outputs": [],
   "source": [
    "import pandas as pd\n",
    "from pybedtools import BedTool\n",
    "from pybedtools.featurefuncs import TSS\n",
    "import os\n",
    "import numpy as np\n",
    "import swifter"
   ]
  },
  {
   "cell_type": "code",
   "execution_count": 4,
   "id": "209bdd02",
   "metadata": {},
   "outputs": [
    {
     "name": "stdout",
     "output_type": "stream",
     "text": [
      "processing Chiapet ['/usr/local/lib/python3.10/dist-packages/ipykernel_launcher.py', '-f', '/home/yudeep/.local/share/jupyter/runtime/kernel-47132032-bec1-4efb-9049-614082091d09.json']\n"
     ]
    }
   ],
   "source": [
    "import sys\n",
    "args = sys.argv  # a list of the arguments provided (str)\n",
    "print(\"processing Chiapet\", args)\n",
    "rawBed= args[1]"
   ]
  },
  {
   "cell_type": "code",
   "execution_count": 5,
   "id": "899552ec",
   "metadata": {},
   "outputs": [],
   "source": [
    "col_Names=[\"0\", \"1\", \"2\", \"3\",\"4\"]\n"
   ]
  },
  {
   "cell_type": "code",
   "execution_count": 6,
   "id": "2f04bcc1",
   "metadata": {},
   "outputs": [],
   "source": [
    "df212 = pd.read_csv('hicFiles/df3pe111.bed',sep='\\t',names=col_Names)"
   ]
  },
  {
   "cell_type": "code",
   "execution_count": 7,
   "id": "1eb9646d",
   "metadata": {
    "scrolled": true
   },
   "outputs": [
    {
     "data": {
      "text/html": [
       "<div>\n",
       "<style scoped>\n",
       "    .dataframe tbody tr th:only-of-type {\n",
       "        vertical-align: middle;\n",
       "    }\n",
       "\n",
       "    .dataframe tbody tr th {\n",
       "        vertical-align: top;\n",
       "    }\n",
       "\n",
       "    .dataframe thead th {\n",
       "        text-align: right;\n",
       "    }\n",
       "</style>\n",
       "<table border=\"1\" class=\"dataframe\">\n",
       "  <thead>\n",
       "    <tr style=\"text-align: right;\">\n",
       "      <th></th>\n",
       "      <th>0</th>\n",
       "      <th>1</th>\n",
       "      <th>2</th>\n",
       "      <th>3</th>\n",
       "      <th>4</th>\n",
       "    </tr>\n",
       "  </thead>\n",
       "  <tbody>\n",
       "    <tr>\n",
       "      <th>0</th>\n",
       "      <td>chr1</td>\n",
       "      <td>2417049</td>\n",
       "      <td>2457049</td>\n",
       "      <td>chr1_1720000_1760000_chr1_1800000_1840000</td>\n",
       "      <td>1.475869e-12</td>\n",
       "    </tr>\n",
       "    <tr>\n",
       "      <th>1</th>\n",
       "      <td>chr1</td>\n",
       "      <td>3979460</td>\n",
       "      <td>4019460</td>\n",
       "      <td>chr1_4480000_4520000_chr1_4520000_4560000</td>\n",
       "      <td>1.791426e-05</td>\n",
       "    </tr>\n",
       "    <tr>\n",
       "      <th>2</th>\n",
       "      <td>chr1</td>\n",
       "      <td>4059460</td>\n",
       "      <td>4099460</td>\n",
       "      <td>chr1_4200000_4240000_chr1_4600000_4640000</td>\n",
       "      <td>4.714114e-03</td>\n",
       "    </tr>\n",
       "    <tr>\n",
       "      <th>3</th>\n",
       "      <td>chr1</td>\n",
       "      <td>4059460</td>\n",
       "      <td>4099460</td>\n",
       "      <td>chr1_4520000_4560000_chr1_4600000_4640000</td>\n",
       "      <td>6.392099e-06</td>\n",
       "    </tr>\n",
       "    <tr>\n",
       "      <th>4</th>\n",
       "      <td>chr1</td>\n",
       "      <td>4099460</td>\n",
       "      <td>4139460</td>\n",
       "      <td>chr1_3720000_3760000_chr1_4640000_4680000</td>\n",
       "      <td>8.710911e-07</td>\n",
       "    </tr>\n",
       "  </tbody>\n",
       "</table>\n",
       "</div>"
      ],
      "text/plain": [
       "      0        1        2                                          3  \\\n",
       "0  chr1  2417049  2457049  chr1_1720000_1760000_chr1_1800000_1840000   \n",
       "1  chr1  3979460  4019460  chr1_4480000_4520000_chr1_4520000_4560000   \n",
       "2  chr1  4059460  4099460  chr1_4200000_4240000_chr1_4600000_4640000   \n",
       "3  chr1  4059460  4099460  chr1_4520000_4560000_chr1_4600000_4640000   \n",
       "4  chr1  4099460  4139460  chr1_3720000_3760000_chr1_4640000_4680000   \n",
       "\n",
       "              4  \n",
       "0  1.475869e-12  \n",
       "1  1.791426e-05  \n",
       "2  4.714114e-03  \n",
       "3  6.392099e-06  \n",
       "4  8.710911e-07  "
      ]
     },
     "execution_count": 7,
     "metadata": {},
     "output_type": "execute_result"
    }
   ],
   "source": [
    "df212.head()"
   ]
  },
  {
   "cell_type": "code",
   "execution_count": 8,
   "id": "5c84acb1",
   "metadata": {},
   "outputs": [],
   "source": [
    "df213 = pd.read_csv('hicFiles/df4pe111.bed',sep='\\t',names=col_Names)"
   ]
  },
  {
   "cell_type": "code",
   "execution_count": 9,
   "id": "e31a7cec",
   "metadata": {},
   "outputs": [],
   "source": [
    "df212 = df212.sort_values(by=['0','1'],ascending=True)\n",
    "df213 = df213.sort_values(by=['0','1'],ascending=True)"
   ]
  },
  {
   "cell_type": "code",
   "execution_count": 10,
   "id": "47d09d10",
   "metadata": {},
   "outputs": [
    {
     "data": {
      "text/plain": [
       "443130"
      ]
     },
     "execution_count": 10,
     "metadata": {},
     "output_type": "execute_result"
    }
   ],
   "source": [
    "len(df212)"
   ]
  },
  {
   "cell_type": "code",
   "execution_count": 11,
   "id": "da44170a",
   "metadata": {},
   "outputs": [
    {
     "data": {
      "text/plain": [
       "438830"
      ]
     },
     "execution_count": 11,
     "metadata": {},
     "output_type": "execute_result"
    }
   ],
   "source": [
    "len(df213)"
   ]
  },
  {
   "cell_type": "code",
   "execution_count": 12,
   "id": "739bed44",
   "metadata": {},
   "outputs": [],
   "source": [
    "df212.to_csv('df3pe11.bed',sep='\\t',index=False,header=None)\n",
    "df213.to_csv('df4pe11.bed',sep='\\t',index=False,header=None)"
   ]
  },
  {
   "cell_type": "code",
   "execution_count": 13,
   "id": "9c7c9b29",
   "metadata": {},
   "outputs": [
    {
     "name": "stderr",
     "output_type": "stream",
     "text": [
      "Reading liftover chains\n",
      "Mapping coordinates\n"
     ]
    },
    {
     "data": {
      "text/plain": [
       "0"
      ]
     },
     "execution_count": 13,
     "metadata": {},
     "output_type": "execute_result"
    }
   ],
   "source": [
    "os.system('../liftOver df4pe11.bed hg19ToHg38.over.chain.gz df4pe111.bed unmapped')"
   ]
  },
  {
   "cell_type": "code",
   "execution_count": 14,
   "id": "102084e5",
   "metadata": {},
   "outputs": [
    {
     "name": "stderr",
     "output_type": "stream",
     "text": [
      "Reading liftover chains\n",
      "Mapping coordinates\n"
     ]
    },
    {
     "data": {
      "text/plain": [
       "0"
      ]
     },
     "execution_count": 14,
     "metadata": {},
     "output_type": "execute_result"
    }
   ],
   "source": [
    "os.system('../liftOver df3pe11.bed hg19ToHg38.over.chain.gz df3pe111.bed unmapped')"
   ]
  },
  {
   "cell_type": "code",
   "execution_count": null,
   "id": "cad33649",
   "metadata": {
    "scrolled": false
   },
   "outputs": [],
   "source": []
  },
  {
   "cell_type": "code",
   "execution_count": null,
   "id": "0a7666e4",
   "metadata": {
    "scrolled": true
   },
   "outputs": [],
   "source": []
  },
  {
   "cell_type": "code",
   "execution_count": 15,
   "id": "c2172d4c",
   "metadata": {},
   "outputs": [],
   "source": [
    "def getClosestgeneWithinDistance(enhancer,genes,distance,num):\n",
    "    snp = BedTool(enhancer)\n",
    "    gene = BedTool(genes)\n",
    "    gene.sort()  \n",
    "    nearby = snp.closest(gene, d=True,k=num, output='tempchiaPet.bed')\n",
    "    dfSNP = pd.read_csv(enhancer, sep='\\t', header=None)\n",
    "    dfGene = pd.read_csv(genes, sep='\\t', header=None)\n",
    "    df1 = pd.read_csv('tempchiaPet.bed', sep='\\t', header=None)\n",
    "    df1 = df1[df1[len(df1.columns)-1] == distance]\n",
    "    os.remove('tempchiaPet.bed')\n",
    "    return df1"
   ]
  },
  {
   "cell_type": "code",
   "execution_count": 16,
   "id": "ea4d1f67",
   "metadata": {},
   "outputs": [],
   "source": [
    "df32= pd.read_csv('mart_export.txt.gz',sep='\\t')"
   ]
  },
  {
   "cell_type": "code",
   "execution_count": 17,
   "id": "55c70d1d",
   "metadata": {},
   "outputs": [
    {
     "data": {
      "text/html": [
       "<div>\n",
       "<style scoped>\n",
       "    .dataframe tbody tr th:only-of-type {\n",
       "        vertical-align: middle;\n",
       "    }\n",
       "\n",
       "    .dataframe tbody tr th {\n",
       "        vertical-align: top;\n",
       "    }\n",
       "\n",
       "    .dataframe thead th {\n",
       "        text-align: right;\n",
       "    }\n",
       "</style>\n",
       "<table border=\"1\" class=\"dataframe\">\n",
       "  <thead>\n",
       "    <tr style=\"text-align: right;\">\n",
       "      <th></th>\n",
       "      <th>Gene stable ID</th>\n",
       "      <th>Transcript stable ID</th>\n",
       "      <th>HGNC ID</th>\n",
       "      <th>HGNC symbol</th>\n",
       "      <th>Gene start (bp)</th>\n",
       "      <th>Gene end (bp)</th>\n",
       "      <th>Chromosome/scaffold name</th>\n",
       "    </tr>\n",
       "  </thead>\n",
       "  <tbody>\n",
       "    <tr>\n",
       "      <th>0</th>\n",
       "      <td>ENSG00000227568</td>\n",
       "      <td>ENST00000458433</td>\n",
       "      <td>HGNC:39634</td>\n",
       "      <td>SNX18P26</td>\n",
       "      <td>18807279</td>\n",
       "      <td>18808018</td>\n",
       "      <td>13</td>\n",
       "    </tr>\n",
       "    <tr>\n",
       "      <th>1</th>\n",
       "      <td>ENSG00000230931</td>\n",
       "      <td>ENST00000446657</td>\n",
       "      <td>HGNC:39676</td>\n",
       "      <td>GXYLT1P1</td>\n",
       "      <td>18724415</td>\n",
       "      <td>18724904</td>\n",
       "      <td>13</td>\n",
       "    </tr>\n",
       "    <tr>\n",
       "      <th>2</th>\n",
       "      <td>ENSG00000204718</td>\n",
       "      <td>ENST00000330492</td>\n",
       "      <td>HGNC:39834</td>\n",
       "      <td>CNN2P12</td>\n",
       "      <td>18726706</td>\n",
       "      <td>18727414</td>\n",
       "      <td>13</td>\n",
       "    </tr>\n",
       "    <tr>\n",
       "      <th>3</th>\n",
       "      <td>ENSG00000231238</td>\n",
       "      <td>ENST00000652806</td>\n",
       "      <td>HGNC:42667</td>\n",
       "      <td>LINC00349</td>\n",
       "      <td>18538880</td>\n",
       "      <td>18551214</td>\n",
       "      <td>13</td>\n",
       "    </tr>\n",
       "    <tr>\n",
       "      <th>4</th>\n",
       "      <td>ENSG00000231238</td>\n",
       "      <td>ENST00000448748</td>\n",
       "      <td>HGNC:42667</td>\n",
       "      <td>LINC00349</td>\n",
       "      <td>18538880</td>\n",
       "      <td>18551214</td>\n",
       "      <td>13</td>\n",
       "    </tr>\n",
       "  </tbody>\n",
       "</table>\n",
       "</div>"
      ],
      "text/plain": [
       "    Gene stable ID Transcript stable ID     HGNC ID HGNC symbol  \\\n",
       "0  ENSG00000227568      ENST00000458433  HGNC:39634    SNX18P26   \n",
       "1  ENSG00000230931      ENST00000446657  HGNC:39676    GXYLT1P1   \n",
       "2  ENSG00000204718      ENST00000330492  HGNC:39834     CNN2P12   \n",
       "3  ENSG00000231238      ENST00000652806  HGNC:42667   LINC00349   \n",
       "4  ENSG00000231238      ENST00000448748  HGNC:42667   LINC00349   \n",
       "\n",
       "   Gene start (bp)  Gene end (bp)  Chromosome/scaffold name  \n",
       "0         18807279       18808018                        13  \n",
       "1         18724415       18724904                        13  \n",
       "2         18726706       18727414                        13  \n",
       "3         18538880       18551214                        13  \n",
       "4         18538880       18551214                        13  "
      ]
     },
     "execution_count": 17,
     "metadata": {},
     "output_type": "execute_result"
    }
   ],
   "source": [
    "df32.head()"
   ]
  },
  {
   "cell_type": "code",
   "execution_count": 18,
   "id": "c9d4f061",
   "metadata": {},
   "outputs": [
    {
     "name": "stdout",
     "output_type": "stream",
     "text": [
      "part1\n"
     ]
    }
   ],
   "source": [
    "print(\"part1\")"
   ]
  },
  {
   "cell_type": "code",
   "execution_count": 19,
   "id": "ad0dcffd",
   "metadata": {},
   "outputs": [],
   "source": [
    "def isEnhancer(a,b,c):\n",
    "    cc= aa[(aa[0] == a) & (aa[1].between(b,c))]\n",
    "    return cc"
   ]
  },
  {
   "cell_type": "code",
   "execution_count": 20,
   "id": "5538c23e",
   "metadata": {},
   "outputs": [],
   "source": [
    "def isGene(a,b,c):\n",
    "    cc= bb[(bb[0] == a) & bb[1].between(b,c)]\n",
    "    return cc"
   ]
  },
  {
   "cell_type": "code",
   "execution_count": 21,
   "id": "e64124a2",
   "metadata": {},
   "outputs": [],
   "source": [
    "def checkIfgeneOrEnhancer(file1,file2):\n",
    "    a_enhancer = getClosestgeneWithinDistance(file1,'df3pe11.bed',0,1)\n",
    "    b_gene = getClosestgeneWithinDistance(file2,'df3pe11.bed',0,1)\n",
    "    c_enhancer = getClosestgeneWithinDistance(file1,'df4pe11.bed',0,1)\n",
    "    d_gene = getClosestgeneWithinDistance(file2,'df4pe11.bed',0,1)\n",
    "    return [a_enhancer,b_gene,c_enhancer,d_gene]"
   ]
  },
  {
   "cell_type": "code",
   "execution_count": 22,
   "id": "28a80e8a",
   "metadata": {},
   "outputs": [],
   "source": [
    "def startPosition(df):\n",
    "    return 'chr'+str(df['Chromosome/scaffold name'])"
   ]
  },
  {
   "cell_type": "code",
   "execution_count": 23,
   "id": "eabe020c",
   "metadata": {},
   "outputs": [],
   "source": [
    "def getTSS(df):\n",
    "    return int(df['Gene start (bp)'])-1"
   ]
  },
  {
   "cell_type": "code",
   "execution_count": 24,
   "id": "f45ffe0a",
   "metadata": {},
   "outputs": [],
   "source": [
    "df32['0'] = df32.apply(startPosition,axis=1)\n",
    "df32['1'] = df32.apply(getTSS,axis=1)\n",
    "df32['2'] = df32['Gene start (bp)']\n",
    "df32['3'] = df32['Gene end (bp)']\n",
    "df32['4'] = df32['Gene stable ID']"
   ]
  },
  {
   "cell_type": "code",
   "execution_count": 25,
   "id": "03628212",
   "metadata": {},
   "outputs": [
    {
     "data": {
      "text/html": [
       "<div>\n",
       "<style scoped>\n",
       "    .dataframe tbody tr th:only-of-type {\n",
       "        vertical-align: middle;\n",
       "    }\n",
       "\n",
       "    .dataframe tbody tr th {\n",
       "        vertical-align: top;\n",
       "    }\n",
       "\n",
       "    .dataframe thead th {\n",
       "        text-align: right;\n",
       "    }\n",
       "</style>\n",
       "<table border=\"1\" class=\"dataframe\">\n",
       "  <thead>\n",
       "    <tr style=\"text-align: right;\">\n",
       "      <th></th>\n",
       "      <th>Gene stable ID</th>\n",
       "      <th>Transcript stable ID</th>\n",
       "      <th>HGNC ID</th>\n",
       "      <th>HGNC symbol</th>\n",
       "      <th>Gene start (bp)</th>\n",
       "      <th>Gene end (bp)</th>\n",
       "      <th>Chromosome/scaffold name</th>\n",
       "      <th>0</th>\n",
       "      <th>1</th>\n",
       "      <th>2</th>\n",
       "      <th>3</th>\n",
       "      <th>4</th>\n",
       "    </tr>\n",
       "  </thead>\n",
       "  <tbody>\n",
       "    <tr>\n",
       "      <th>0</th>\n",
       "      <td>ENSG00000227568</td>\n",
       "      <td>ENST00000458433</td>\n",
       "      <td>HGNC:39634</td>\n",
       "      <td>SNX18P26</td>\n",
       "      <td>18807279</td>\n",
       "      <td>18808018</td>\n",
       "      <td>13</td>\n",
       "      <td>chr13</td>\n",
       "      <td>18807278</td>\n",
       "      <td>18807279</td>\n",
       "      <td>18808018</td>\n",
       "      <td>ENSG00000227568</td>\n",
       "    </tr>\n",
       "    <tr>\n",
       "      <th>1</th>\n",
       "      <td>ENSG00000230931</td>\n",
       "      <td>ENST00000446657</td>\n",
       "      <td>HGNC:39676</td>\n",
       "      <td>GXYLT1P1</td>\n",
       "      <td>18724415</td>\n",
       "      <td>18724904</td>\n",
       "      <td>13</td>\n",
       "      <td>chr13</td>\n",
       "      <td>18724414</td>\n",
       "      <td>18724415</td>\n",
       "      <td>18724904</td>\n",
       "      <td>ENSG00000230931</td>\n",
       "    </tr>\n",
       "    <tr>\n",
       "      <th>2</th>\n",
       "      <td>ENSG00000204718</td>\n",
       "      <td>ENST00000330492</td>\n",
       "      <td>HGNC:39834</td>\n",
       "      <td>CNN2P12</td>\n",
       "      <td>18726706</td>\n",
       "      <td>18727414</td>\n",
       "      <td>13</td>\n",
       "      <td>chr13</td>\n",
       "      <td>18726705</td>\n",
       "      <td>18726706</td>\n",
       "      <td>18727414</td>\n",
       "      <td>ENSG00000204718</td>\n",
       "    </tr>\n",
       "    <tr>\n",
       "      <th>3</th>\n",
       "      <td>ENSG00000231238</td>\n",
       "      <td>ENST00000652806</td>\n",
       "      <td>HGNC:42667</td>\n",
       "      <td>LINC00349</td>\n",
       "      <td>18538880</td>\n",
       "      <td>18551214</td>\n",
       "      <td>13</td>\n",
       "      <td>chr13</td>\n",
       "      <td>18538879</td>\n",
       "      <td>18538880</td>\n",
       "      <td>18551214</td>\n",
       "      <td>ENSG00000231238</td>\n",
       "    </tr>\n",
       "    <tr>\n",
       "      <th>4</th>\n",
       "      <td>ENSG00000231238</td>\n",
       "      <td>ENST00000448748</td>\n",
       "      <td>HGNC:42667</td>\n",
       "      <td>LINC00349</td>\n",
       "      <td>18538880</td>\n",
       "      <td>18551214</td>\n",
       "      <td>13</td>\n",
       "      <td>chr13</td>\n",
       "      <td>18538879</td>\n",
       "      <td>18538880</td>\n",
       "      <td>18551214</td>\n",
       "      <td>ENSG00000231238</td>\n",
       "    </tr>\n",
       "  </tbody>\n",
       "</table>\n",
       "</div>"
      ],
      "text/plain": [
       "    Gene stable ID Transcript stable ID     HGNC ID HGNC symbol  \\\n",
       "0  ENSG00000227568      ENST00000458433  HGNC:39634    SNX18P26   \n",
       "1  ENSG00000230931      ENST00000446657  HGNC:39676    GXYLT1P1   \n",
       "2  ENSG00000204718      ENST00000330492  HGNC:39834     CNN2P12   \n",
       "3  ENSG00000231238      ENST00000652806  HGNC:42667   LINC00349   \n",
       "4  ENSG00000231238      ENST00000448748  HGNC:42667   LINC00349   \n",
       "\n",
       "   Gene start (bp)  Gene end (bp)  Chromosome/scaffold name      0         1  \\\n",
       "0         18807279       18808018                        13  chr13  18807278   \n",
       "1         18724415       18724904                        13  chr13  18724414   \n",
       "2         18726706       18727414                        13  chr13  18726705   \n",
       "3         18538880       18551214                        13  chr13  18538879   \n",
       "4         18538880       18551214                        13  chr13  18538879   \n",
       "\n",
       "          2         3                4  \n",
       "0  18807279  18808018  ENSG00000227568  \n",
       "1  18724415  18724904  ENSG00000230931  \n",
       "2  18726706  18727414  ENSG00000204718  \n",
       "3  18538880  18551214  ENSG00000231238  \n",
       "4  18538880  18551214  ENSG00000231238  "
      ]
     },
     "execution_count": 25,
     "metadata": {},
     "output_type": "execute_result"
    }
   ],
   "source": [
    "df32.head()"
   ]
  },
  {
   "cell_type": "code",
   "execution_count": 26,
   "id": "bf6e71be",
   "metadata": {},
   "outputs": [],
   "source": [
    "df21 = df32[['0','1','2','3','4']]"
   ]
  },
  {
   "cell_type": "code",
   "execution_count": 27,
   "id": "01b442de",
   "metadata": {},
   "outputs": [],
   "source": [
    "df21 = df21.sort_values(by=['0','1'],ascending=True)"
   ]
  },
  {
   "cell_type": "code",
   "execution_count": 28,
   "id": "317c918d",
   "metadata": {},
   "outputs": [],
   "source": [
    "new_header = df21.iloc[0] \n",
    "df21 = df21[1:] \n",
    "df21.columns = new_header \n"
   ]
  },
  {
   "cell_type": "code",
   "execution_count": 29,
   "id": "0ee84f45",
   "metadata": {
    "scrolled": true
   },
   "outputs": [
    {
     "data": {
      "text/html": [
       "<div>\n",
       "<style scoped>\n",
       "    .dataframe tbody tr th:only-of-type {\n",
       "        vertical-align: middle;\n",
       "    }\n",
       "\n",
       "    .dataframe tbody tr th {\n",
       "        vertical-align: top;\n",
       "    }\n",
       "\n",
       "    .dataframe thead th {\n",
       "        text-align: right;\n",
       "    }\n",
       "</style>\n",
       "<table border=\"1\" class=\"dataframe\">\n",
       "  <thead>\n",
       "    <tr style=\"text-align: right;\">\n",
       "      <th>215699</th>\n",
       "      <th>chr1</th>\n",
       "      <th>11868</th>\n",
       "      <th>11869</th>\n",
       "      <th>14409</th>\n",
       "      <th>ENSG00000223972</th>\n",
       "    </tr>\n",
       "  </thead>\n",
       "  <tbody>\n",
       "    <tr>\n",
       "      <th>215700</th>\n",
       "      <td>chr1</td>\n",
       "      <td>11868</td>\n",
       "      <td>11869</td>\n",
       "      <td>14409</td>\n",
       "      <td>ENSG00000223972</td>\n",
       "    </tr>\n",
       "    <tr>\n",
       "      <th>215710</th>\n",
       "      <td>chr1</td>\n",
       "      <td>14403</td>\n",
       "      <td>14404</td>\n",
       "      <td>29570</td>\n",
       "      <td>ENSG00000227232</td>\n",
       "    </tr>\n",
       "    <tr>\n",
       "      <th>215711</th>\n",
       "      <td>chr1</td>\n",
       "      <td>17368</td>\n",
       "      <td>17369</td>\n",
       "      <td>17436</td>\n",
       "      <td>ENSG00000278267</td>\n",
       "    </tr>\n",
       "    <tr>\n",
       "      <th>215712</th>\n",
       "      <td>chr1</td>\n",
       "      <td>29553</td>\n",
       "      <td>29554</td>\n",
       "      <td>31109</td>\n",
       "      <td>ENSG00000243485</td>\n",
       "    </tr>\n",
       "    <tr>\n",
       "      <th>215713</th>\n",
       "      <td>chr1</td>\n",
       "      <td>29553</td>\n",
       "      <td>29554</td>\n",
       "      <td>31109</td>\n",
       "      <td>ENSG00000243485</td>\n",
       "    </tr>\n",
       "  </tbody>\n",
       "</table>\n",
       "</div>"
      ],
      "text/plain": [
       "215699  chr1  11868  11869  14409  ENSG00000223972\n",
       "215700  chr1  11868  11869  14409  ENSG00000223972\n",
       "215710  chr1  14403  14404  29570  ENSG00000227232\n",
       "215711  chr1  17368  17369  17436  ENSG00000278267\n",
       "215712  chr1  29553  29554  31109  ENSG00000243485\n",
       "215713  chr1  29553  29554  31109  ENSG00000243485"
      ]
     },
     "execution_count": 29,
     "metadata": {},
     "output_type": "execute_result"
    }
   ],
   "source": [
    "df21.head()"
   ]
  },
  {
   "cell_type": "code",
   "execution_count": 30,
   "id": "4be6347c",
   "metadata": {},
   "outputs": [],
   "source": [
    "df21.to_csv('tempGene.bed', sep=\"\\t\",index=False)"
   ]
  },
  {
   "cell_type": "code",
   "execution_count": 32,
   "id": "d0b55acc",
   "metadata": {
    "scrolled": true
   },
   "outputs": [],
   "source": [
    "# allEnv = checkIfgeneOrEnhancer(rawBed,'tempGene.bed')\n",
    "allEnv = checkIfgeneOrEnhancer('ENCFF979PSS.bed.gz','tempGene.bed')"
   ]
  },
  {
   "cell_type": "code",
   "execution_count": null,
   "id": "9ef0de47",
   "metadata": {},
   "outputs": [],
   "source": [
    "df1_isEnhancer = allEnv[0]\n",
    "df1_isGene = allEnv[1]\n",
    "df2_isEnhancer = allEnv[2]\n",
    "df2_isGene = allEnv[3]"
   ]
  },
  {
   "cell_type": "code",
   "execution_count": null,
   "id": "3f50a725",
   "metadata": {},
   "outputs": [],
   "source": [
    "print(\"before deletion\")"
   ]
  },
  {
   "cell_type": "code",
   "execution_count": null,
   "id": "ddeb5bf1",
   "metadata": {},
   "outputs": [],
   "source": [
    "del(allEnv)\n",
    "del(df21)\n",
    "del(df32)\n",
    "del(df212)\n",
    "del(df213)"
   ]
  },
  {
   "cell_type": "code",
   "execution_count": null,
   "id": "4a459f0f",
   "metadata": {},
   "outputs": [],
   "source": [
    "print(\"after deletion\")"
   ]
  },
  {
   "cell_type": "code",
   "execution_count": null,
   "id": "fb9207ad",
   "metadata": {},
   "outputs": [],
   "source": [
    "df_all = pd.merge(df1_isEnhancer, df2_isGene , how='inner',  left_on=[14], right_on = [8])"
   ]
  },
  {
   "cell_type": "code",
   "execution_count": null,
   "id": "05f03a15",
   "metadata": {},
   "outputs": [],
   "source": [
    "print(\"after deletion21\")"
   ]
  },
  {
   "cell_type": "code",
   "execution_count": null,
   "id": "b1af6fd7",
   "metadata": {},
   "outputs": [],
   "source": [
    "df_all1 = pd.merge(df2_isEnhancer, df1_isGene , how='inner',  left_on=[14], right_on = [8])"
   ]
  },
  {
   "cell_type": "code",
   "execution_count": null,
   "id": "60088154",
   "metadata": {},
   "outputs": [],
   "source": [
    "print(\"after deletion2\")"
   ]
  },
  {
   "cell_type": "code",
   "execution_count": null,
   "id": "e524eb6b",
   "metadata": {},
   "outputs": [],
   "source": [
    "len(df1_isEnhancer.columns)\n",
    "len(df2_isGene.columns)"
   ]
  },
  {
   "cell_type": "code",
   "execution_count": null,
   "id": "38d7dcba",
   "metadata": {},
   "outputs": [],
   "source": [
    "df_final = pd.concat([df_all, df_all1], axis=0)"
   ]
  },
  {
   "cell_type": "code",
   "execution_count": null,
   "id": "dae29aaa",
   "metadata": {},
   "outputs": [],
   "source": [
    "del(df_all)\n",
    "del(df_all1)"
   ]
  },
  {
   "cell_type": "code",
   "execution_count": null,
   "id": "91e612a7",
   "metadata": {},
   "outputs": [],
   "source": [
    "df_final.head()"
   ]
  },
  {
   "cell_type": "code",
   "execution_count": null,
   "id": "66203c1c",
   "metadata": {},
   "outputs": [],
   "source": [
    "k = df_final['9_y']"
   ]
  },
  {
   "cell_type": "code",
   "execution_count": null,
   "id": "9ce6b03d",
   "metadata": {
    "scrolled": true
   },
   "outputs": [],
   "source": [
    "df_final.head()"
   ]
  },
  {
   "cell_type": "code",
   "execution_count": null,
   "id": "d5cf78aa",
   "metadata": {},
   "outputs": [],
   "source": [
    "df_final.drop(columns=df_final.columns[4:len(df1_isEnhancer.columns)], \n",
    "        axis=1, \n",
    "        inplace=True)\n",
    "df_final.drop(columns=df_final.columns[9:len(df2_isGene.columns)+len(df1_isEnhancer.columns)], \n",
    "        axis=1, \n",
    "        inplace=True)\n",
    "df_final.drop(columns=df_final.columns[5], \n",
    "        axis=1, \n",
    "        inplace=True)"
   ]
  },
  {
   "cell_type": "code",
   "execution_count": null,
   "id": "cbfd766e",
   "metadata": {
    "scrolled": true
   },
   "outputs": [],
   "source": [
    "df_final.head()"
   ]
  },
  {
   "cell_type": "code",
   "execution_count": null,
   "id": "1fee8836",
   "metadata": {
    "scrolled": false
   },
   "outputs": [],
   "source": [
    "df_final[5] = k"
   ]
  },
  {
   "cell_type": "code",
   "execution_count": null,
   "id": "b97cce3f",
   "metadata": {},
   "outputs": [],
   "source": [
    "df_final = df_final.drop_duplicates(subset=['3_x', '4_y'], keep='last')"
   ]
  },
  {
   "cell_type": "code",
   "execution_count": null,
   "id": "ae21d80e",
   "metadata": {
    "scrolled": true
   },
   "outputs": [],
   "source": [
    "df_final.head()"
   ]
  },
  {
   "cell_type": "code",
   "execution_count": null,
   "id": "26701424",
   "metadata": {},
   "outputs": [],
   "source": [
    "new_header = df_final.iloc[0] \n",
    "df_final = df_final[1:] \n",
    "df_final.columns = new_header "
   ]
  },
  {
   "cell_type": "code",
   "execution_count": null,
   "id": "b6611d8c",
   "metadata": {},
   "outputs": [],
   "source": [
    "df_final.head()"
   ]
  },
  {
   "cell_type": "code",
   "execution_count": null,
   "id": "6534f176",
   "metadata": {},
   "outputs": [],
   "source": [
    "df_final.to_csv('tempFinalchiaPet.bed',sep='\\t',header=None,index=False)"
   ]
  },
  {
   "cell_type": "code",
   "execution_count": null,
   "id": "1a515db8",
   "metadata": {},
   "outputs": [],
   "source": [
    "print(\"chiapet printed\")"
   ]
  },
  {
   "cell_type": "code",
   "execution_count": null,
   "id": "3eeff975",
   "metadata": {},
   "outputs": [],
   "source": [
    "df_final = pd.read_csv('tempFinalchiaPet.bed',sep='\\t',header=None)"
   ]
  },
  {
   "cell_type": "code",
   "execution_count": null,
   "id": "e40a21a9",
   "metadata": {
    "scrolled": true
   },
   "outputs": [],
   "source": [
    "df_final.head(50)"
   ]
  },
  {
   "cell_type": "code",
   "execution_count": null,
   "id": "7de16276",
   "metadata": {},
   "outputs": [],
   "source": [
    "df_final[df_final[3] =='EH38E2781077']"
   ]
  },
  {
   "cell_type": "code",
   "execution_count": null,
   "id": "bea7561d",
   "metadata": {
    "scrolled": false
   },
   "outputs": [],
   "source": [
    "df_final[df_final[7]=='EH38E2781080']"
   ]
  },
  {
   "cell_type": "code",
   "execution_count": null,
   "id": "dcf70d0e",
   "metadata": {
    "scrolled": true
   },
   "outputs": [],
   "source": [
    "df_final.head()"
   ]
  },
  {
   "cell_type": "code",
   "execution_count": null,
   "id": "f2561013",
   "metadata": {},
   "outputs": [],
   "source": [
    "df_final[df_final[3].isin(['EH38E2836060','EH38E2836065','EH38E1382733','EH38E2836036','EH38E2836028','EH38E2835994'])]"
   ]
  },
  {
   "cell_type": "code",
   "execution_count": null,
   "id": "f6bc4b09",
   "metadata": {},
   "outputs": [],
   "source": []
  }
 ],
 "metadata": {
  "kernelspec": {
   "display_name": "Python 3 (ipykernel)",
   "language": "python",
   "name": "python3"
  },
  "language_info": {
   "codemirror_mode": {
    "name": "ipython",
    "version": 3
   },
   "file_extension": ".py",
   "mimetype": "text/x-python",
   "name": "python",
   "nbconvert_exporter": "python",
   "pygments_lexer": "ipython3",
   "version": "3.10.6"
  }
 },
 "nbformat": 4,
 "nbformat_minor": 5
}
