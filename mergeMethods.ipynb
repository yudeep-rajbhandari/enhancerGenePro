{
 "cells": [
  {
   "cell_type": "code",
   "execution_count": 37,
   "id": "d7f1cbd8",
   "metadata": {},
   "outputs": [],
   "source": [
    "import pandas as pd\n",
    "import matplotlib.pyplot as plt\n",
    "import matplotlib.patches as mpatches\n",
    "import numpy as np\n",
    "import swifter"
   ]
  },
  {
   "cell_type": "code",
   "execution_count": 38,
   "id": "ae258618",
   "metadata": {},
   "outputs": [],
   "source": [
    "pd.set_option('display.max_columns', None)\n",
    "pd.set_option('display.max_rows', None)"
   ]
  },
  {
   "cell_type": "code",
   "execution_count": 39,
   "id": "b3bfb191",
   "metadata": {},
   "outputs": [],
   "source": [
    "chiaPet = pd.read_csv('tempFinalchiaPet.bed', sep='\\t',header=None)"
   ]
  },
  {
   "cell_type": "code",
   "execution_count": 40,
   "id": "075dfb89",
   "metadata": {},
   "outputs": [],
   "source": [
    "distance = pd.read_csv('tempFinaldistance.bed', sep='\\t',header=None)"
   ]
  },
  {
   "cell_type": "code",
   "execution_count": 41,
   "id": "48b4bc6f",
   "metadata": {},
   "outputs": [],
   "source": [
    "eqTL = pd.read_csv('tempFinaleQTL.bed', sep='\\t',header=None)"
   ]
  },
  {
   "cell_type": "code",
   "execution_count": 42,
   "id": "70e78e3a",
   "metadata": {
    "scrolled": true
   },
   "outputs": [
    {
     "data": {
      "text/html": [
       "<div>\n",
       "<style scoped>\n",
       "    .dataframe tbody tr th:only-of-type {\n",
       "        vertical-align: middle;\n",
       "    }\n",
       "\n",
       "    .dataframe tbody tr th {\n",
       "        vertical-align: top;\n",
       "    }\n",
       "\n",
       "    .dataframe thead th {\n",
       "        text-align: right;\n",
       "    }\n",
       "</style>\n",
       "<table border=\"1\" class=\"dataframe\">\n",
       "  <thead>\n",
       "    <tr style=\"text-align: right;\">\n",
       "      <th></th>\n",
       "      <th>0</th>\n",
       "      <th>1</th>\n",
       "      <th>2</th>\n",
       "      <th>3</th>\n",
       "      <th>4</th>\n",
       "      <th>5</th>\n",
       "      <th>6</th>\n",
       "      <th>7</th>\n",
       "      <th>8</th>\n",
       "    </tr>\n",
       "  </thead>\n",
       "  <tbody>\n",
       "    <tr>\n",
       "      <th>0</th>\n",
       "      <td>chr1</td>\n",
       "      <td>104896</td>\n",
       "      <td>105048</td>\n",
       "      <td>EH38E2776520</td>\n",
       "      <td>chr1</td>\n",
       "      <td>89551</td>\n",
       "      <td>91105</td>\n",
       "      <td>ENSG00000239945</td>\n",
       "      <td>13792</td>\n",
       "    </tr>\n",
       "    <tr>\n",
       "      <th>1</th>\n",
       "      <td>chr1</td>\n",
       "      <td>138866</td>\n",
       "      <td>139134</td>\n",
       "      <td>EH38E2776521</td>\n",
       "      <td>chr1</td>\n",
       "      <td>139790</td>\n",
       "      <td>140339</td>\n",
       "      <td>ENSG00000239906</td>\n",
       "      <td>657</td>\n",
       "    </tr>\n",
       "    <tr>\n",
       "      <th>2</th>\n",
       "      <td>chr1</td>\n",
       "      <td>180743</td>\n",
       "      <td>180904</td>\n",
       "      <td>EH38E2776522</td>\n",
       "      <td>chr1</td>\n",
       "      <td>182696</td>\n",
       "      <td>184174</td>\n",
       "      <td>ENSG00000279928</td>\n",
       "      <td>1793</td>\n",
       "    </tr>\n",
       "    <tr>\n",
       "      <th>3</th>\n",
       "      <td>chr1</td>\n",
       "      <td>181014</td>\n",
       "      <td>181237</td>\n",
       "      <td>EH38E2776523</td>\n",
       "      <td>chr1</td>\n",
       "      <td>182696</td>\n",
       "      <td>184174</td>\n",
       "      <td>ENSG00000279928</td>\n",
       "      <td>1460</td>\n",
       "    </tr>\n",
       "    <tr>\n",
       "      <th>4</th>\n",
       "      <td>chr1</td>\n",
       "      <td>181289</td>\n",
       "      <td>181639</td>\n",
       "      <td>EH38E2776524</td>\n",
       "      <td>chr1</td>\n",
       "      <td>182696</td>\n",
       "      <td>184174</td>\n",
       "      <td>ENSG00000279928</td>\n",
       "      <td>1058</td>\n",
       "    </tr>\n",
       "    <tr>\n",
       "      <th>5</th>\n",
       "      <td>chr1</td>\n",
       "      <td>267925</td>\n",
       "      <td>268171</td>\n",
       "      <td>EH38E2776528</td>\n",
       "      <td>chr1</td>\n",
       "      <td>185217</td>\n",
       "      <td>195411</td>\n",
       "      <td>ENSG00000279457</td>\n",
       "      <td>72515</td>\n",
       "    </tr>\n",
       "    <tr>\n",
       "      <th>6</th>\n",
       "      <td>chr1</td>\n",
       "      <td>271226</td>\n",
       "      <td>271468</td>\n",
       "      <td>EH38E2776529</td>\n",
       "      <td>chr1</td>\n",
       "      <td>266855</td>\n",
       "      <td>268655</td>\n",
       "      <td>ENSG00000286448</td>\n",
       "      <td>2572</td>\n",
       "    </tr>\n",
       "    <tr>\n",
       "      <th>7</th>\n",
       "      <td>chr1</td>\n",
       "      <td>274329</td>\n",
       "      <td>274481</td>\n",
       "      <td>EH38E2776530</td>\n",
       "      <td>chr1</td>\n",
       "      <td>266855</td>\n",
       "      <td>268655</td>\n",
       "      <td>ENSG00000286448</td>\n",
       "      <td>5675</td>\n",
       "    </tr>\n",
       "    <tr>\n",
       "      <th>8</th>\n",
       "      <td>chr1</td>\n",
       "      <td>586036</td>\n",
       "      <td>586264</td>\n",
       "      <td>EH38E2776532</td>\n",
       "      <td>chr1</td>\n",
       "      <td>587629</td>\n",
       "      <td>594768</td>\n",
       "      <td>ENSG00000235146</td>\n",
       "      <td>1366</td>\n",
       "    </tr>\n",
       "    <tr>\n",
       "      <th>9</th>\n",
       "      <td>chr1</td>\n",
       "      <td>605330</td>\n",
       "      <td>605668</td>\n",
       "      <td>EH38E2776534</td>\n",
       "      <td>chr1</td>\n",
       "      <td>587629</td>\n",
       "      <td>594768</td>\n",
       "      <td>ENSG00000235146</td>\n",
       "      <td>10563</td>\n",
       "    </tr>\n",
       "  </tbody>\n",
       "</table>\n",
       "</div>"
      ],
      "text/plain": [
       "      0       1       2             3     4       5       6                7  \\\n",
       "0  chr1  104896  105048  EH38E2776520  chr1   89551   91105  ENSG00000239945   \n",
       "1  chr1  138866  139134  EH38E2776521  chr1  139790  140339  ENSG00000239906   \n",
       "2  chr1  180743  180904  EH38E2776522  chr1  182696  184174  ENSG00000279928   \n",
       "3  chr1  181014  181237  EH38E2776523  chr1  182696  184174  ENSG00000279928   \n",
       "4  chr1  181289  181639  EH38E2776524  chr1  182696  184174  ENSG00000279928   \n",
       "5  chr1  267925  268171  EH38E2776528  chr1  185217  195411  ENSG00000279457   \n",
       "6  chr1  271226  271468  EH38E2776529  chr1  266855  268655  ENSG00000286448   \n",
       "7  chr1  274329  274481  EH38E2776530  chr1  266855  268655  ENSG00000286448   \n",
       "8  chr1  586036  586264  EH38E2776532  chr1  587629  594768  ENSG00000235146   \n",
       "9  chr1  605330  605668  EH38E2776534  chr1  587629  594768  ENSG00000235146   \n",
       "\n",
       "       8  \n",
       "0  13792  \n",
       "1    657  \n",
       "2   1793  \n",
       "3   1460  \n",
       "4   1058  \n",
       "5  72515  \n",
       "6   2572  \n",
       "7   5675  \n",
       "8   1366  \n",
       "9  10563  "
      ]
     },
     "execution_count": 42,
     "metadata": {},
     "output_type": "execute_result"
    }
   ],
   "source": [
    "distance.head(10)"
   ]
  },
  {
   "cell_type": "code",
   "execution_count": 43,
   "id": "1c490031",
   "metadata": {},
   "outputs": [],
   "source": [
    "distance[8] = distance[8].apply(lambda x: np.log10(x) if x != 0 else x)\n"
   ]
  },
  {
   "cell_type": "code",
   "execution_count": 44,
   "id": "9a67937f",
   "metadata": {},
   "outputs": [],
   "source": [
    "def startPosition(df):\n",
    "    return df[3]+'-'+df[7]"
   ]
  },
  {
   "cell_type": "code",
   "execution_count": 45,
   "id": "0e84f07b",
   "metadata": {},
   "outputs": [],
   "source": [
    "def startPosition1(df):\n",
    "    return df[3]+'-'+df[8]"
   ]
  },
  {
   "cell_type": "code",
   "execution_count": 46,
   "id": "ef7599c6",
   "metadata": {},
   "outputs": [
    {
     "data": {
      "text/html": [
       "<div>\n",
       "<style scoped>\n",
       "    .dataframe tbody tr th:only-of-type {\n",
       "        vertical-align: middle;\n",
       "    }\n",
       "\n",
       "    .dataframe tbody tr th {\n",
       "        vertical-align: top;\n",
       "    }\n",
       "\n",
       "    .dataframe thead th {\n",
       "        text-align: right;\n",
       "    }\n",
       "</style>\n",
       "<table border=\"1\" class=\"dataframe\">\n",
       "  <thead>\n",
       "    <tr style=\"text-align: right;\">\n",
       "      <th></th>\n",
       "      <th>0</th>\n",
       "      <th>1</th>\n",
       "      <th>2</th>\n",
       "      <th>3</th>\n",
       "      <th>4</th>\n",
       "      <th>5</th>\n",
       "      <th>6</th>\n",
       "      <th>7</th>\n",
       "      <th>8</th>\n",
       "    </tr>\n",
       "  </thead>\n",
       "  <tbody>\n",
       "    <tr>\n",
       "      <th>0</th>\n",
       "      <td>chr1</td>\n",
       "      <td>727121</td>\n",
       "      <td>727350</td>\n",
       "      <td>EH38E2776536</td>\n",
       "      <td>chr1</td>\n",
       "      <td>826206</td>\n",
       "      <td>827522</td>\n",
       "      <td>ENSG00000225880</td>\n",
       "      <td>3.143020e-07</td>\n",
       "    </tr>\n",
       "    <tr>\n",
       "      <th>1</th>\n",
       "      <td>chr1</td>\n",
       "      <td>778570</td>\n",
       "      <td>778919</td>\n",
       "      <td>EH38E2776539</td>\n",
       "      <td>chr1</td>\n",
       "      <td>778770</td>\n",
       "      <td>810060</td>\n",
       "      <td>ENSG00000237491</td>\n",
       "      <td>1.974390e-14</td>\n",
       "    </tr>\n",
       "    <tr>\n",
       "      <th>2</th>\n",
       "      <td>chr1</td>\n",
       "      <td>778570</td>\n",
       "      <td>778919</td>\n",
       "      <td>EH38E2776539</td>\n",
       "      <td>chr1</td>\n",
       "      <td>800879</td>\n",
       "      <td>810170</td>\n",
       "      <td>ENSG00000230092</td>\n",
       "      <td>1.905520e-07</td>\n",
       "    </tr>\n",
       "    <tr>\n",
       "      <th>3</th>\n",
       "      <td>chr1</td>\n",
       "      <td>778570</td>\n",
       "      <td>778919</td>\n",
       "      <td>EH38E2776539</td>\n",
       "      <td>chr1</td>\n",
       "      <td>817371</td>\n",
       "      <td>819837</td>\n",
       "      <td>ENSG00000177757</td>\n",
       "      <td>3.094740e-07</td>\n",
       "    </tr>\n",
       "    <tr>\n",
       "      <th>4</th>\n",
       "      <td>chr1</td>\n",
       "      <td>778570</td>\n",
       "      <td>778919</td>\n",
       "      <td>EH38E2776539</td>\n",
       "      <td>chr1</td>\n",
       "      <td>826206</td>\n",
       "      <td>827522</td>\n",
       "      <td>ENSG00000225880</td>\n",
       "      <td>9.063750e-10</td>\n",
       "    </tr>\n",
       "  </tbody>\n",
       "</table>\n",
       "</div>"
      ],
      "text/plain": [
       "      0       1       2             3     4       5       6                7  \\\n",
       "0  chr1  727121  727350  EH38E2776536  chr1  826206  827522  ENSG00000225880   \n",
       "1  chr1  778570  778919  EH38E2776539  chr1  778770  810060  ENSG00000237491   \n",
       "2  chr1  778570  778919  EH38E2776539  chr1  800879  810170  ENSG00000230092   \n",
       "3  chr1  778570  778919  EH38E2776539  chr1  817371  819837  ENSG00000177757   \n",
       "4  chr1  778570  778919  EH38E2776539  chr1  826206  827522  ENSG00000225880   \n",
       "\n",
       "              8  \n",
       "0  3.143020e-07  \n",
       "1  1.974390e-14  \n",
       "2  1.905520e-07  \n",
       "3  3.094740e-07  \n",
       "4  9.063750e-10  "
      ]
     },
     "execution_count": 46,
     "metadata": {},
     "output_type": "execute_result"
    }
   ],
   "source": [
    "eqTL.head()"
   ]
  },
  {
   "cell_type": "code",
   "execution_count": 47,
   "id": "69f7e15d",
   "metadata": {
    "scrolled": true
   },
   "outputs": [
    {
     "data": {
      "text/html": [
       "<div>\n",
       "<style scoped>\n",
       "    .dataframe tbody tr th:only-of-type {\n",
       "        vertical-align: middle;\n",
       "    }\n",
       "\n",
       "    .dataframe tbody tr th {\n",
       "        vertical-align: top;\n",
       "    }\n",
       "\n",
       "    .dataframe thead th {\n",
       "        text-align: right;\n",
       "    }\n",
       "</style>\n",
       "<table border=\"1\" class=\"dataframe\">\n",
       "  <thead>\n",
       "    <tr style=\"text-align: right;\">\n",
       "      <th></th>\n",
       "      <th>0</th>\n",
       "      <th>1</th>\n",
       "      <th>2</th>\n",
       "      <th>3</th>\n",
       "      <th>4</th>\n",
       "      <th>5</th>\n",
       "      <th>6</th>\n",
       "      <th>7</th>\n",
       "      <th>8</th>\n",
       "    </tr>\n",
       "  </thead>\n",
       "  <tbody>\n",
       "    <tr>\n",
       "      <th>0</th>\n",
       "      <td>chr1</td>\n",
       "      <td>2390324</td>\n",
       "      <td>2390672</td>\n",
       "      <td>EH38E2778851</td>\n",
       "      <td>chr1</td>\n",
       "      <td>2212523</td>\n",
       "      <td>2220738</td>\n",
       "      <td>ENSG00000234396</td>\n",
       "      <td>0.59</td>\n",
       "    </tr>\n",
       "    <tr>\n",
       "      <th>1</th>\n",
       "      <td>chr1</td>\n",
       "      <td>2391031</td>\n",
       "      <td>2391362</td>\n",
       "      <td>EH38E2778853</td>\n",
       "      <td>chr1</td>\n",
       "      <td>2212523</td>\n",
       "      <td>2220738</td>\n",
       "      <td>ENSG00000234396</td>\n",
       "      <td>0.59</td>\n",
       "    </tr>\n",
       "    <tr>\n",
       "      <th>2</th>\n",
       "      <td>chr1</td>\n",
       "      <td>2391520</td>\n",
       "      <td>2391869</td>\n",
       "      <td>EH38E2778854</td>\n",
       "      <td>chr1</td>\n",
       "      <td>2212523</td>\n",
       "      <td>2220738</td>\n",
       "      <td>ENSG00000234396</td>\n",
       "      <td>0.59</td>\n",
       "    </tr>\n",
       "    <tr>\n",
       "      <th>3</th>\n",
       "      <td>chr1</td>\n",
       "      <td>2391934</td>\n",
       "      <td>2392163</td>\n",
       "      <td>EH38E2778855</td>\n",
       "      <td>chr1</td>\n",
       "      <td>2212523</td>\n",
       "      <td>2220738</td>\n",
       "      <td>ENSG00000234396</td>\n",
       "      <td>0.59</td>\n",
       "    </tr>\n",
       "    <tr>\n",
       "      <th>4</th>\n",
       "      <td>chr1</td>\n",
       "      <td>2392260</td>\n",
       "      <td>2392499</td>\n",
       "      <td>EH38E2778856</td>\n",
       "      <td>chr1</td>\n",
       "      <td>2212523</td>\n",
       "      <td>2220738</td>\n",
       "      <td>ENSG00000234396</td>\n",
       "      <td>0.59</td>\n",
       "    </tr>\n",
       "  </tbody>\n",
       "</table>\n",
       "</div>"
      ],
      "text/plain": [
       "      0        1        2             3     4        5        6  \\\n",
       "0  chr1  2390324  2390672  EH38E2778851  chr1  2212523  2220738   \n",
       "1  chr1  2391031  2391362  EH38E2778853  chr1  2212523  2220738   \n",
       "2  chr1  2391520  2391869  EH38E2778854  chr1  2212523  2220738   \n",
       "3  chr1  2391934  2392163  EH38E2778855  chr1  2212523  2220738   \n",
       "4  chr1  2392260  2392499  EH38E2778856  chr1  2212523  2220738   \n",
       "\n",
       "                 7     8  \n",
       "0  ENSG00000234396  0.59  \n",
       "1  ENSG00000234396  0.59  \n",
       "2  ENSG00000234396  0.59  \n",
       "3  ENSG00000234396  0.59  \n",
       "4  ENSG00000234396  0.59  "
      ]
     },
     "execution_count": 47,
     "metadata": {},
     "output_type": "execute_result"
    }
   ],
   "source": [
    "chiaPet.head()"
   ]
  },
  {
   "cell_type": "code",
   "execution_count": 48,
   "id": "d07f3d93",
   "metadata": {},
   "outputs": [],
   "source": [
    "# chiaPet.drop(columns=6,\n",
    "#         axis=1, \n",
    "#         inplace=True)"
   ]
  },
  {
   "cell_type": "code",
   "execution_count": 49,
   "id": "2e5d2db1",
   "metadata": {},
   "outputs": [
    {
     "data": {
      "text/html": [
       "<div>\n",
       "<style scoped>\n",
       "    .dataframe tbody tr th:only-of-type {\n",
       "        vertical-align: middle;\n",
       "    }\n",
       "\n",
       "    .dataframe tbody tr th {\n",
       "        vertical-align: top;\n",
       "    }\n",
       "\n",
       "    .dataframe thead th {\n",
       "        text-align: right;\n",
       "    }\n",
       "</style>\n",
       "<table border=\"1\" class=\"dataframe\">\n",
       "  <thead>\n",
       "    <tr style=\"text-align: right;\">\n",
       "      <th></th>\n",
       "      <th>0</th>\n",
       "      <th>1</th>\n",
       "      <th>2</th>\n",
       "      <th>3</th>\n",
       "      <th>4</th>\n",
       "      <th>5</th>\n",
       "      <th>6</th>\n",
       "      <th>7</th>\n",
       "      <th>8</th>\n",
       "    </tr>\n",
       "  </thead>\n",
       "  <tbody>\n",
       "    <tr>\n",
       "      <th>0</th>\n",
       "      <td>chr1</td>\n",
       "      <td>2390324</td>\n",
       "      <td>2390672</td>\n",
       "      <td>EH38E2778851</td>\n",
       "      <td>chr1</td>\n",
       "      <td>2212523</td>\n",
       "      <td>2220738</td>\n",
       "      <td>ENSG00000234396</td>\n",
       "      <td>0.59</td>\n",
       "    </tr>\n",
       "    <tr>\n",
       "      <th>1</th>\n",
       "      <td>chr1</td>\n",
       "      <td>2391031</td>\n",
       "      <td>2391362</td>\n",
       "      <td>EH38E2778853</td>\n",
       "      <td>chr1</td>\n",
       "      <td>2212523</td>\n",
       "      <td>2220738</td>\n",
       "      <td>ENSG00000234396</td>\n",
       "      <td>0.59</td>\n",
       "    </tr>\n",
       "    <tr>\n",
       "      <th>2</th>\n",
       "      <td>chr1</td>\n",
       "      <td>2391520</td>\n",
       "      <td>2391869</td>\n",
       "      <td>EH38E2778854</td>\n",
       "      <td>chr1</td>\n",
       "      <td>2212523</td>\n",
       "      <td>2220738</td>\n",
       "      <td>ENSG00000234396</td>\n",
       "      <td>0.59</td>\n",
       "    </tr>\n",
       "    <tr>\n",
       "      <th>3</th>\n",
       "      <td>chr1</td>\n",
       "      <td>2391934</td>\n",
       "      <td>2392163</td>\n",
       "      <td>EH38E2778855</td>\n",
       "      <td>chr1</td>\n",
       "      <td>2212523</td>\n",
       "      <td>2220738</td>\n",
       "      <td>ENSG00000234396</td>\n",
       "      <td>0.59</td>\n",
       "    </tr>\n",
       "    <tr>\n",
       "      <th>4</th>\n",
       "      <td>chr1</td>\n",
       "      <td>2392260</td>\n",
       "      <td>2392499</td>\n",
       "      <td>EH38E2778856</td>\n",
       "      <td>chr1</td>\n",
       "      <td>2212523</td>\n",
       "      <td>2220738</td>\n",
       "      <td>ENSG00000234396</td>\n",
       "      <td>0.59</td>\n",
       "    </tr>\n",
       "  </tbody>\n",
       "</table>\n",
       "</div>"
      ],
      "text/plain": [
       "      0        1        2             3     4        5        6  \\\n",
       "0  chr1  2390324  2390672  EH38E2778851  chr1  2212523  2220738   \n",
       "1  chr1  2391031  2391362  EH38E2778853  chr1  2212523  2220738   \n",
       "2  chr1  2391520  2391869  EH38E2778854  chr1  2212523  2220738   \n",
       "3  chr1  2391934  2392163  EH38E2778855  chr1  2212523  2220738   \n",
       "4  chr1  2392260  2392499  EH38E2778856  chr1  2212523  2220738   \n",
       "\n",
       "                 7     8  \n",
       "0  ENSG00000234396  0.59  \n",
       "1  ENSG00000234396  0.59  \n",
       "2  ENSG00000234396  0.59  \n",
       "3  ENSG00000234396  0.59  \n",
       "4  ENSG00000234396  0.59  "
      ]
     },
     "execution_count": 49,
     "metadata": {},
     "output_type": "execute_result"
    }
   ],
   "source": [
    "chiaPet.head()"
   ]
  },
  {
   "cell_type": "code",
   "execution_count": 50,
   "id": "3cb668f1",
   "metadata": {},
   "outputs": [],
   "source": [
    "chiaPet[9]= 'chiaPet'"
   ]
  },
  {
   "cell_type": "code",
   "execution_count": 51,
   "id": "3b82a885",
   "metadata": {},
   "outputs": [],
   "source": [
    "chiaPet[10] = chiaPet.swifter.apply(startPosition,axis=1)"
   ]
  },
  {
   "cell_type": "code",
   "execution_count": 52,
   "id": "c3a99623",
   "metadata": {
    "scrolled": true
   },
   "outputs": [
    {
     "data": {
      "text/html": [
       "<div>\n",
       "<style scoped>\n",
       "    .dataframe tbody tr th:only-of-type {\n",
       "        vertical-align: middle;\n",
       "    }\n",
       "\n",
       "    .dataframe tbody tr th {\n",
       "        vertical-align: top;\n",
       "    }\n",
       "\n",
       "    .dataframe thead th {\n",
       "        text-align: right;\n",
       "    }\n",
       "</style>\n",
       "<table border=\"1\" class=\"dataframe\">\n",
       "  <thead>\n",
       "    <tr style=\"text-align: right;\">\n",
       "      <th></th>\n",
       "      <th>0</th>\n",
       "      <th>1</th>\n",
       "      <th>2</th>\n",
       "      <th>3</th>\n",
       "      <th>4</th>\n",
       "      <th>5</th>\n",
       "      <th>6</th>\n",
       "      <th>7</th>\n",
       "      <th>8</th>\n",
       "      <th>9</th>\n",
       "      <th>10</th>\n",
       "    </tr>\n",
       "  </thead>\n",
       "  <tbody>\n",
       "    <tr>\n",
       "      <th>0</th>\n",
       "      <td>chr1</td>\n",
       "      <td>2390324</td>\n",
       "      <td>2390672</td>\n",
       "      <td>EH38E2778851</td>\n",
       "      <td>chr1</td>\n",
       "      <td>2212523</td>\n",
       "      <td>2220738</td>\n",
       "      <td>ENSG00000234396</td>\n",
       "      <td>0.59</td>\n",
       "      <td>chiaPet</td>\n",
       "      <td>EH38E2778851-ENSG00000234396</td>\n",
       "    </tr>\n",
       "    <tr>\n",
       "      <th>1</th>\n",
       "      <td>chr1</td>\n",
       "      <td>2391031</td>\n",
       "      <td>2391362</td>\n",
       "      <td>EH38E2778853</td>\n",
       "      <td>chr1</td>\n",
       "      <td>2212523</td>\n",
       "      <td>2220738</td>\n",
       "      <td>ENSG00000234396</td>\n",
       "      <td>0.59</td>\n",
       "      <td>chiaPet</td>\n",
       "      <td>EH38E2778853-ENSG00000234396</td>\n",
       "    </tr>\n",
       "    <tr>\n",
       "      <th>2</th>\n",
       "      <td>chr1</td>\n",
       "      <td>2391520</td>\n",
       "      <td>2391869</td>\n",
       "      <td>EH38E2778854</td>\n",
       "      <td>chr1</td>\n",
       "      <td>2212523</td>\n",
       "      <td>2220738</td>\n",
       "      <td>ENSG00000234396</td>\n",
       "      <td>0.59</td>\n",
       "      <td>chiaPet</td>\n",
       "      <td>EH38E2778854-ENSG00000234396</td>\n",
       "    </tr>\n",
       "    <tr>\n",
       "      <th>3</th>\n",
       "      <td>chr1</td>\n",
       "      <td>2391934</td>\n",
       "      <td>2392163</td>\n",
       "      <td>EH38E2778855</td>\n",
       "      <td>chr1</td>\n",
       "      <td>2212523</td>\n",
       "      <td>2220738</td>\n",
       "      <td>ENSG00000234396</td>\n",
       "      <td>0.59</td>\n",
       "      <td>chiaPet</td>\n",
       "      <td>EH38E2778855-ENSG00000234396</td>\n",
       "    </tr>\n",
       "    <tr>\n",
       "      <th>4</th>\n",
       "      <td>chr1</td>\n",
       "      <td>2392260</td>\n",
       "      <td>2392499</td>\n",
       "      <td>EH38E2778856</td>\n",
       "      <td>chr1</td>\n",
       "      <td>2212523</td>\n",
       "      <td>2220738</td>\n",
       "      <td>ENSG00000234396</td>\n",
       "      <td>0.59</td>\n",
       "      <td>chiaPet</td>\n",
       "      <td>EH38E2778856-ENSG00000234396</td>\n",
       "    </tr>\n",
       "  </tbody>\n",
       "</table>\n",
       "</div>"
      ],
      "text/plain": [
       "     0        1        2             3     4        5        6   \\\n",
       "0  chr1  2390324  2390672  EH38E2778851  chr1  2212523  2220738   \n",
       "1  chr1  2391031  2391362  EH38E2778853  chr1  2212523  2220738   \n",
       "2  chr1  2391520  2391869  EH38E2778854  chr1  2212523  2220738   \n",
       "3  chr1  2391934  2392163  EH38E2778855  chr1  2212523  2220738   \n",
       "4  chr1  2392260  2392499  EH38E2778856  chr1  2212523  2220738   \n",
       "\n",
       "                7     8        9                             10  \n",
       "0  ENSG00000234396  0.59  chiaPet  EH38E2778851-ENSG00000234396  \n",
       "1  ENSG00000234396  0.59  chiaPet  EH38E2778853-ENSG00000234396  \n",
       "2  ENSG00000234396  0.59  chiaPet  EH38E2778854-ENSG00000234396  \n",
       "3  ENSG00000234396  0.59  chiaPet  EH38E2778855-ENSG00000234396  \n",
       "4  ENSG00000234396  0.59  chiaPet  EH38E2778856-ENSG00000234396  "
      ]
     },
     "execution_count": 52,
     "metadata": {},
     "output_type": "execute_result"
    }
   ],
   "source": [
    "chiaPet.head()"
   ]
  },
  {
   "cell_type": "code",
   "execution_count": 53,
   "id": "08a60cb8",
   "metadata": {},
   "outputs": [
    {
     "data": {
      "text/plain": [
       "6370"
      ]
     },
     "execution_count": 53,
     "metadata": {},
     "output_type": "execute_result"
    }
   ],
   "source": [
    "len(chiaPet[7].unique())"
   ]
  },
  {
   "cell_type": "code",
   "execution_count": 54,
   "id": "6b2c9cc8",
   "metadata": {},
   "outputs": [
    {
     "data": {
      "text/plain": [
       "43540"
      ]
     },
     "execution_count": 54,
     "metadata": {},
     "output_type": "execute_result"
    }
   ],
   "source": [
    "len(chiaPet[3].unique())"
   ]
  },
  {
   "cell_type": "code",
   "execution_count": null,
   "id": "62f46dfb",
   "metadata": {
    "scrolled": false
   },
   "outputs": [],
   "source": []
  },
  {
   "cell_type": "code",
   "execution_count": 55,
   "id": "976a219c",
   "metadata": {},
   "outputs": [],
   "source": [
    "distance[10] = distance.apply(startPosition,axis=1)"
   ]
  },
  {
   "cell_type": "code",
   "execution_count": 56,
   "id": "827ce999",
   "metadata": {},
   "outputs": [],
   "source": [
    "distance[9] = 'distance'"
   ]
  },
  {
   "cell_type": "code",
   "execution_count": 57,
   "id": "c8dadb4e",
   "metadata": {
    "scrolled": true
   },
   "outputs": [
    {
     "data": {
      "text/plain": [
       "1036902"
      ]
     },
     "execution_count": 57,
     "metadata": {},
     "output_type": "execute_result"
    }
   ],
   "source": [
    "len(distance[3].unique())"
   ]
  },
  {
   "cell_type": "code",
   "execution_count": 58,
   "id": "e646f803",
   "metadata": {},
   "outputs": [
    {
     "data": {
      "text/plain": [
       "54623"
      ]
     },
     "execution_count": 58,
     "metadata": {},
     "output_type": "execute_result"
    }
   ],
   "source": [
    "len(distance[6].unique())"
   ]
  },
  {
   "cell_type": "code",
   "execution_count": 59,
   "id": "6fda40d7",
   "metadata": {},
   "outputs": [],
   "source": [
    "eqTL[9] = 'eqtl'"
   ]
  },
  {
   "cell_type": "code",
   "execution_count": 60,
   "id": "632efcca",
   "metadata": {},
   "outputs": [],
   "source": [
    "eqTL[10] = eqTL.apply(startPosition,axis=1)"
   ]
  },
  {
   "cell_type": "code",
   "execution_count": 61,
   "id": "a73d926c",
   "metadata": {
    "scrolled": true
   },
   "outputs": [
    {
     "data": {
      "text/html": [
       "<div>\n",
       "<style scoped>\n",
       "    .dataframe tbody tr th:only-of-type {\n",
       "        vertical-align: middle;\n",
       "    }\n",
       "\n",
       "    .dataframe tbody tr th {\n",
       "        vertical-align: top;\n",
       "    }\n",
       "\n",
       "    .dataframe thead th {\n",
       "        text-align: right;\n",
       "    }\n",
       "</style>\n",
       "<table border=\"1\" class=\"dataframe\">\n",
       "  <thead>\n",
       "    <tr style=\"text-align: right;\">\n",
       "      <th></th>\n",
       "      <th>0</th>\n",
       "      <th>1</th>\n",
       "      <th>2</th>\n",
       "      <th>3</th>\n",
       "      <th>4</th>\n",
       "      <th>5</th>\n",
       "      <th>6</th>\n",
       "      <th>7</th>\n",
       "      <th>8</th>\n",
       "      <th>9</th>\n",
       "      <th>10</th>\n",
       "    </tr>\n",
       "  </thead>\n",
       "  <tbody>\n",
       "    <tr>\n",
       "      <th>0</th>\n",
       "      <td>chr1</td>\n",
       "      <td>727121</td>\n",
       "      <td>727350</td>\n",
       "      <td>EH38E2776536</td>\n",
       "      <td>chr1</td>\n",
       "      <td>826206</td>\n",
       "      <td>827522</td>\n",
       "      <td>ENSG00000225880</td>\n",
       "      <td>3.143020e-07</td>\n",
       "      <td>eqtl</td>\n",
       "      <td>EH38E2776536-ENSG00000225880</td>\n",
       "    </tr>\n",
       "    <tr>\n",
       "      <th>1</th>\n",
       "      <td>chr1</td>\n",
       "      <td>778570</td>\n",
       "      <td>778919</td>\n",
       "      <td>EH38E2776539</td>\n",
       "      <td>chr1</td>\n",
       "      <td>778770</td>\n",
       "      <td>810060</td>\n",
       "      <td>ENSG00000237491</td>\n",
       "      <td>1.974390e-14</td>\n",
       "      <td>eqtl</td>\n",
       "      <td>EH38E2776539-ENSG00000237491</td>\n",
       "    </tr>\n",
       "    <tr>\n",
       "      <th>2</th>\n",
       "      <td>chr1</td>\n",
       "      <td>778570</td>\n",
       "      <td>778919</td>\n",
       "      <td>EH38E2776539</td>\n",
       "      <td>chr1</td>\n",
       "      <td>800879</td>\n",
       "      <td>810170</td>\n",
       "      <td>ENSG00000230092</td>\n",
       "      <td>1.905520e-07</td>\n",
       "      <td>eqtl</td>\n",
       "      <td>EH38E2776539-ENSG00000230092</td>\n",
       "    </tr>\n",
       "    <tr>\n",
       "      <th>3</th>\n",
       "      <td>chr1</td>\n",
       "      <td>778570</td>\n",
       "      <td>778919</td>\n",
       "      <td>EH38E2776539</td>\n",
       "      <td>chr1</td>\n",
       "      <td>817371</td>\n",
       "      <td>819837</td>\n",
       "      <td>ENSG00000177757</td>\n",
       "      <td>3.094740e-07</td>\n",
       "      <td>eqtl</td>\n",
       "      <td>EH38E2776539-ENSG00000177757</td>\n",
       "    </tr>\n",
       "    <tr>\n",
       "      <th>4</th>\n",
       "      <td>chr1</td>\n",
       "      <td>778570</td>\n",
       "      <td>778919</td>\n",
       "      <td>EH38E2776539</td>\n",
       "      <td>chr1</td>\n",
       "      <td>826206</td>\n",
       "      <td>827522</td>\n",
       "      <td>ENSG00000225880</td>\n",
       "      <td>9.063750e-10</td>\n",
       "      <td>eqtl</td>\n",
       "      <td>EH38E2776539-ENSG00000225880</td>\n",
       "    </tr>\n",
       "  </tbody>\n",
       "</table>\n",
       "</div>"
      ],
      "text/plain": [
       "     0       1       2             3     4       5       6                7   \\\n",
       "0  chr1  727121  727350  EH38E2776536  chr1  826206  827522  ENSG00000225880   \n",
       "1  chr1  778570  778919  EH38E2776539  chr1  778770  810060  ENSG00000237491   \n",
       "2  chr1  778570  778919  EH38E2776539  chr1  800879  810170  ENSG00000230092   \n",
       "3  chr1  778570  778919  EH38E2776539  chr1  817371  819837  ENSG00000177757   \n",
       "4  chr1  778570  778919  EH38E2776539  chr1  826206  827522  ENSG00000225880   \n",
       "\n",
       "             8     9                             10  \n",
       "0  3.143020e-07  eqtl  EH38E2776536-ENSG00000225880  \n",
       "1  1.974390e-14  eqtl  EH38E2776539-ENSG00000237491  \n",
       "2  1.905520e-07  eqtl  EH38E2776539-ENSG00000230092  \n",
       "3  3.094740e-07  eqtl  EH38E2776539-ENSG00000177757  \n",
       "4  9.063750e-10  eqtl  EH38E2776539-ENSG00000225880  "
      ]
     },
     "execution_count": 61,
     "metadata": {},
     "output_type": "execute_result"
    }
   ],
   "source": [
    "eqTL.head()"
   ]
  },
  {
   "cell_type": "code",
   "execution_count": 62,
   "id": "faca5649",
   "metadata": {},
   "outputs": [],
   "source": [
    "import seaborn as sns"
   ]
  },
  {
   "cell_type": "code",
   "execution_count": 63,
   "id": "ae8fff85",
   "metadata": {
    "scrolled": true
   },
   "outputs": [
    {
     "data": {
      "text/html": [
       "<div>\n",
       "<style scoped>\n",
       "    .dataframe tbody tr th:only-of-type {\n",
       "        vertical-align: middle;\n",
       "    }\n",
       "\n",
       "    .dataframe tbody tr th {\n",
       "        vertical-align: top;\n",
       "    }\n",
       "\n",
       "    .dataframe thead th {\n",
       "        text-align: right;\n",
       "    }\n",
       "</style>\n",
       "<table border=\"1\" class=\"dataframe\">\n",
       "  <thead>\n",
       "    <tr style=\"text-align: right;\">\n",
       "      <th></th>\n",
       "      <th>0</th>\n",
       "      <th>1</th>\n",
       "      <th>2</th>\n",
       "      <th>3</th>\n",
       "      <th>4</th>\n",
       "      <th>5</th>\n",
       "      <th>6</th>\n",
       "      <th>7</th>\n",
       "      <th>8</th>\n",
       "      <th>9</th>\n",
       "      <th>10</th>\n",
       "    </tr>\n",
       "  </thead>\n",
       "  <tbody>\n",
       "    <tr>\n",
       "      <th>0</th>\n",
       "      <td>chr1</td>\n",
       "      <td>2390324</td>\n",
       "      <td>2390672</td>\n",
       "      <td>EH38E2778851</td>\n",
       "      <td>chr1</td>\n",
       "      <td>2212523</td>\n",
       "      <td>2220738</td>\n",
       "      <td>ENSG00000234396</td>\n",
       "      <td>0.59</td>\n",
       "      <td>chiaPet</td>\n",
       "      <td>EH38E2778851-ENSG00000234396</td>\n",
       "    </tr>\n",
       "    <tr>\n",
       "      <th>1</th>\n",
       "      <td>chr1</td>\n",
       "      <td>2391031</td>\n",
       "      <td>2391362</td>\n",
       "      <td>EH38E2778853</td>\n",
       "      <td>chr1</td>\n",
       "      <td>2212523</td>\n",
       "      <td>2220738</td>\n",
       "      <td>ENSG00000234396</td>\n",
       "      <td>0.59</td>\n",
       "      <td>chiaPet</td>\n",
       "      <td>EH38E2778853-ENSG00000234396</td>\n",
       "    </tr>\n",
       "    <tr>\n",
       "      <th>2</th>\n",
       "      <td>chr1</td>\n",
       "      <td>2391520</td>\n",
       "      <td>2391869</td>\n",
       "      <td>EH38E2778854</td>\n",
       "      <td>chr1</td>\n",
       "      <td>2212523</td>\n",
       "      <td>2220738</td>\n",
       "      <td>ENSG00000234396</td>\n",
       "      <td>0.59</td>\n",
       "      <td>chiaPet</td>\n",
       "      <td>EH38E2778854-ENSG00000234396</td>\n",
       "    </tr>\n",
       "    <tr>\n",
       "      <th>3</th>\n",
       "      <td>chr1</td>\n",
       "      <td>2391934</td>\n",
       "      <td>2392163</td>\n",
       "      <td>EH38E2778855</td>\n",
       "      <td>chr1</td>\n",
       "      <td>2212523</td>\n",
       "      <td>2220738</td>\n",
       "      <td>ENSG00000234396</td>\n",
       "      <td>0.59</td>\n",
       "      <td>chiaPet</td>\n",
       "      <td>EH38E2778855-ENSG00000234396</td>\n",
       "    </tr>\n",
       "    <tr>\n",
       "      <th>4</th>\n",
       "      <td>chr1</td>\n",
       "      <td>2392260</td>\n",
       "      <td>2392499</td>\n",
       "      <td>EH38E2778856</td>\n",
       "      <td>chr1</td>\n",
       "      <td>2212523</td>\n",
       "      <td>2220738</td>\n",
       "      <td>ENSG00000234396</td>\n",
       "      <td>0.59</td>\n",
       "      <td>chiaPet</td>\n",
       "      <td>EH38E2778856-ENSG00000234396</td>\n",
       "    </tr>\n",
       "  </tbody>\n",
       "</table>\n",
       "</div>"
      ],
      "text/plain": [
       "     0        1        2             3     4        5        6   \\\n",
       "0  chr1  2390324  2390672  EH38E2778851  chr1  2212523  2220738   \n",
       "1  chr1  2391031  2391362  EH38E2778853  chr1  2212523  2220738   \n",
       "2  chr1  2391520  2391869  EH38E2778854  chr1  2212523  2220738   \n",
       "3  chr1  2391934  2392163  EH38E2778855  chr1  2212523  2220738   \n",
       "4  chr1  2392260  2392499  EH38E2778856  chr1  2212523  2220738   \n",
       "\n",
       "                7     8        9                             10  \n",
       "0  ENSG00000234396  0.59  chiaPet  EH38E2778851-ENSG00000234396  \n",
       "1  ENSG00000234396  0.59  chiaPet  EH38E2778853-ENSG00000234396  \n",
       "2  ENSG00000234396  0.59  chiaPet  EH38E2778854-ENSG00000234396  \n",
       "3  ENSG00000234396  0.59  chiaPet  EH38E2778855-ENSG00000234396  \n",
       "4  ENSG00000234396  0.59  chiaPet  EH38E2778856-ENSG00000234396  "
      ]
     },
     "execution_count": 63,
     "metadata": {},
     "output_type": "execute_result"
    }
   ],
   "source": [
    "chiaPet.head()"
   ]
  },
  {
   "cell_type": "code",
   "execution_count": 64,
   "id": "3b0f4151",
   "metadata": {},
   "outputs": [],
   "source": [
    "finalConcat = pd.concat([chiaPet,eqTL,distance])"
   ]
  },
  {
   "cell_type": "code",
   "execution_count": 65,
   "id": "c1b5260d",
   "metadata": {},
   "outputs": [
    {
     "data": {
      "text/html": [
       "<div>\n",
       "<style scoped>\n",
       "    .dataframe tbody tr th:only-of-type {\n",
       "        vertical-align: middle;\n",
       "    }\n",
       "\n",
       "    .dataframe tbody tr th {\n",
       "        vertical-align: top;\n",
       "    }\n",
       "\n",
       "    .dataframe thead th {\n",
       "        text-align: right;\n",
       "    }\n",
       "</style>\n",
       "<table border=\"1\" class=\"dataframe\">\n",
       "  <thead>\n",
       "    <tr style=\"text-align: right;\">\n",
       "      <th></th>\n",
       "      <th>0</th>\n",
       "      <th>1</th>\n",
       "      <th>2</th>\n",
       "      <th>3</th>\n",
       "      <th>4</th>\n",
       "      <th>5</th>\n",
       "      <th>6</th>\n",
       "      <th>7</th>\n",
       "      <th>8</th>\n",
       "      <th>9</th>\n",
       "      <th>10</th>\n",
       "    </tr>\n",
       "  </thead>\n",
       "  <tbody>\n",
       "    <tr>\n",
       "      <th>0</th>\n",
       "      <td>chr1</td>\n",
       "      <td>2390324</td>\n",
       "      <td>2390672</td>\n",
       "      <td>EH38E2778851</td>\n",
       "      <td>chr1</td>\n",
       "      <td>2212523</td>\n",
       "      <td>2220738</td>\n",
       "      <td>ENSG00000234396</td>\n",
       "      <td>0.59</td>\n",
       "      <td>chiaPet</td>\n",
       "      <td>EH38E2778851-ENSG00000234396</td>\n",
       "    </tr>\n",
       "    <tr>\n",
       "      <th>1</th>\n",
       "      <td>chr1</td>\n",
       "      <td>2391031</td>\n",
       "      <td>2391362</td>\n",
       "      <td>EH38E2778853</td>\n",
       "      <td>chr1</td>\n",
       "      <td>2212523</td>\n",
       "      <td>2220738</td>\n",
       "      <td>ENSG00000234396</td>\n",
       "      <td>0.59</td>\n",
       "      <td>chiaPet</td>\n",
       "      <td>EH38E2778853-ENSG00000234396</td>\n",
       "    </tr>\n",
       "    <tr>\n",
       "      <th>2</th>\n",
       "      <td>chr1</td>\n",
       "      <td>2391520</td>\n",
       "      <td>2391869</td>\n",
       "      <td>EH38E2778854</td>\n",
       "      <td>chr1</td>\n",
       "      <td>2212523</td>\n",
       "      <td>2220738</td>\n",
       "      <td>ENSG00000234396</td>\n",
       "      <td>0.59</td>\n",
       "      <td>chiaPet</td>\n",
       "      <td>EH38E2778854-ENSG00000234396</td>\n",
       "    </tr>\n",
       "    <tr>\n",
       "      <th>3</th>\n",
       "      <td>chr1</td>\n",
       "      <td>2391934</td>\n",
       "      <td>2392163</td>\n",
       "      <td>EH38E2778855</td>\n",
       "      <td>chr1</td>\n",
       "      <td>2212523</td>\n",
       "      <td>2220738</td>\n",
       "      <td>ENSG00000234396</td>\n",
       "      <td>0.59</td>\n",
       "      <td>chiaPet</td>\n",
       "      <td>EH38E2778855-ENSG00000234396</td>\n",
       "    </tr>\n",
       "    <tr>\n",
       "      <th>4</th>\n",
       "      <td>chr1</td>\n",
       "      <td>2392260</td>\n",
       "      <td>2392499</td>\n",
       "      <td>EH38E2778856</td>\n",
       "      <td>chr1</td>\n",
       "      <td>2212523</td>\n",
       "      <td>2220738</td>\n",
       "      <td>ENSG00000234396</td>\n",
       "      <td>0.59</td>\n",
       "      <td>chiaPet</td>\n",
       "      <td>EH38E2778856-ENSG00000234396</td>\n",
       "    </tr>\n",
       "  </tbody>\n",
       "</table>\n",
       "</div>"
      ],
      "text/plain": [
       "     0        1        2             3     4        5        6   \\\n",
       "0  chr1  2390324  2390672  EH38E2778851  chr1  2212523  2220738   \n",
       "1  chr1  2391031  2391362  EH38E2778853  chr1  2212523  2220738   \n",
       "2  chr1  2391520  2391869  EH38E2778854  chr1  2212523  2220738   \n",
       "3  chr1  2391934  2392163  EH38E2778855  chr1  2212523  2220738   \n",
       "4  chr1  2392260  2392499  EH38E2778856  chr1  2212523  2220738   \n",
       "\n",
       "                7     8        9                             10  \n",
       "0  ENSG00000234396  0.59  chiaPet  EH38E2778851-ENSG00000234396  \n",
       "1  ENSG00000234396  0.59  chiaPet  EH38E2778853-ENSG00000234396  \n",
       "2  ENSG00000234396  0.59  chiaPet  EH38E2778854-ENSG00000234396  \n",
       "3  ENSG00000234396  0.59  chiaPet  EH38E2778855-ENSG00000234396  \n",
       "4  ENSG00000234396  0.59  chiaPet  EH38E2778856-ENSG00000234396  "
      ]
     },
     "execution_count": 65,
     "metadata": {},
     "output_type": "execute_result"
    }
   ],
   "source": [
    "finalConcat.head()"
   ]
  },
  {
   "cell_type": "code",
   "execution_count": 66,
   "id": "dd670605",
   "metadata": {},
   "outputs": [],
   "source": [
    "import seaborn as sns"
   ]
  },
  {
   "cell_type": "code",
   "execution_count": 67,
   "id": "237d7ef8",
   "metadata": {},
   "outputs": [
    {
     "data": {
      "text/plain": [
       "<Figure size 640x480 with 0 Axes>"
      ]
     },
     "metadata": {},
     "output_type": "display_data"
    }
   ],
   "source": [
    "fig1 = sns.countplot(x =9, data = finalConcat)\n",
    "fig1.figure.savefig(\"images/TotalcountComparsion.png\") \n",
    "fig1.figure.clf()\n"
   ]
  },
  {
   "cell_type": "code",
   "execution_count": 68,
   "id": "68921c50",
   "metadata": {
    "scrolled": true
   },
   "outputs": [
    {
     "data": {
      "text/plain": [
       "9\n",
       "chiaPet       43540\n",
       "distance    1036902\n",
       "eqtl         106908\n",
       "Name: 3, dtype: int64"
      ]
     },
     "execution_count": 68,
     "metadata": {},
     "output_type": "execute_result"
    }
   ],
   "source": [
    "finalConcat.groupby([9]).nunique()[3]"
   ]
  },
  {
   "cell_type": "code",
   "execution_count": 69,
   "id": "71e95ee5",
   "metadata": {},
   "outputs": [
    {
     "data": {
      "text/plain": [
       "<Figure size 1000x1000 with 0 Axes>"
      ]
     },
     "metadata": {},
     "output_type": "display_data"
    }
   ],
   "source": [
    "fig27 = finalConcat.groupby([9]).nunique()[3].plot(kind='bar' , color=\"indigo\",title='Enhancers', ylabel='Unique Enhancer Count',\n",
    "         xlabel='Method', figsize=(10, 10))\n",
    "enhancersFig = fig27.get_figure()\n",
    "enhancersFig.suptitle('Enhancer comparision', fontsize=20)\n",
    "\n",
    "enhancersFig.savefig(\"enhancers.png\") \n",
    "enhancersFig.figure.clf()"
   ]
  },
  {
   "cell_type": "code",
   "execution_count": 70,
   "id": "e06a9996",
   "metadata": {},
   "outputs": [
    {
     "data": {
      "text/plain": [
       "<Figure size 1000x1000 with 0 Axes>"
      ]
     },
     "metadata": {},
     "output_type": "display_data"
    }
   ],
   "source": [
    "fig37 = finalConcat.groupby([9]).nunique()[7].plot(kind='bar',color=\"red\",title='Genes', ylabel='Unique Genes Count',\n",
    "         xlabel='Method', figsize=(10, 10))\n",
    "fig37.figure.suptitle('Gene comparision', fontsize=20)\n",
    "\n",
    "fig37.figure.savefig(\"images/GeneComparsion.png\") \n",
    "fig37.figure.clf()"
   ]
  },
  {
   "cell_type": "code",
   "execution_count": 71,
   "id": "1596e034",
   "metadata": {},
   "outputs": [
    {
     "data": {
      "image/png": "[encoded data removed]",
      "text/plain": [
       "<Figure size 600x500 with 1 Axes>"
      ]
     },
     "metadata": {},
     "output_type": "display_data"
    },
    {
     "data": {
      "text/plain": [
       "<Figure size 640x480 with 0 Axes>"
      ]
     },
     "metadata": {},
     "output_type": "display_data"
    }
   ],
   "source": [
    "ax1=finalConcat.groupby([9]).nunique()[3].plot(kind='bar' , color=\"indigo\",title='Enhancers',\n",
    "          figsize=(6, 5))\n",
    "ax2=finalConcat.groupby([9]).nunique()[7].plot(kind='bar',color=\"red\",title='Genes',\n",
    "         figsize=(6, 5))\n",
    "indigo =mpatches.Patch(color='indigo', label='Enhancer')\n",
    "\n",
    "red =mpatches.Patch(color='red', label='Gene')\n",
    "\n",
    "plt.legend(handles=[indigo, red])\n",
    "plt.title(\"Enhancer gene bar\")\n",
    "plt.show()\n",
    "plt.clf()"
   ]
  },
  {
   "cell_type": "code",
   "execution_count": 72,
   "id": "911e82a1",
   "metadata": {
    "scrolled": false
   },
   "outputs": [
    {
     "data": {
      "text/plain": [
       "<Figure size 600x500 with 0 Axes>"
      ]
     },
     "metadata": {},
     "output_type": "display_data"
    }
   ],
   "source": [
    "import matplotlib.pyplot as plt1\n",
    "ax1=finalConcat.groupby([9]).nunique()[3].plot(kind='bar' , color=\"indigo\",title='Enhancers',logy=True,\n",
    "          figsize=(6, 5))\n",
    "ax2=finalConcat.groupby([9]).nunique()[7].plot(kind='bar',color=\"red\",title='Genes',logy=True,\n",
    "         figsize=(6, 5))\n",
    "indigo =mpatches.Patch(color='indigo', label='Enhancer')\n",
    "\n",
    "red =mpatches.Patch(color='red', label='Gene')\n",
    "plt1.legend(handles=[indigo, red])\n",
    "plt1.savefig('images/enhancerGene.png')\n",
    "plt1.clf()"
   ]
  },
  {
   "cell_type": "code",
   "execution_count": 73,
   "id": "3f95ef36",
   "metadata": {},
   "outputs": [],
   "source": [
    "allDF = chiaPet.merge(eqTL,on=3).merge(distance,on=3)\n"
   ]
  },
  {
   "cell_type": "code",
   "execution_count": 74,
   "id": "186ff0c9",
   "metadata": {},
   "outputs": [
    {
     "data": {
      "text/plain": [
       "16636"
      ]
     },
     "execution_count": 74,
     "metadata": {},
     "output_type": "execute_result"
    }
   ],
   "source": [
    "len(allDF)"
   ]
  },
  {
   "cell_type": "code",
   "execution_count": 75,
   "id": "267465e0",
   "metadata": {},
   "outputs": [
    {
     "data": {
      "text/html": [
       "<div>\n",
       "<style scoped>\n",
       "    .dataframe tbody tr th:only-of-type {\n",
       "        vertical-align: middle;\n",
       "    }\n",
       "\n",
       "    .dataframe tbody tr th {\n",
       "        vertical-align: top;\n",
       "    }\n",
       "\n",
       "    .dataframe thead th {\n",
       "        text-align: right;\n",
       "    }\n",
       "</style>\n",
       "<table border=\"1\" class=\"dataframe\">\n",
       "  <thead>\n",
       "    <tr style=\"text-align: right;\">\n",
       "      <th></th>\n",
       "      <th>0_x</th>\n",
       "      <th>1_x</th>\n",
       "      <th>2_x</th>\n",
       "      <th>3</th>\n",
       "      <th>4_x</th>\n",
       "      <th>5_x</th>\n",
       "      <th>6_x</th>\n",
       "      <th>7_x</th>\n",
       "      <th>8_x</th>\n",
       "      <th>9_x</th>\n",
       "      <th>10_x</th>\n",
       "      <th>0_y</th>\n",
       "      <th>1_y</th>\n",
       "      <th>2_y</th>\n",
       "      <th>4_y</th>\n",
       "      <th>5_y</th>\n",
       "      <th>6_y</th>\n",
       "      <th>7_y</th>\n",
       "      <th>8_y</th>\n",
       "      <th>9_y</th>\n",
       "      <th>10_y</th>\n",
       "      <th>0</th>\n",
       "      <th>1</th>\n",
       "      <th>2</th>\n",
       "      <th>4</th>\n",
       "      <th>5</th>\n",
       "      <th>6</th>\n",
       "      <th>7</th>\n",
       "      <th>8</th>\n",
       "      <th>10</th>\n",
       "      <th>9</th>\n",
       "    </tr>\n",
       "  </thead>\n",
       "  <tbody>\n",
       "    <tr>\n",
       "      <th>0</th>\n",
       "      <td>chr1</td>\n",
       "      <td>9842667</td>\n",
       "      <td>9842895</td>\n",
       "      <td>EH38E2785067</td>\n",
       "      <td>chr1</td>\n",
       "      <td>9652610</td>\n",
       "      <td>9654586</td>\n",
       "      <td>ENSG00000179840</td>\n",
       "      <td>0.627294</td>\n",
       "      <td>chiaPet</td>\n",
       "      <td>EH38E2785067-ENSG00000179840</td>\n",
       "      <td>chr1</td>\n",
       "      <td>9842667</td>\n",
       "      <td>9842895</td>\n",
       "      <td>chr1</td>\n",
       "      <td>9848276</td>\n",
       "      <td>9910336</td>\n",
       "      <td>ENSG00000178585</td>\n",
       "      <td>4.478210e-05</td>\n",
       "      <td>eqtl</td>\n",
       "      <td>EH38E2785067-ENSG00000178585</td>\n",
       "      <td>chr1</td>\n",
       "      <td>9842667</td>\n",
       "      <td>9842895</td>\n",
       "      <td>chr1</td>\n",
       "      <td>9848276</td>\n",
       "      <td>9910336</td>\n",
       "      <td>ENSG00000178585</td>\n",
       "      <td>3.730944</td>\n",
       "      <td>EH38E2785067-ENSG00000178585</td>\n",
       "      <td>distance</td>\n",
       "    </tr>\n",
       "    <tr>\n",
       "      <th>1</th>\n",
       "      <td>chr1</td>\n",
       "      <td>9843496</td>\n",
       "      <td>9843841</td>\n",
       "      <td>EH38E1317519</td>\n",
       "      <td>chr1</td>\n",
       "      <td>9652610</td>\n",
       "      <td>9654586</td>\n",
       "      <td>ENSG00000179840</td>\n",
       "      <td>0.627294</td>\n",
       "      <td>chiaPet</td>\n",
       "      <td>EH38E1317519-ENSG00000179840</td>\n",
       "      <td>chr1</td>\n",
       "      <td>9843496</td>\n",
       "      <td>9843841</td>\n",
       "      <td>chr1</td>\n",
       "      <td>9848276</td>\n",
       "      <td>9910336</td>\n",
       "      <td>ENSG00000178585</td>\n",
       "      <td>3.648540e-05</td>\n",
       "      <td>eqtl</td>\n",
       "      <td>EH38E1317519-ENSG00000178585</td>\n",
       "      <td>chr1</td>\n",
       "      <td>9843496</td>\n",
       "      <td>9843841</td>\n",
       "      <td>chr1</td>\n",
       "      <td>9848276</td>\n",
       "      <td>9910336</td>\n",
       "      <td>ENSG00000178585</td>\n",
       "      <td>3.646992</td>\n",
       "      <td>EH38E1317519-ENSG00000178585</td>\n",
       "      <td>distance</td>\n",
       "    </tr>\n",
       "    <tr>\n",
       "      <th>2</th>\n",
       "      <td>chr1</td>\n",
       "      <td>11653062</td>\n",
       "      <td>11653222</td>\n",
       "      <td>EH38E2786408</td>\n",
       "      <td>chr1</td>\n",
       "      <td>11099430</td>\n",
       "      <td>11102105</td>\n",
       "      <td>ENSG00000230337</td>\n",
       "      <td>0.580000</td>\n",
       "      <td>chiaPet</td>\n",
       "      <td>EH38E2786408-ENSG00000230337</td>\n",
       "      <td>chr1</td>\n",
       "      <td>11653062</td>\n",
       "      <td>11653222</td>\n",
       "      <td>chr1</td>\n",
       "      <td>11648367</td>\n",
       "      <td>11655785</td>\n",
       "      <td>ENSG00000116661</td>\n",
       "      <td>1.450040e-06</td>\n",
       "      <td>eqtl</td>\n",
       "      <td>EH38E2786408-ENSG00000116661</td>\n",
       "      <td>chr1</td>\n",
       "      <td>11653062</td>\n",
       "      <td>11653222</td>\n",
       "      <td>chr1</td>\n",
       "      <td>11654375</td>\n",
       "      <td>11663327</td>\n",
       "      <td>ENSG00000132879</td>\n",
       "      <td>3.062206</td>\n",
       "      <td>EH38E2786408-ENSG00000132879</td>\n",
       "      <td>distance</td>\n",
       "    </tr>\n",
       "    <tr>\n",
       "      <th>3</th>\n",
       "      <td>chr1</td>\n",
       "      <td>11653244</td>\n",
       "      <td>11653583</td>\n",
       "      <td>EH38E2786409</td>\n",
       "      <td>chr1</td>\n",
       "      <td>11099430</td>\n",
       "      <td>11102105</td>\n",
       "      <td>ENSG00000230337</td>\n",
       "      <td>0.580000</td>\n",
       "      <td>chiaPet</td>\n",
       "      <td>EH38E2786409-ENSG00000230337</td>\n",
       "      <td>chr1</td>\n",
       "      <td>11653244</td>\n",
       "      <td>11653583</td>\n",
       "      <td>chr1</td>\n",
       "      <td>11648367</td>\n",
       "      <td>11655785</td>\n",
       "      <td>ENSG00000116661</td>\n",
       "      <td>1.177980e-11</td>\n",
       "      <td>eqtl</td>\n",
       "      <td>EH38E2786409-ENSG00000116661</td>\n",
       "      <td>chr1</td>\n",
       "      <td>11653244</td>\n",
       "      <td>11653583</td>\n",
       "      <td>chr1</td>\n",
       "      <td>11654375</td>\n",
       "      <td>11663327</td>\n",
       "      <td>ENSG00000132879</td>\n",
       "      <td>2.899273</td>\n",
       "      <td>EH38E2786409-ENSG00000132879</td>\n",
       "      <td>distance</td>\n",
       "    </tr>\n",
       "    <tr>\n",
       "      <th>4</th>\n",
       "      <td>chr1</td>\n",
       "      <td>11654116</td>\n",
       "      <td>11654294</td>\n",
       "      <td>EH38E2786412</td>\n",
       "      <td>chr1</td>\n",
       "      <td>11099430</td>\n",
       "      <td>11102105</td>\n",
       "      <td>ENSG00000230337</td>\n",
       "      <td>0.580000</td>\n",
       "      <td>chiaPet</td>\n",
       "      <td>EH38E2786412-ENSG00000230337</td>\n",
       "      <td>chr1</td>\n",
       "      <td>11654116</td>\n",
       "      <td>11654294</td>\n",
       "      <td>chr1</td>\n",
       "      <td>11648367</td>\n",
       "      <td>11655785</td>\n",
       "      <td>ENSG00000116661</td>\n",
       "      <td>4.730700e-14</td>\n",
       "      <td>eqtl</td>\n",
       "      <td>EH38E2786412-ENSG00000116661</td>\n",
       "      <td>chr1</td>\n",
       "      <td>11654116</td>\n",
       "      <td>11654294</td>\n",
       "      <td>chr1</td>\n",
       "      <td>11654375</td>\n",
       "      <td>11663327</td>\n",
       "      <td>ENSG00000132879</td>\n",
       "      <td>1.913814</td>\n",
       "      <td>EH38E2786412-ENSG00000132879</td>\n",
       "      <td>distance</td>\n",
       "    </tr>\n",
       "  </tbody>\n",
       "</table>\n",
       "</div>"
      ],
      "text/plain": [
       "    0_x       1_x       2_x             3   4_x       5_x       6_x  \\\n",
       "0  chr1   9842667   9842895  EH38E2785067  chr1   9652610   9654586   \n",
       "1  chr1   9843496   9843841  EH38E1317519  chr1   9652610   9654586   \n",
       "2  chr1  11653062  11653222  EH38E2786408  chr1  11099430  11102105   \n",
       "3  chr1  11653244  11653583  EH38E2786409  chr1  11099430  11102105   \n",
       "4  chr1  11654116  11654294  EH38E2786412  chr1  11099430  11102105   \n",
       "\n",
       "               7_x       8_x      9_x                          10_x   0_y  \\\n",
       "0  ENSG00000179840  0.627294  chiaPet  EH38E2785067-ENSG00000179840  chr1   \n",
       "1  ENSG00000179840  0.627294  chiaPet  EH38E1317519-ENSG00000179840  chr1   \n",
       "2  ENSG00000230337  0.580000  chiaPet  EH38E2786408-ENSG00000230337  chr1   \n",
       "3  ENSG00000230337  0.580000  chiaPet  EH38E2786409-ENSG00000230337  chr1   \n",
       "4  ENSG00000230337  0.580000  chiaPet  EH38E2786412-ENSG00000230337  chr1   \n",
       "\n",
       "        1_y       2_y   4_y       5_y       6_y              7_y  \\\n",
       "0   9842667   9842895  chr1   9848276   9910336  ENSG00000178585   \n",
       "1   9843496   9843841  chr1   9848276   9910336  ENSG00000178585   \n",
       "2  11653062  11653222  chr1  11648367  11655785  ENSG00000116661   \n",
       "3  11653244  11653583  chr1  11648367  11655785  ENSG00000116661   \n",
       "4  11654116  11654294  chr1  11648367  11655785  ENSG00000116661   \n",
       "\n",
       "            8_y   9_y                          10_y     0         1         2  \\\n",
       "0  4.478210e-05  eqtl  EH38E2785067-ENSG00000178585  chr1   9842667   9842895   \n",
       "1  3.648540e-05  eqtl  EH38E1317519-ENSG00000178585  chr1   9843496   9843841   \n",
       "2  1.450040e-06  eqtl  EH38E2786408-ENSG00000116661  chr1  11653062  11653222   \n",
       "3  1.177980e-11  eqtl  EH38E2786409-ENSG00000116661  chr1  11653244  11653583   \n",
       "4  4.730700e-14  eqtl  EH38E2786412-ENSG00000116661  chr1  11654116  11654294   \n",
       "\n",
       "      4         5         6                7         8  \\\n",
       "0  chr1   9848276   9910336  ENSG00000178585  3.730944   \n",
       "1  chr1   9848276   9910336  ENSG00000178585  3.646992   \n",
       "2  chr1  11654375  11663327  ENSG00000132879  3.062206   \n",
       "3  chr1  11654375  11663327  ENSG00000132879  2.899273   \n",
       "4  chr1  11654375  11663327  ENSG00000132879  1.913814   \n",
       "\n",
       "                             10         9  \n",
       "0  EH38E2785067-ENSG00000178585  distance  \n",
       "1  EH38E1317519-ENSG00000178585  distance  \n",
       "2  EH38E2786408-ENSG00000132879  distance  \n",
       "3  EH38E2786409-ENSG00000132879  distance  \n",
       "4  EH38E2786412-ENSG00000132879  distance  "
      ]
     },
     "execution_count": 75,
     "metadata": {},
     "output_type": "execute_result"
    }
   ],
   "source": [
    "allDF.head()"
   ]
  },
  {
   "cell_type": "code",
   "execution_count": 76,
   "id": "592d52dd",
   "metadata": {},
   "outputs": [],
   "source": [
    "allDF1 = allDF[(allDF['7_x'] == allDF['7_y']) & (allDF['7_x'] ==allDF[7])]"
   ]
  },
  {
   "cell_type": "code",
   "execution_count": 77,
   "id": "eb46fe9c",
   "metadata": {
    "scrolled": true
   },
   "outputs": [
    {
     "data": {
      "text/html": [
       "<div>\n",
       "<style scoped>\n",
       "    .dataframe tbody tr th:only-of-type {\n",
       "        vertical-align: middle;\n",
       "    }\n",
       "\n",
       "    .dataframe tbody tr th {\n",
       "        vertical-align: top;\n",
       "    }\n",
       "\n",
       "    .dataframe thead th {\n",
       "        text-align: right;\n",
       "    }\n",
       "</style>\n",
       "<table border=\"1\" class=\"dataframe\">\n",
       "  <thead>\n",
       "    <tr style=\"text-align: right;\">\n",
       "      <th></th>\n",
       "      <th>0_x</th>\n",
       "      <th>1_x</th>\n",
       "      <th>2_x</th>\n",
       "      <th>3</th>\n",
       "      <th>4_x</th>\n",
       "      <th>5_x</th>\n",
       "      <th>6_x</th>\n",
       "      <th>7_x</th>\n",
       "      <th>8_x</th>\n",
       "      <th>9_x</th>\n",
       "      <th>10_x</th>\n",
       "      <th>0_y</th>\n",
       "      <th>1_y</th>\n",
       "      <th>2_y</th>\n",
       "      <th>4_y</th>\n",
       "      <th>5_y</th>\n",
       "      <th>6_y</th>\n",
       "      <th>7_y</th>\n",
       "      <th>8_y</th>\n",
       "      <th>9_y</th>\n",
       "      <th>10_y</th>\n",
       "      <th>0</th>\n",
       "      <th>1</th>\n",
       "      <th>2</th>\n",
       "      <th>4</th>\n",
       "      <th>5</th>\n",
       "      <th>6</th>\n",
       "      <th>7</th>\n",
       "      <th>8</th>\n",
       "      <th>10</th>\n",
       "      <th>9</th>\n",
       "    </tr>\n",
       "  </thead>\n",
       "  <tbody>\n",
       "    <tr>\n",
       "      <th>166</th>\n",
       "      <td>chr1</td>\n",
       "      <td>40774522</td>\n",
       "      <td>40774843</td>\n",
       "      <td>EH38E2805625</td>\n",
       "      <td>chr1</td>\n",
       "      <td>40691648</td>\n",
       "      <td>40771603</td>\n",
       "      <td>ENSG00000066136</td>\n",
       "      <td>0.628681</td>\n",
       "      <td>chiaPet</td>\n",
       "      <td>EH38E2805625-ENSG00000066136</td>\n",
       "      <td>chr1</td>\n",
       "      <td>40774522</td>\n",
       "      <td>40774843</td>\n",
       "      <td>chr1</td>\n",
       "      <td>40692067</td>\n",
       "      <td>40771603</td>\n",
       "      <td>ENSG00000066136</td>\n",
       "      <td>4.699490e-05</td>\n",
       "      <td>eqtl</td>\n",
       "      <td>EH38E2805625-ENSG00000066136</td>\n",
       "      <td>chr1</td>\n",
       "      <td>40774522</td>\n",
       "      <td>40774843</td>\n",
       "      <td>chr1</td>\n",
       "      <td>40691648</td>\n",
       "      <td>40771603</td>\n",
       "      <td>ENSG00000066136</td>\n",
       "      <td>3.465383</td>\n",
       "      <td>EH38E2805625-ENSG00000066136</td>\n",
       "      <td>distance</td>\n",
       "    </tr>\n",
       "    <tr>\n",
       "      <th>226</th>\n",
       "      <td>chr1</td>\n",
       "      <td>87880412</td>\n",
       "      <td>87880710</td>\n",
       "      <td>EH38E2823120</td>\n",
       "      <td>chr1</td>\n",
       "      <td>87805286</td>\n",
       "      <td>87808372</td>\n",
       "      <td>ENSG00000279778</td>\n",
       "      <td>0.629456</td>\n",
       "      <td>chiaPet</td>\n",
       "      <td>EH38E2823120-ENSG00000279778</td>\n",
       "      <td>chr1</td>\n",
       "      <td>87880412</td>\n",
       "      <td>87880710</td>\n",
       "      <td>chr1</td>\n",
       "      <td>87805286</td>\n",
       "      <td>87808372</td>\n",
       "      <td>ENSG00000279778</td>\n",
       "      <td>6.350450e-08</td>\n",
       "      <td>eqtl</td>\n",
       "      <td>EH38E2823120-ENSG00000279778</td>\n",
       "      <td>chr1</td>\n",
       "      <td>87880412</td>\n",
       "      <td>87880710</td>\n",
       "      <td>chr1</td>\n",
       "      <td>87805286</td>\n",
       "      <td>87808372</td>\n",
       "      <td>ENSG00000279778</td>\n",
       "      <td>4.857580</td>\n",
       "      <td>EH38E2823120-ENSG00000279778</td>\n",
       "      <td>distance</td>\n",
       "    </tr>\n",
       "    <tr>\n",
       "      <th>227</th>\n",
       "      <td>chr1</td>\n",
       "      <td>87885336</td>\n",
       "      <td>87885641</td>\n",
       "      <td>EH38E2823122</td>\n",
       "      <td>chr1</td>\n",
       "      <td>87805286</td>\n",
       "      <td>87808372</td>\n",
       "      <td>ENSG00000279778</td>\n",
       "      <td>0.629456</td>\n",
       "      <td>chiaPet</td>\n",
       "      <td>EH38E2823122-ENSG00000279778</td>\n",
       "      <td>chr1</td>\n",
       "      <td>87885336</td>\n",
       "      <td>87885641</td>\n",
       "      <td>chr1</td>\n",
       "      <td>87805286</td>\n",
       "      <td>87808372</td>\n",
       "      <td>ENSG00000279778</td>\n",
       "      <td>3.043640e-06</td>\n",
       "      <td>eqtl</td>\n",
       "      <td>EH38E2823122-ENSG00000279778</td>\n",
       "      <td>chr1</td>\n",
       "      <td>87885336</td>\n",
       "      <td>87885641</td>\n",
       "      <td>chr1</td>\n",
       "      <td>87805286</td>\n",
       "      <td>87808372</td>\n",
       "      <td>ENSG00000279778</td>\n",
       "      <td>4.886293</td>\n",
       "      <td>EH38E2823122-ENSG00000279778</td>\n",
       "      <td>distance</td>\n",
       "    </tr>\n",
       "    <tr>\n",
       "      <th>236</th>\n",
       "      <td>chr1</td>\n",
       "      <td>108050199</td>\n",
       "      <td>108050549</td>\n",
       "      <td>EH38E2828962</td>\n",
       "      <td>chr1</td>\n",
       "      <td>107964443</td>\n",
       "      <td>107994607</td>\n",
       "      <td>ENSG00000230489</td>\n",
       "      <td>0.599986</td>\n",
       "      <td>chiaPet</td>\n",
       "      <td>EH38E2828962-ENSG00000230489</td>\n",
       "      <td>chr1</td>\n",
       "      <td>108050199</td>\n",
       "      <td>108050549</td>\n",
       "      <td>chr1</td>\n",
       "      <td>107964443</td>\n",
       "      <td>107994607</td>\n",
       "      <td>ENSG00000230489</td>\n",
       "      <td>3.243050e-06</td>\n",
       "      <td>eqtl</td>\n",
       "      <td>EH38E2828962-ENSG00000230489</td>\n",
       "      <td>chr1</td>\n",
       "      <td>108050199</td>\n",
       "      <td>108050549</td>\n",
       "      <td>chr1</td>\n",
       "      <td>107964443</td>\n",
       "      <td>107994607</td>\n",
       "      <td>ENSG00000230489</td>\n",
       "      <td>4.745020</td>\n",
       "      <td>EH38E2828962-ENSG00000230489</td>\n",
       "      <td>distance</td>\n",
       "    </tr>\n",
       "    <tr>\n",
       "      <th>238</th>\n",
       "      <td>chr1</td>\n",
       "      <td>108050620</td>\n",
       "      <td>108050788</td>\n",
       "      <td>EH38E1374006</td>\n",
       "      <td>chr1</td>\n",
       "      <td>107964443</td>\n",
       "      <td>107994607</td>\n",
       "      <td>ENSG00000230489</td>\n",
       "      <td>0.599986</td>\n",
       "      <td>chiaPet</td>\n",
       "      <td>EH38E1374006-ENSG00000230489</td>\n",
       "      <td>chr1</td>\n",
       "      <td>108050620</td>\n",
       "      <td>108050788</td>\n",
       "      <td>chr1</td>\n",
       "      <td>107964443</td>\n",
       "      <td>107994607</td>\n",
       "      <td>ENSG00000230489</td>\n",
       "      <td>3.266600e-06</td>\n",
       "      <td>eqtl</td>\n",
       "      <td>EH38E1374006-ENSG00000230489</td>\n",
       "      <td>chr1</td>\n",
       "      <td>108050620</td>\n",
       "      <td>108050788</td>\n",
       "      <td>chr1</td>\n",
       "      <td>107964443</td>\n",
       "      <td>107994607</td>\n",
       "      <td>ENSG00000230489</td>\n",
       "      <td>4.748297</td>\n",
       "      <td>EH38E1374006-ENSG00000230489</td>\n",
       "      <td>distance</td>\n",
       "    </tr>\n",
       "  </tbody>\n",
       "</table>\n",
       "</div>"
      ],
      "text/plain": [
       "      0_x        1_x        2_x             3   4_x        5_x        6_x  \\\n",
       "166  chr1   40774522   40774843  EH38E2805625  chr1   40691648   40771603   \n",
       "226  chr1   87880412   87880710  EH38E2823120  chr1   87805286   87808372   \n",
       "227  chr1   87885336   87885641  EH38E2823122  chr1   87805286   87808372   \n",
       "236  chr1  108050199  108050549  EH38E2828962  chr1  107964443  107994607   \n",
       "238  chr1  108050620  108050788  EH38E1374006  chr1  107964443  107994607   \n",
       "\n",
       "                 7_x       8_x      9_x                          10_x   0_y  \\\n",
       "166  ENSG00000066136  0.628681  chiaPet  EH38E2805625-ENSG00000066136  chr1   \n",
       "226  ENSG00000279778  0.629456  chiaPet  EH38E2823120-ENSG00000279778  chr1   \n",
       "227  ENSG00000279778  0.629456  chiaPet  EH38E2823122-ENSG00000279778  chr1   \n",
       "236  ENSG00000230489  0.599986  chiaPet  EH38E2828962-ENSG00000230489  chr1   \n",
       "238  ENSG00000230489  0.599986  chiaPet  EH38E1374006-ENSG00000230489  chr1   \n",
       "\n",
       "           1_y        2_y   4_y        5_y        6_y              7_y  \\\n",
       "166   40774522   40774843  chr1   40692067   40771603  ENSG00000066136   \n",
       "226   87880412   87880710  chr1   87805286   87808372  ENSG00000279778   \n",
       "227   87885336   87885641  chr1   87805286   87808372  ENSG00000279778   \n",
       "236  108050199  108050549  chr1  107964443  107994607  ENSG00000230489   \n",
       "238  108050620  108050788  chr1  107964443  107994607  ENSG00000230489   \n",
       "\n",
       "              8_y   9_y                          10_y     0          1  \\\n",
       "166  4.699490e-05  eqtl  EH38E2805625-ENSG00000066136  chr1   40774522   \n",
       "226  6.350450e-08  eqtl  EH38E2823120-ENSG00000279778  chr1   87880412   \n",
       "227  3.043640e-06  eqtl  EH38E2823122-ENSG00000279778  chr1   87885336   \n",
       "236  3.243050e-06  eqtl  EH38E2828962-ENSG00000230489  chr1  108050199   \n",
       "238  3.266600e-06  eqtl  EH38E1374006-ENSG00000230489  chr1  108050620   \n",
       "\n",
       "             2     4          5          6                7         8  \\\n",
       "166   40774843  chr1   40691648   40771603  ENSG00000066136  3.465383   \n",
       "226   87880710  chr1   87805286   87808372  ENSG00000279778  4.857580   \n",
       "227   87885641  chr1   87805286   87808372  ENSG00000279778  4.886293   \n",
       "236  108050549  chr1  107964443  107994607  ENSG00000230489  4.745020   \n",
       "238  108050788  chr1  107964443  107994607  ENSG00000230489  4.748297   \n",
       "\n",
       "                               10         9  \n",
       "166  EH38E2805625-ENSG00000066136  distance  \n",
       "226  EH38E2823120-ENSG00000279778  distance  \n",
       "227  EH38E2823122-ENSG00000279778  distance  \n",
       "236  EH38E2828962-ENSG00000230489  distance  \n",
       "238  EH38E1374006-ENSG00000230489  distance  "
      ]
     },
     "execution_count": 77,
     "metadata": {},
     "output_type": "execute_result"
    }
   ],
   "source": [
    "allDF1.head()"
   ]
  },
  {
   "cell_type": "code",
   "execution_count": 78,
   "id": "c472d4a2",
   "metadata": {},
   "outputs": [],
   "source": [
    "k = allDF1[['8_x','8_y']]"
   ]
  },
  {
   "cell_type": "code",
   "execution_count": 79,
   "id": "4024819a",
   "metadata": {},
   "outputs": [],
   "source": [
    "k = k.rename(columns={'8_x': 'chiaPet', '8_y': 'eqtl'})\n"
   ]
  },
  {
   "cell_type": "code",
   "execution_count": 80,
   "id": "79a6d93a",
   "metadata": {},
   "outputs": [
    {
     "data": {
      "text/html": [
       "<div>\n",
       "<style scoped>\n",
       "    .dataframe tbody tr th:only-of-type {\n",
       "        vertical-align: middle;\n",
       "    }\n",
       "\n",
       "    .dataframe tbody tr th {\n",
       "        vertical-align: top;\n",
       "    }\n",
       "\n",
       "    .dataframe thead th {\n",
       "        text-align: right;\n",
       "    }\n",
       "</style>\n",
       "<table border=\"1\" class=\"dataframe\">\n",
       "  <thead>\n",
       "    <tr style=\"text-align: right;\">\n",
       "      <th></th>\n",
       "      <th>chiaPet</th>\n",
       "      <th>eqtl</th>\n",
       "    </tr>\n",
       "  </thead>\n",
       "  <tbody>\n",
       "    <tr>\n",
       "      <th>166</th>\n",
       "      <td>0.628681</td>\n",
       "      <td>4.699490e-05</td>\n",
       "    </tr>\n",
       "    <tr>\n",
       "      <th>226</th>\n",
       "      <td>0.629456</td>\n",
       "      <td>6.350450e-08</td>\n",
       "    </tr>\n",
       "    <tr>\n",
       "      <th>227</th>\n",
       "      <td>0.629456</td>\n",
       "      <td>3.043640e-06</td>\n",
       "    </tr>\n",
       "    <tr>\n",
       "      <th>236</th>\n",
       "      <td>0.599986</td>\n",
       "      <td>3.243050e-06</td>\n",
       "    </tr>\n",
       "    <tr>\n",
       "      <th>238</th>\n",
       "      <td>0.599986</td>\n",
       "      <td>3.266600e-06</td>\n",
       "    </tr>\n",
       "  </tbody>\n",
       "</table>\n",
       "</div>"
      ],
      "text/plain": [
       "      chiaPet          eqtl\n",
       "166  0.628681  4.699490e-05\n",
       "226  0.629456  6.350450e-08\n",
       "227  0.629456  3.043640e-06\n",
       "236  0.599986  3.243050e-06\n",
       "238  0.599986  3.266600e-06"
      ]
     },
     "execution_count": 80,
     "metadata": {},
     "output_type": "execute_result"
    }
   ],
   "source": [
    "k.head()"
   ]
  },
  {
   "cell_type": "markdown",
   "id": "f80296bc",
   "metadata": {},
   "source": [
    "## Questions \n",
    "### What do we want\n",
    "1. Maximum number of enhancer-gene combination?\n",
    "2. More number of genes to be linked?\n",
    "3. More number of enhancer to be identified?\n",
    "\n",
    "## Questions to think\n",
    "1. We are only dealing with numbers right now.\n",
    "2. What about quality?\n",
    "3. Quantifying only numbers, is it correct? \n",
    "4. Distance is like a sore thumb here."
   ]
  },
  {
   "cell_type": "markdown",
   "id": "6580f4cf",
   "metadata": {},
   "source": [
    "1. Removed dot from eqtl\n",
    "2. Data change - treatment of negative distance\n",
    "3. Unique enhancer, unique enhancer"
   ]
  },
  {
   "cell_type": "code",
   "execution_count": 81,
   "id": "a2bbc7d7",
   "metadata": {},
   "outputs": [],
   "source": [
    "import matplotlib.pyplot as plt\n",
    "from matplotlib_venn import venn3"
   ]
  },
  {
   "cell_type": "code",
   "execution_count": 82,
   "id": "c6d0c6dd",
   "metadata": {
    "scrolled": false
   },
   "outputs": [
    {
     "data": {
      "text/plain": [
       "<Figure size 1000x1000 with 0 Axes>"
      ]
     },
     "metadata": {},
     "output_type": "display_data"
    }
   ],
   "source": [
    "import matplotlib.pyplot as plt\n",
    "from matplotlib_venn import venn3\n",
    "\n",
    "set1 = set(chiaPet[7])\n",
    "set2 = set(distance[7])\n",
    "set3 = set(eqTL[7])\n",
    "fig =plt.figure(figsize=(10,10))\n",
    "\n",
    "venn3([set1, set2, set3], ('chiapet', 'distance', 'eqtl'))\n",
    "fig.suptitle('Venn diagram of unique Genes', fontsize=20)\n",
    "plt.savefig('AllGeneComparsion.png')\n",
    "plt.clf()"
   ]
  },
  {
   "cell_type": "code",
   "execution_count": 83,
   "id": "5cc9af25",
   "metadata": {},
   "outputs": [
    {
     "data": {
      "text/plain": [
       "<Figure size 1000x1000 with 0 Axes>"
      ]
     },
     "metadata": {},
     "output_type": "display_data"
    }
   ],
   "source": [
    "set1 = set(chiaPet[3])\n",
    "set2 = set(distance[3])\n",
    "set3 = set(eqTL[3])\n",
    "fig = plt.figure(figsize=(10,10))\n",
    "fig.suptitle('Venn diagram of number of unique Enhancer', fontsize=20)\n",
    "\n",
    "venn3([set1, set2, set3], ('chiapet', 'distance', 'eqtl'))\n",
    "plt.savefig('images/AllEnhancerComparsion.png')\n",
    "plt.clf()"
   ]
  },
  {
   "cell_type": "markdown",
   "id": "9c731616",
   "metadata": {},
   "source": [
    "Enhancer-Gene combination used"
   ]
  },
  {
   "cell_type": "code",
   "execution_count": 84,
   "id": "84489f77",
   "metadata": {},
   "outputs": [],
   "source": [
    "from collections import Counter\n"
   ]
  },
  {
   "cell_type": "code",
   "execution_count": 85,
   "id": "1aaa4bde",
   "metadata": {
    "scrolled": false
   },
   "outputs": [
    {
     "name": "stderr",
     "output_type": "stream",
     "text": [
      "/tmp/ipykernel_3726519/952520759.py:21: UserWarning: Legend does not support None instances.\n",
      "A proxy artist may be used instead.\n",
      "See: https://matplotlib.org/users/legend_guide.html#creating-artists-specifically-for-adding-to-the-legend-aka-proxy-artists\n",
      "  ax.legend(handles=h, labels=l, title=\"p-value\")\n"
     ]
    },
    {
     "data": {
      "text/plain": [
       "<Figure size 1000x1000 with 0 Axes>"
      ]
     },
     "metadata": {},
     "output_type": "display_data"
    }
   ],
   "source": [
    "set1 = set(chiaPet[10])\n",
    "set3 = set(distance[10])\n",
    "set2 = set(eqTL[10])\n",
    "sets = [set1,set2,set3]\n",
    "fig = plt.figure(figsize=(10,10))\n",
    "fig.suptitle('Venn diagram of number of unique Enhancer-Gene', fontsize=20)\n",
    "ax = plt.gca()\n",
    "v = venn3([set1, set2, set3], ('chiaPet', 'eqTL', 'distance'), ax = ax)\n",
    "h, l = [],[]\n",
    "for i in ['10','01','111']:\n",
    "    # remove label by setting them to empty string:\n",
    "    v.get_label_by_id(i).set_text(\"\")\n",
    "    # append patch to handles list\n",
    "    h.append(v.get_patch_by_id(i))\n",
    "    # append count to labels list\n",
    "\n",
    "l.append(chiaPet[8].mean())\n",
    "l.append(eqTL[8].mean())\n",
    "l.append(distance[8].mean())\n",
    "    # create legend from handles and labels    \n",
    "ax.legend(handles=h, labels=l, title=\"p-value\")\n",
    "\n",
    "plt.savefig('images/enhancerGeneVenn.png')\n",
    "plt.clf()"
   ]
  },
  {
   "cell_type": "code",
   "execution_count": 86,
   "id": "3f1502d9",
   "metadata": {
    "scrolled": false
   },
   "outputs": [
    {
     "data": {
      "text/plain": [
       "<AxesSubplot:>"
      ]
     },
     "execution_count": 86,
     "metadata": {},
     "output_type": "execute_result"
    },
    {
     "data": {
      "image/png": "[encoded data removed]",
      "text/plain": [
       "<Figure size 1170x827 with 1 Axes>"
      ]
     },
     "metadata": {},
     "output_type": "display_data"
    }
   ],
   "source": [
    "sns.set(rc={'figure.figsize':(11.7,8.27)})\n",
    "\n",
    "sns.lineplot(data=k)\n"
   ]
  },
  {
   "cell_type": "code",
   "execution_count": 87,
   "id": "b176971f",
   "metadata": {},
   "outputs": [],
   "source": [
    "from matplotlib_venn import venn2"
   ]
  },
  {
   "cell_type": "code",
   "execution_count": 88,
   "id": "02660e4d",
   "metadata": {},
   "outputs": [
    {
     "data": {
      "image/png": "[encoded data removed]",
      "text/plain": [
       "<Figure size 1000x1000 with 1 Axes>"
      ]
     },
     "metadata": {},
     "output_type": "display_data"
    },
    {
     "data": {
      "text/plain": [
       "<Figure size 1170x827 with 0 Axes>"
      ]
     },
     "metadata": {},
     "output_type": "display_data"
    }
   ],
   "source": [
    "set1 = set(chiaPet[10])\n",
    "set2 = set(distance[10])\n",
    "set3 = set(eqTL[10])\n",
    "fig = plt.figure(figsize=(10,10))\n",
    "fig.suptitle('Venn diagram of number of unique Enhancer', fontsize=20)\n",
    "\n",
    "ax = venn2([set1,  set3], ('chiapet',  'eqtl'))\n",
    "plt.show()\n",
    "plt.savefig('images/enhancerchiaPetEQTL.png')\n",
    "plt.clf()"
   ]
  },
  {
   "cell_type": "code",
   "execution_count": 89,
   "id": "f979f160",
   "metadata": {},
   "outputs": [
    {
     "data": {
      "text/html": [
       "<div>\n",
       "<style scoped>\n",
       "    .dataframe tbody tr th:only-of-type {\n",
       "        vertical-align: middle;\n",
       "    }\n",
       "\n",
       "    .dataframe tbody tr th {\n",
       "        vertical-align: top;\n",
       "    }\n",
       "\n",
       "    .dataframe thead th {\n",
       "        text-align: right;\n",
       "    }\n",
       "</style>\n",
       "<table border=\"1\" class=\"dataframe\">\n",
       "  <thead>\n",
       "    <tr style=\"text-align: right;\">\n",
       "      <th></th>\n",
       "      <th>0</th>\n",
       "      <th>1</th>\n",
       "      <th>2</th>\n",
       "      <th>3</th>\n",
       "      <th>4</th>\n",
       "      <th>5</th>\n",
       "      <th>6</th>\n",
       "      <th>7</th>\n",
       "      <th>8</th>\n",
       "      <th>9</th>\n",
       "      <th>10</th>\n",
       "    </tr>\n",
       "  </thead>\n",
       "  <tbody>\n",
       "    <tr>\n",
       "      <th>0</th>\n",
       "      <td>chr1</td>\n",
       "      <td>2390324</td>\n",
       "      <td>2390672</td>\n",
       "      <td>EH38E2778851</td>\n",
       "      <td>chr1</td>\n",
       "      <td>2212523</td>\n",
       "      <td>2220738</td>\n",
       "      <td>ENSG00000234396</td>\n",
       "      <td>0.59</td>\n",
       "      <td>chiaPet</td>\n",
       "      <td>EH38E2778851-ENSG00000234396</td>\n",
       "    </tr>\n",
       "    <tr>\n",
       "      <th>1</th>\n",
       "      <td>chr1</td>\n",
       "      <td>2391031</td>\n",
       "      <td>2391362</td>\n",
       "      <td>EH38E2778853</td>\n",
       "      <td>chr1</td>\n",
       "      <td>2212523</td>\n",
       "      <td>2220738</td>\n",
       "      <td>ENSG00000234396</td>\n",
       "      <td>0.59</td>\n",
       "      <td>chiaPet</td>\n",
       "      <td>EH38E2778853-ENSG00000234396</td>\n",
       "    </tr>\n",
       "    <tr>\n",
       "      <th>2</th>\n",
       "      <td>chr1</td>\n",
       "      <td>2391520</td>\n",
       "      <td>2391869</td>\n",
       "      <td>EH38E2778854</td>\n",
       "      <td>chr1</td>\n",
       "      <td>2212523</td>\n",
       "      <td>2220738</td>\n",
       "      <td>ENSG00000234396</td>\n",
       "      <td>0.59</td>\n",
       "      <td>chiaPet</td>\n",
       "      <td>EH38E2778854-ENSG00000234396</td>\n",
       "    </tr>\n",
       "    <tr>\n",
       "      <th>3</th>\n",
       "      <td>chr1</td>\n",
       "      <td>2391934</td>\n",
       "      <td>2392163</td>\n",
       "      <td>EH38E2778855</td>\n",
       "      <td>chr1</td>\n",
       "      <td>2212523</td>\n",
       "      <td>2220738</td>\n",
       "      <td>ENSG00000234396</td>\n",
       "      <td>0.59</td>\n",
       "      <td>chiaPet</td>\n",
       "      <td>EH38E2778855-ENSG00000234396</td>\n",
       "    </tr>\n",
       "    <tr>\n",
       "      <th>4</th>\n",
       "      <td>chr1</td>\n",
       "      <td>2392260</td>\n",
       "      <td>2392499</td>\n",
       "      <td>EH38E2778856</td>\n",
       "      <td>chr1</td>\n",
       "      <td>2212523</td>\n",
       "      <td>2220738</td>\n",
       "      <td>ENSG00000234396</td>\n",
       "      <td>0.59</td>\n",
       "      <td>chiaPet</td>\n",
       "      <td>EH38E2778856-ENSG00000234396</td>\n",
       "    </tr>\n",
       "  </tbody>\n",
       "</table>\n",
       "</div>"
      ],
      "text/plain": [
       "     0        1        2             3     4        5        6   \\\n",
       "0  chr1  2390324  2390672  EH38E2778851  chr1  2212523  2220738   \n",
       "1  chr1  2391031  2391362  EH38E2778853  chr1  2212523  2220738   \n",
       "2  chr1  2391520  2391869  EH38E2778854  chr1  2212523  2220738   \n",
       "3  chr1  2391934  2392163  EH38E2778855  chr1  2212523  2220738   \n",
       "4  chr1  2392260  2392499  EH38E2778856  chr1  2212523  2220738   \n",
       "\n",
       "                7     8        9                             10  \n",
       "0  ENSG00000234396  0.59  chiaPet  EH38E2778851-ENSG00000234396  \n",
       "1  ENSG00000234396  0.59  chiaPet  EH38E2778853-ENSG00000234396  \n",
       "2  ENSG00000234396  0.59  chiaPet  EH38E2778854-ENSG00000234396  \n",
       "3  ENSG00000234396  0.59  chiaPet  EH38E2778855-ENSG00000234396  \n",
       "4  ENSG00000234396  0.59  chiaPet  EH38E2778856-ENSG00000234396  "
      ]
     },
     "execution_count": 89,
     "metadata": {},
     "output_type": "execute_result"
    }
   ],
   "source": [
    "chiaPet.head()"
   ]
  },
  {
   "cell_type": "code",
   "execution_count": 90,
   "id": "fb736beb",
   "metadata": {},
   "outputs": [],
   "source": [
    "from collections import Counter"
   ]
  },
  {
   "cell_type": "code",
   "execution_count": 91,
   "id": "261e23e7",
   "metadata": {},
   "outputs": [],
   "source": [
    " df1 = dict(Counter(chiaPet[3]))"
   ]
  },
  {
   "cell_type": "code",
   "execution_count": 92,
   "id": "4c3a4800",
   "metadata": {},
   "outputs": [],
   "source": [
    " df2 = dict(Counter(distance[3]))"
   ]
  },
  {
   "cell_type": "code",
   "execution_count": 93,
   "id": "4454c8d3",
   "metadata": {},
   "outputs": [],
   "source": [
    "df3 = dict(Counter(eqTL[3]))"
   ]
  },
  {
   "cell_type": "code",
   "execution_count": 94,
   "id": "f081e473",
   "metadata": {},
   "outputs": [],
   "source": [
    "newdf =  pd.DataFrame.from_dict(df1, orient=\"index\").reset_index()"
   ]
  },
  {
   "cell_type": "code",
   "execution_count": 95,
   "id": "896a841d",
   "metadata": {},
   "outputs": [],
   "source": [
    "newdf=newdf.rename(columns={0: 'repetitions'})"
   ]
  },
  {
   "cell_type": "code",
   "execution_count": 96,
   "id": "25bd3c64",
   "metadata": {},
   "outputs": [],
   "source": [
    "newdf[1]= 'chiaPet'"
   ]
  },
  {
   "cell_type": "code",
   "execution_count": 97,
   "id": "17d63b6f",
   "metadata": {
    "scrolled": true
   },
   "outputs": [
    {
     "data": {
      "text/html": [
       "<div>\n",
       "<style scoped>\n",
       "    .dataframe tbody tr th:only-of-type {\n",
       "        vertical-align: middle;\n",
       "    }\n",
       "\n",
       "    .dataframe tbody tr th {\n",
       "        vertical-align: top;\n",
       "    }\n",
       "\n",
       "    .dataframe thead th {\n",
       "        text-align: right;\n",
       "    }\n",
       "</style>\n",
       "<table border=\"1\" class=\"dataframe\">\n",
       "  <thead>\n",
       "    <tr style=\"text-align: right;\">\n",
       "      <th></th>\n",
       "      <th>index</th>\n",
       "      <th>repetitions</th>\n",
       "      <th>1</th>\n",
       "    </tr>\n",
       "  </thead>\n",
       "  <tbody>\n",
       "    <tr>\n",
       "      <th>0</th>\n",
       "      <td>EH38E2778851</td>\n",
       "      <td>2</td>\n",
       "      <td>chiaPet</td>\n",
       "    </tr>\n",
       "    <tr>\n",
       "      <th>1</th>\n",
       "      <td>EH38E2778853</td>\n",
       "      <td>2</td>\n",
       "      <td>chiaPet</td>\n",
       "    </tr>\n",
       "    <tr>\n",
       "      <th>2</th>\n",
       "      <td>EH38E2778854</td>\n",
       "      <td>2</td>\n",
       "      <td>chiaPet</td>\n",
       "    </tr>\n",
       "    <tr>\n",
       "      <th>3</th>\n",
       "      <td>EH38E2778855</td>\n",
       "      <td>2</td>\n",
       "      <td>chiaPet</td>\n",
       "    </tr>\n",
       "    <tr>\n",
       "      <th>4</th>\n",
       "      <td>EH38E2778856</td>\n",
       "      <td>2</td>\n",
       "      <td>chiaPet</td>\n",
       "    </tr>\n",
       "  </tbody>\n",
       "</table>\n",
       "</div>"
      ],
      "text/plain": [
       "          index  repetitions        1\n",
       "0  EH38E2778851            2  chiaPet\n",
       "1  EH38E2778853            2  chiaPet\n",
       "2  EH38E2778854            2  chiaPet\n",
       "3  EH38E2778855            2  chiaPet\n",
       "4  EH38E2778856            2  chiaPet"
      ]
     },
     "execution_count": 97,
     "metadata": {},
     "output_type": "execute_result"
    }
   ],
   "source": [
    "newdf.head()"
   ]
  },
  {
   "cell_type": "code",
   "execution_count": null,
   "id": "509336a1",
   "metadata": {},
   "outputs": [],
   "source": []
  },
  {
   "cell_type": "code",
   "execution_count": 98,
   "id": "7cee1e28",
   "metadata": {
    "scrolled": true
   },
   "outputs": [],
   "source": [
    "newdf_distance =  pd.DataFrame.from_dict(df2, orient=\"index\").reset_index()"
   ]
  },
  {
   "cell_type": "code",
   "execution_count": null,
   "id": "9b62fb64",
   "metadata": {},
   "outputs": [],
   "source": []
  },
  {
   "cell_type": "code",
   "execution_count": 99,
   "id": "e286fc10",
   "metadata": {},
   "outputs": [],
   "source": [
    "newdf_distance = newdf_distance.rename(columns={0: 'repetitions'})"
   ]
  },
  {
   "cell_type": "code",
   "execution_count": 100,
   "id": "5345b32a",
   "metadata": {},
   "outputs": [],
   "source": [
    "newdf_distance[1]= 'distance'"
   ]
  },
  {
   "cell_type": "code",
   "execution_count": 101,
   "id": "dae05ace",
   "metadata": {},
   "outputs": [
    {
     "data": {
      "text/html": [
       "<div>\n",
       "<style scoped>\n",
       "    .dataframe tbody tr th:only-of-type {\n",
       "        vertical-align: middle;\n",
       "    }\n",
       "\n",
       "    .dataframe tbody tr th {\n",
       "        vertical-align: top;\n",
       "    }\n",
       "\n",
       "    .dataframe thead th {\n",
       "        text-align: right;\n",
       "    }\n",
       "</style>\n",
       "<table border=\"1\" class=\"dataframe\">\n",
       "  <thead>\n",
       "    <tr style=\"text-align: right;\">\n",
       "      <th></th>\n",
       "      <th>index</th>\n",
       "      <th>repetitions</th>\n",
       "      <th>1</th>\n",
       "    </tr>\n",
       "  </thead>\n",
       "  <tbody>\n",
       "    <tr>\n",
       "      <th>0</th>\n",
       "      <td>EH38E2776520</td>\n",
       "      <td>1</td>\n",
       "      <td>distance</td>\n",
       "    </tr>\n",
       "    <tr>\n",
       "      <th>1</th>\n",
       "      <td>EH38E2776521</td>\n",
       "      <td>1</td>\n",
       "      <td>distance</td>\n",
       "    </tr>\n",
       "    <tr>\n",
       "      <th>2</th>\n",
       "      <td>EH38E2776522</td>\n",
       "      <td>1</td>\n",
       "      <td>distance</td>\n",
       "    </tr>\n",
       "    <tr>\n",
       "      <th>3</th>\n",
       "      <td>EH38E2776523</td>\n",
       "      <td>1</td>\n",
       "      <td>distance</td>\n",
       "    </tr>\n",
       "    <tr>\n",
       "      <th>4</th>\n",
       "      <td>EH38E2776524</td>\n",
       "      <td>1</td>\n",
       "      <td>distance</td>\n",
       "    </tr>\n",
       "  </tbody>\n",
       "</table>\n",
       "</div>"
      ],
      "text/plain": [
       "          index  repetitions         1\n",
       "0  EH38E2776520            1  distance\n",
       "1  EH38E2776521            1  distance\n",
       "2  EH38E2776522            1  distance\n",
       "3  EH38E2776523            1  distance\n",
       "4  EH38E2776524            1  distance"
      ]
     },
     "execution_count": 101,
     "metadata": {},
     "output_type": "execute_result"
    }
   ],
   "source": [
    "newdf_distance.head()"
   ]
  },
  {
   "cell_type": "code",
   "execution_count": 102,
   "id": "05db0140",
   "metadata": {},
   "outputs": [],
   "source": [
    "newdf_eqtl =  pd.DataFrame.from_dict(df3, orient=\"index\").reset_index()"
   ]
  },
  {
   "cell_type": "code",
   "execution_count": 103,
   "id": "83fd7965",
   "metadata": {},
   "outputs": [],
   "source": [
    "newdf_eqtl = newdf_eqtl.rename(columns={0: 'repetitions'})"
   ]
  },
  {
   "cell_type": "code",
   "execution_count": 104,
   "id": "60e37a68",
   "metadata": {},
   "outputs": [],
   "source": [
    "newdf_eqtl[1]= 'eqtl'"
   ]
  },
  {
   "cell_type": "code",
   "execution_count": null,
   "id": "9cefb262",
   "metadata": {},
   "outputs": [],
   "source": []
  },
  {
   "cell_type": "code",
   "execution_count": 105,
   "id": "4aa4942e",
   "metadata": {},
   "outputs": [],
   "source": [
    "del(df1)\n",
    "del(df2)\n",
    "del(df3)\n",
    "del(chiaPet)\n",
    "del(distance)\n",
    "del(eqTL)"
   ]
  },
  {
   "cell_type": "code",
   "execution_count": 107,
   "id": "0517657f",
   "metadata": {
    "scrolled": false
   },
   "outputs": [
    {
     "data": {
      "image/png": "[encoded data removed]",
      "text/plain": [
       "<Figure size 1170x827 with 1 Axes>"
      ]
     },
     "metadata": {},
     "output_type": "display_data"
    }
   ],
   "source": [
    "fig22 = sns.histplot(data=newdf, x='repetitions')\n",
    "\n",
    "chiapetFig = fig22.get_figure()\n",
    "chiapetFig.suptitle('Histogram for chiapet of repetitions of Enhancer-Gene', fontsize=20)\n",
    "\n",
    "chiapetFig.savefig(\"images/chiapetHisto.png\") "
   ]
  },
  {
   "cell_type": "code",
   "execution_count": 108,
   "id": "2c03cedd",
   "metadata": {
    "scrolled": true
   },
   "outputs": [
    {
     "data": {
      "text/plain": [
       "index          2485\n",
       "repetitions    2485\n",
       "1              2485\n",
       "dtype: int64"
      ]
     },
     "execution_count": 108,
     "metadata": {},
     "output_type": "execute_result"
    }
   ],
   "source": [
    "newdf_distance[newdf_distance.repetitions  > 1].count()"
   ]
  },
  {
   "cell_type": "code",
   "execution_count": 109,
   "id": "c4de15c7",
   "metadata": {
    "scrolled": true
   },
   "outputs": [
    {
     "data": {
      "text/html": [
       "<div>\n",
       "<style scoped>\n",
       "    .dataframe tbody tr th:only-of-type {\n",
       "        vertical-align: middle;\n",
       "    }\n",
       "\n",
       "    .dataframe tbody tr th {\n",
       "        vertical-align: top;\n",
       "    }\n",
       "\n",
       "    .dataframe thead th {\n",
       "        text-align: right;\n",
       "    }\n",
       "</style>\n",
       "<table border=\"1\" class=\"dataframe\">\n",
       "  <thead>\n",
       "    <tr style=\"text-align: right;\">\n",
       "      <th></th>\n",
       "      <th>index</th>\n",
       "      <th>repetitions</th>\n",
       "      <th>1</th>\n",
       "    </tr>\n",
       "  </thead>\n",
       "  <tbody>\n",
       "    <tr>\n",
       "      <th>0</th>\n",
       "      <td>EH38E2776520</td>\n",
       "      <td>1</td>\n",
       "      <td>distance</td>\n",
       "    </tr>\n",
       "    <tr>\n",
       "      <th>1</th>\n",
       "      <td>EH38E2776521</td>\n",
       "      <td>1</td>\n",
       "      <td>distance</td>\n",
       "    </tr>\n",
       "    <tr>\n",
       "      <th>2</th>\n",
       "      <td>EH38E2776522</td>\n",
       "      <td>1</td>\n",
       "      <td>distance</td>\n",
       "    </tr>\n",
       "    <tr>\n",
       "      <th>3</th>\n",
       "      <td>EH38E2776523</td>\n",
       "      <td>1</td>\n",
       "      <td>distance</td>\n",
       "    </tr>\n",
       "    <tr>\n",
       "      <th>4</th>\n",
       "      <td>EH38E2776524</td>\n",
       "      <td>1</td>\n",
       "      <td>distance</td>\n",
       "    </tr>\n",
       "  </tbody>\n",
       "</table>\n",
       "</div>"
      ],
      "text/plain": [
       "          index  repetitions         1\n",
       "0  EH38E2776520            1  distance\n",
       "1  EH38E2776521            1  distance\n",
       "2  EH38E2776522            1  distance\n",
       "3  EH38E2776523            1  distance\n",
       "4  EH38E2776524            1  distance"
      ]
     },
     "execution_count": 109,
     "metadata": {},
     "output_type": "execute_result"
    }
   ],
   "source": [
    "newdf_distance.head()"
   ]
  },
  {
   "cell_type": "code",
   "execution_count": 110,
   "id": "c1ebbb50",
   "metadata": {
    "scrolled": false
   },
   "outputs": [
    {
     "data": {
      "text/plain": [
       "<Figure size 1170x827 with 0 Axes>"
      ]
     },
     "metadata": {},
     "output_type": "display_data"
    }
   ],
   "source": [
    "fig223=sns.histplot(data=newdf_distance, x='repetitions',bins=5)\n",
    "\n",
    "distanceFig = fig223.get_figure()\n",
    "distanceFig.suptitle('Histogram for Distance of repetitions of Enhancer-Gene', fontsize=20)\n",
    "\n",
    "distanceFig.savefig(\"images/distanceHisto.png\") \n",
    "distanceFig.figure.clf()"
   ]
  },
  {
   "cell_type": "code",
   "execution_count": 112,
   "id": "fcb3bfdb",
   "metadata": {
    "scrolled": false
   },
   "outputs": [
    {
     "data": {
      "text/plain": [
       "<Figure size 1170x827 with 0 Axes>"
      ]
     },
     "metadata": {},
     "output_type": "display_data"
    }
   ],
   "source": [
    "fig228 = sns.histplot(data=newdf_eqtl, x='repetitions')\n",
    "eqtlFig = fig228.get_figure()\n",
    "eqtlFig.suptitle('Histogram for Distance of repetitions of Enhancer-Gene', fontsize=20)\n",
    "\n",
    "eqtlFig.savefig(\"images/eqtlHisto.png\") \n",
    "eqtlFig.figure.clf()\n"
   ]
  },
  {
   "cell_type": "code",
   "execution_count": null,
   "id": "7e201e80",
   "metadata": {},
   "outputs": [],
   "source": []
  },
  {
   "cell_type": "markdown",
   "id": "6883e2e7",
   "metadata": {},
   "source": [
    "# P value analysis(common sets)\n",
    "# distance as qualitative in distance method\n",
    "# P value display on diagram\n",
    "# filter more data (remove dots)"
   ]
  }
 ],
 "metadata": {
  "kernelspec": {
   "display_name": "Python 3 (ipykernel)",
   "language": "python",
   "name": "python3"
  },
  "language_info": {
   "codemirror_mode": {
    "name": "ipython",
    "version": 3
   },
   "file_extension": ".py",
   "mimetype": "text/x-python",
   "name": "python",
   "nbconvert_exporter": "python",
   "pygments_lexer": "ipython3",
   "version": "3.9.13"
  }
 },
 "nbformat": 4,
 "nbformat_minor": 5
}
